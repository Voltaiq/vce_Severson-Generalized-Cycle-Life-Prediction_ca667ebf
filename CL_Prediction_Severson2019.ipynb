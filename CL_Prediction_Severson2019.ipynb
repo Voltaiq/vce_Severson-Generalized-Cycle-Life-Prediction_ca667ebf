{
 "cells": [
  {
   "cell_type": "markdown",
   "id": "75f2829e-9166-4809-a277-94d376dbb06f",
   "metadata": {},
   "source": [
    "# Cycle Life Prediction: Generalized Severson Analysis\n",
    "\n",
    "This notebook generalizes the analysis presented in Severson's 2019 Nature Energy paper for cycle life prediction from the first 100 cycles of test data.\n",
    "\n",
    "Through a series of widgets, users can select any number of Train and Test datasets from the Voltaiq Community server, featurize those datasets based on generalizations of the features in Severson et al, train and test the Severson Variance and/or Discharge models on the Train/Test datasets, evaluate model performance, and predict cycle life for any number of Prediction datasets of interest.\n",
    "\n",
    "### Inputs:\n",
    "- **Model(s):** Users can select which models they would like to evaluate. We currently offer comparisons between the Severson Variance, Severson Discharge and Dummy models, but will continue to add in additional models from the literature. We also plan to allow users to specify their own models in the future.\n",
    "    - Once a model is selected, users can Train and Test their models, including showing parity plots, RMSE and MAPE performance plots for their selected model(s).\n",
    "- **Featurization inputs:** The train and test data will be featurized based on the Severson models, with the following nuances:\n",
    "    - Rather than using a hard-coded reference capacity for 80% capacity retention, we allow for a flexible capacity retention threshold based on the initial capacity of a test. Instead of choosing the first cycle to drop below the capacity retention threshold, we choose the first cycle to do so within a sequence of 5 consecutive cycles; this provides some robustness against noise/fluctuations\n",
    "    - A user also inputs the `start` and `end` cycles for which to perform the differencing for the voltage vs capacity data. The default is cycles 9 and 99 to correspond with the Severson analysis (note that Voltaiq uses zero-indexing on cycles as a default, unless they are explicitly specified in an input file). Note that all tests within the Train and Test datasets must include these two cycles.\n",
    "    - A cycle number must also be given from which to calculate reference capacity. The current script implementation allows a user to choose a cycle ordinal from which to calculate a reference capacity. The Severson model used cell nominal capacity as a reference capacity; however this is not known for each dataset on Voltaiq Community. Thus, a reference capacity based on the cycling data is chosen instead. Currently this cycle number must be the same for all datasets used for the model. A fixed reference cycle choice requires a user to have some information about what cycle to choose – the default ordinal is cycle 20 as that works for the curated datasets provided with this script.\n",
    "    - Voltage vs capacity data is still interpolated between the min and max values for each test record; note that the features based on a specific voltage cutoff are no longer applicable\n",
    "- **Train dataset:** Data which will be used to train the ML model(s) you choose. Choose from a number of curated publicly-available datasets, and/or choose custom data based on a test name search criteria\n",
    "    - Tests must include the same `start` and `end` cycle for the analysis range and tests should also obtain the expected end capacity retention %. If tests do not contain the `start` and `end`cycles, the code will throw an error. If tests do not meet the expected capacity retention %, those tests will be excluded from the Train and Test featurization and model evaluation.\n",
    "    - We provide an option for filtering data based on a minimum cycle count, as well as the set capacity retention threshold. Filtering by capacity retention threshold can be slow, so should be used in conjunction with a cycle number and/or test name filter.\n",
    "- **Test dataset:** Data which will be used to test (evaluate the performance) of the ML model(s) you choose. You may either choose to perform a train-test split (with a configurable split ratio) on the Train dataset, or manually choose data in a manner similar to how you chose the Train dataset.\n",
    "- **Prediction dataset:** After a model is trained and evaluated on the test dataset, users can select a Prediction dataset, and use the ML model(s) of their choice to predict the cycle life of this new dataset. Again, users can select from a curated list or choose a custom dataset based on a test name search criteria.\n",
    "    \n",
    "\n",
    "### Outputs:\n",
    "- Train/Test parity plots, RMSE, MAPE performance plots\n",
    "- The prediction step will generate a bar chart comparing the predicted cycle life for each model for each test record within the dataset, as well as the current (last) cycle of that test record\n",
    "- All train/test results can be accessed through methods and attributes of the CL_prediction class. Further exploration of the data results is possible using the resulting dataframes.\n",
    "\n",
    "### Recommended datasets:\n",
    "The Severson models were developed on fast-charge LFP cycling data. The Variance model contains a single feature based on the variance of the difference between voltage vs capacity curves of two cycles (`start` and `end`). It is likely that these ML models are degradation mode specific. Since the expected degradation mode of the original dataset focused on loss of active material of the negative electrode, cells which have that degradation mode might show better fits. Additionally, it is recommended that similar discharge protocols and cut-off voltages are used for comparison/calculate purposes for the datasets. This is because the features are calculated based on discharge steps, and data is interpolated between the upper and lower cutoff voltages. Significantly different cycling protocols might not allow the ML model to capture the appropriate feature signatures.\n",
    "\n",
    "#### References: \n",
    "[Schauser Nicole S., Lininger Christianna N., Leland Eli S., Sholklapper Tal Z. An open access tool for exploring machine learning model choice for battery life cycle prediction. Frontiers in Energy Research, 10 (2022) DOI: 10.3389/fenrg.2022.1058999](https://www.frontiersin.org/articles/10.3389/fenrg.2022.1058999)\n",
    "\n",
    "[Severson et al. Data-driven prediction of battery cycle life before capacity degradation. Nature Energy volume 4, pages 383–391 (2019)](https://www.nature.com/articles/s41560-019-0356-8)\n"
   ]
  },
  {
   "cell_type": "markdown",
   "id": "b9c458aa-23bd-4ec2-ba12-ff746614d4be",
   "metadata": {},
   "source": [
    "### Model uncertainty / prediction intervals\n",
    "It is important to not only be able to look at a model's error during the training process, but also be able to estimate or identify the model uncertainty for a new prediction. This can be identified for every new prediction using a model's prediction interval.\n",
    "\n",
    "There are a few ways to obtain the prediction intervals. For linear regression, these can be computed analytically. For other models, they are inherently included in the model framework (e.g. Bayesian approaches such as [Bayesian Ridge Regression](https://scikit-learn.org/stable/modules/generated/sklearn.linear_model.BayesianRidge.html), [Gaussian Process Regression](https://scikit-learn.org/stable/modules/generated/sklearn.gaussian_process.GaussianProcessRegressor.html) and [Gradient Boosting Regression](https://scikit-learn.org/stable/auto_examples/ensemble/plot_gradient_boosting_quantile.html)). Lastly, there are options for computing the prediction uncertainty using python packages such as [MAPIE](https://github.com/scikit-learn-contrib/MAPIE), which stands for \"Model Agnostic Prediction Interval Estimator\". A good tutorial on using MAPIE for tabular regression (as is the case for cycle life prediciton) can be found in their [documentation](https://mapie.readthedocs.io/en/latest/examples_regression/4-tutorials/plot_main-tutorial-regression.html). The benefits of this approach is that it can be used for any sklearn-compatible regressor, making it a powerful option when trying to compare multiple models!\n",
    "\n",
    "The MAPIE output provides both the prediction value obtained by a model (i.e. the cycle life predicted by a model for a specific input cell), as well as a prediction interval given by a lower and upper bound. This prediction interval provides the bounds for the expected error or noise on the prediction, such that the 'true' value is expected to fall within the prediction interval with `(100-alpha)`% coverage (that is, in `(100-alpha)`% of the cases, we expect the 'true' value to fall within this interval). Note that `alpha` is a tunable parameter but is most commonly taken as `5`, such that we have a 95% prediction interval. Additional documentation on the implementation (in our cse we have chosen the CV+ method) can be found in the [documentation](https://mapie.readthedocs.io/en/latest/theoretical_description_regression.html), which also references the original publications.\n",
    "\n",
    "We have augmented this script (after the Frontiers in Energy Research 2022 publication) to include prediction intervals for both the Train/Test data (which can be accessed from the parity plots as well as from dataframes), and for prediction data. Initial inspiration was taken from this [blog post](https://www.valencekjell.com/posts/2022-09-14-prediction-intervals/)"
   ]
  },
  {
   "cell_type": "markdown",
   "id": "428cb539-22db-4147-a51c-bffe14e15b2a",
   "metadata": {
    "tags": []
   },
   "source": [
    "#### Imports and set-up"
   ]
  },
  {
   "cell_type": "code",
   "execution_count": 1,
   "id": "74cdff71-02e5-46bc-8420-19de6a17c9ba",
   "metadata": {},
   "outputs": [
    {
     "name": "stdout",
     "output_type": "stream",
     "text": [
      "Collecting xgboost\n",
      "  Using cached xgboost-1.7.3-py3-none-manylinux2014_x86_64.whl (193.6 MB)\n",
      "Requirement already satisfied: numpy in /opt/conda/lib/python3.9/site-packages (from xgboost) (1.22.2)\n",
      "Requirement already satisfied: scipy in /opt/conda/lib/python3.9/site-packages (from xgboost) (1.5.4)\n",
      "Installing collected packages: xgboost\n",
      "Successfully installed xgboost-1.7.3\n",
      "Note: you may need to restart the kernel to use updated packages.\n"
     ]
    }
   ],
   "source": [
    "pip install xgboost"
   ]
  },
  {
   "cell_type": "code",
   "execution_count": 2,
   "id": "86ff850c-8787-4c9d-a804-a7d5d9a3f931",
   "metadata": {},
   "outputs": [
    {
     "name": "stdout",
     "output_type": "stream",
     "text": [
      "Collecting mapie\n",
      "  Using cached MAPIE-0.6.0-py3-none-any.whl (98 kB)\n",
      "Requirement already satisfied: numpy>=1.21 in /opt/conda/lib/python3.9/site-packages (from mapie) (1.22.2)\n",
      "Requirement already satisfied: packaging in /opt/conda/lib/python3.9/site-packages (from mapie) (21.3)\n",
      "Requirement already satisfied: scikit-learn in /opt/conda/lib/python3.9/site-packages (from mapie) (1.0.2)\n",
      "Requirement already satisfied: pyparsing!=3.0.5,>=2.0.2 in /opt/conda/lib/python3.9/site-packages (from packaging->mapie) (2.4.7)\n",
      "Requirement already satisfied: joblib>=0.11 in /opt/conda/lib/python3.9/site-packages (from scikit-learn->mapie) (1.0.1)\n",
      "Requirement already satisfied: threadpoolctl>=2.0.0 in /opt/conda/lib/python3.9/site-packages (from scikit-learn->mapie) (2.2.0)\n",
      "Requirement already satisfied: scipy>=1.1.0 in /opt/conda/lib/python3.9/site-packages (from scikit-learn->mapie) (1.5.4)\n",
      "Installing collected packages: mapie\n",
      "Successfully installed mapie-0.6.0\n",
      "Note: you may need to restart the kernel to use updated packages.\n"
     ]
    }
   ],
   "source": [
    "pip install mapie"
   ]
  },
  {
   "cell_type": "code",
   "execution_count": 1,
   "id": "b0de99c1-618d-4d63-832c-00dc39ef78da",
   "metadata": {
    "tags": []
   },
   "outputs": [],
   "source": [
    "import voltaiq_studio as vs\n",
    "from voltaiq_studio import TraceFilterOperation\n",
    "\n",
    "import severson_featurization\n",
    "import ML_models\n",
    "import cl_widgets as cpw\n",
    "import importlib\n",
    "# importlib.reload(CL_prediction)\n",
    "importlib.reload(ML_models)\n",
    "importlib.reload(severson_featurization)\n",
    "importlib.reload(cpw)\n",
    "from CL_prediction import CLPrediction\n",
    "from severson_featurization import calc_X_and_y, drop_unfinished_tests\n",
    "\n",
    "import ipywidgets as widgets\n",
    "from ipywidgets import interactive, interact, fixed\n",
    "\n",
    "from IPython.display import display, Markdown\n",
    "\n",
    "import pickle\n",
    "from datetime import datetime\n",
    "\n",
    "import numpy as np\n",
    "import pandas as pd\n",
    "from scipy import stats\n",
    "import math\n",
    "\n",
    "import matplotlib.pyplot as plt\n",
    "import matplotlib as mpl\n",
    "from cycler import cycler\n",
    "import seaborn as sns\n",
    "\n",
    "# set a few default figure parameters\n",
    "mpl.rcParams['figure.figsize'] = (3,3)\n",
    "colors = ['#332288','#882255','#117733','#AA4499','#44AA99','#CC6677','#88CCEE','#DDCC77','#A3E8E7']\n",
    "\n",
    "mpl.rcParams['axes.prop_cycle'] = cycler(color=colors)\n",
    "fontsize = 6\n",
    "titlesize = 8\n",
    "mpl.rcParams['font.size'] = fontsize\n",
    "mpl.rcParams['legend.fontsize'] = fontsize\n",
    "mpl.rcParams['figure.titlesize'] = titlesize\n",
    "mpl.rcParams['axes.labelsize']=fontsize\n",
    "mpl.rcParams['lines.markersize'] = fontsize\n",
    "mpl.rcParams['figure.dpi'] = 150"
   ]
  },
  {
   "cell_type": "code",
   "execution_count": 7,
   "id": "c94e1a58-f04d-4012-8f73-46895043b5ad",
   "metadata": {
    "tags": []
   },
   "outputs": [],
   "source": [
    "trs = vs.get_test_records()"
   ]
  },
  {
   "cell_type": "markdown",
   "id": "deae3e61-2e6d-4137-bac3-769c4918e373",
   "metadata": {},
   "source": [
    "### User inputs: Select Model(s), Model Inputs, Train data and Test data"
   ]
  },
  {
   "cell_type": "code",
   "execution_count": 2,
   "id": "6283316e-3ca0-4e10-8a84-40cf0ad3834a",
   "metadata": {
    "tags": []
   },
   "outputs": [],
   "source": [
    "# we will start by instantiating a cycle life prediction object \n",
    "# which will store all relevant information for the datasets and models you will choose\n",
    "prediction1 = CLPrediction()"
   ]
  },
  {
   "cell_type": "markdown",
   "id": "e0791f61-6f3a-4a64-bc3b-b9da8e36c47f",
   "metadata": {},
   "source": [
    "#### Select Models"
   ]
  },
  {
   "cell_type": "code",
   "execution_count": 3,
   "id": "8b636a43-8f25-4713-8627-3875774b341f",
   "metadata": {},
   "outputs": [],
   "source": [
    "model_options = ['All','Dummy','Severson variance','Severson discharge','Severson discharge XGBoost']"
   ]
  },
  {
   "cell_type": "code",
   "execution_count": 4,
   "id": "fdfa589d-f343-4750-a32c-e427c9437c3d",
   "metadata": {},
   "outputs": [
    {
     "data": {
      "application/vnd.jupyter.widget-view+json": {
       "model_id": "c91736e097eb48539395763518be2afe",
       "version_major": 2,
       "version_minor": 0
      },
      "text/plain": [
       "interactive(children=(SelectMultiple(description='Choose ML model(s)', index=(0,), options=('All', 'Dummy', 'S…"
      ]
     },
     "metadata": {},
     "output_type": "display_data"
    }
   ],
   "source": [
    "choose_model = interactive(cpw.set_model, model_choice = widgets.SelectMultiple(options = model_options, value=['All'], description='Choose ML model(s)',style={'description_width': 'initial'},disabled=False), prediction_object = fixed(prediction1), model_options = fixed(model_options))\n",
    "display(choose_model)"
   ]
  },
  {
   "cell_type": "markdown",
   "id": "dfd4ff2a-ca02-40a4-a2ac-c9201d59cf61",
   "metadata": {},
   "source": [
    "#### Select Featurization Criteria"
   ]
  },
  {
   "cell_type": "code",
   "execution_count": 5,
   "id": "f3986297-750b-4fd0-b0c8-4774a0b2fdec",
   "metadata": {},
   "outputs": [
    {
     "data": {
      "application/vnd.jupyter.widget-view+json": {
       "model_id": "3fef0930064c4f6d8d30d413a641e2f3",
       "version_major": 2,
       "version_minor": 0
      },
      "text/plain": [
       "interactive(children=(IntText(value=20, description='Initial cycle: '), IntText(value=99, description='End cyc…"
      ]
     },
     "metadata": {},
     "output_type": "display_data"
    }
   ],
   "source": [
    "featurize = interactive(cpw.featurize_inputs_widget, start_cycle = widgets.IntText(value = 20, description = 'Initial cycle: ', disabled=False,continuous_update = False),\n",
    "                        end_cycle = widgets.IntText(value = 99, description = 'End cycle: ', disabled=False,continuous_update = False),\n",
    "                        per_cap_ret = widgets.BoundedFloatText(value = 85,min = 0, max = 100, step = 1, description = '% Capacity Retention:',style={'description_width': 'initial'}, disabled=False,continuous_update = False),\n",
    "                       prediction1 = fixed(prediction1),ref_cyc = widgets.BoundedFloatText(value = 20, min = 0, step = 1, description = \"Reference cycle for capacity normalization\",style={'description_width': 'initial'} ))\n",
    "display(featurize)"
   ]
  },
  {
   "cell_type": "markdown",
   "id": "e26d43da-eda7-4a1b-8169-046e3d4c2476",
   "metadata": {},
   "source": [
    "#### Select Training Dataset"
   ]
  },
  {
   "cell_type": "code",
   "execution_count": 8,
   "id": "be6d46d5-4a40-439f-948d-50d735070d15",
   "metadata": {
    "tags": []
   },
   "outputs": [
    {
     "data": {
      "text/markdown": [
       "#### Search for test records to add to Train dataset"
      ],
      "text/plain": [
       "<IPython.core.display.Markdown object>"
      ]
     },
     "metadata": {},
     "output_type": "display_data"
    },
    {
     "data": {
      "text/markdown": [
       "Filtering tests by capacity retention is slow; check kernel status for update on completion."
      ],
      "text/plain": [
       "<IPython.core.display.Markdown object>"
      ]
     },
     "metadata": {},
     "output_type": "display_data"
    },
    {
     "data": {
      "application/vnd.jupyter.widget-view+json": {
       "model_id": "770605a856cb4873b486c6748ee5ef38",
       "version_major": 2,
       "version_minor": 0
      },
      "text/plain": [
       "interactive(children=(SelectMultiple(description='Training Datasets:', options=('Severson2019 - All (LFP)', 'S…"
      ]
     },
     "metadata": {},
     "output_type": "display_data"
    }
   ],
   "source": [
    "display(Markdown(\"#### Search for test records to add to Train dataset\"))\n",
    "display(Markdown(\"Filtering tests by capacity retention is slow; check kernel status for update on completion.\"))\n",
    "# search_type = widgets.RadioButtons(options=['Test Name','Min Cycle Number','Both'],\n",
    "#                                     disabled=False)\n",
    "# Want to add in some search criteria here: min cycle number (if blank, ignore), min capacity retention\n",
    "\n",
    "select_train = interactive(cpw.select_widget, \n",
    "                           train_sets = widgets.SelectMultiple(value=[], options=cpw.std_train_datasets, description=f'Training Datasets:',style={'description_width': 'initial'}, ensure_option=True),\n",
    "                          train_or_test=fixed('train'), pred_obj = fixed(prediction1), trs = fixed(trs), predict_button = fixed(None))\n",
    "\n",
    "display(select_train)"
   ]
  },
  {
   "cell_type": "markdown",
   "id": "53752740-2364-49e6-94b2-2fb091343390",
   "metadata": {
    "tags": []
   },
   "source": [
    "#### Select Testing Dataset (or train-test-split ratio)"
   ]
  },
  {
   "cell_type": "code",
   "execution_count": 9,
   "id": "912f8c53-31a6-400f-b6f8-08acb719c5a1",
   "metadata": {
    "tags": []
   },
   "outputs": [
    {
     "data": {
      "application/vnd.jupyter.widget-view+json": {
       "model_id": "b4c9385c257048309c587fe3398a8dac",
       "version_major": 2,
       "version_minor": 0
      },
      "text/plain": [
       "interactive(children=(Dropdown(description='Test dataset selection method', layout=Layout(width='500px'), opti…"
      ]
     },
     "metadata": {},
     "output_type": "display_data"
    }
   ],
   "source": [
    "test_select_dropdown = interactive(cpw.test_select_method,method = widgets.Dropdown(options = ['Use train_test_split on training dataset','Select test dataset manually'], \n",
    "                                                                                value = None, description = 'Test dataset selection method', style={'description_width': 'initial'},\n",
    "                                                                                layout = widgets.Layout(width='500px')), prediction1 = fixed(prediction1), trs = fixed(trs),predict_button=fixed(None))\n",
    "display(test_select_dropdown)"
   ]
  },
  {
   "cell_type": "markdown",
   "id": "334f3dff-ba14-470d-9fcb-2616b1b5d549",
   "metadata": {},
   "source": [
    "#### Featurize the data"
   ]
  },
  {
   "cell_type": "code",
   "execution_count": 10,
   "id": "7c16a4b3-7ddc-42dc-81f3-54996b8e3a9e",
   "metadata": {
    "tags": []
   },
   "outputs": [
    {
     "data": {
      "application/vnd.jupyter.widget-view+json": {
       "model_id": "42896c000f1146c69bc142239c599a42",
       "version_major": 2,
       "version_minor": 0
      },
      "text/plain": [
       "Button(button_style='danger', description='Featurize data', style=ButtonStyle(button_color='#38adad'))"
      ]
     },
     "metadata": {},
     "output_type": "display_data"
    },
    {
     "data": {
      "application/vnd.jupyter.widget-view+json": {
       "model_id": "b0d615c6225e47ffa74991d0ed25d5b5",
       "version_major": 2,
       "version_minor": 0
      },
      "text/plain": [
       "Output()"
      ]
     },
     "metadata": {},
     "output_type": "display_data"
    }
   ],
   "source": [
    "output = widgets.Output()\n",
    "perform_featurize = widgets.Button(description = 'Featurize data', button_style = 'danger', style={\"button_color\": \"#38adad\"})\n",
    "\n",
    "display(perform_featurize, output)\n",
    "\n",
    "def featurize(b):\n",
    "    ''' function that will featurize the data'''\n",
    "    with output:\n",
    "        cpw.populate_test_train_data(prediction1, trs)\n",
    "        print(\"Starting featurization...\")\n",
    "        prediction1.featurize(trs)\n",
    "        print(\"Featurization complete!\")\n",
    "\n",
    "perform_featurize.on_click(featurize)"
   ]
  },
  {
   "cell_type": "markdown",
   "id": "5b7ef96b-1ff3-43cd-ae56-b9be5c9e39ed",
   "metadata": {},
   "source": [
    "#### Train & Test ML model(s)"
   ]
  },
  {
   "cell_type": "code",
   "execution_count": 11,
   "id": "78e6c60e-d820-4f12-a846-e1e17a9479a5",
   "metadata": {
    "tags": []
   },
   "outputs": [
    {
     "data": {
      "application/vnd.jupyter.widget-view+json": {
       "model_id": "068e864aaf8f466291ad2981a27e5499",
       "version_major": 2,
       "version_minor": 0
      },
      "text/plain": [
       "Button(button_style='danger', description='Train model', style=ButtonStyle(button_color='#38adad'))"
      ]
     },
     "metadata": {},
     "output_type": "display_data"
    },
    {
     "data": {
      "application/vnd.jupyter.widget-view+json": {
       "model_id": "5177364036d84f5e9f231c0fb4d72b71",
       "version_major": 2,
       "version_minor": 0
      },
      "text/plain": [
       "Button(button_style='danger', description='Test model', disabled=True, style=ButtonStyle(button_color='#38adad…"
      ]
     },
     "metadata": {},
     "output_type": "display_data"
    },
    {
     "data": {
      "application/vnd.jupyter.widget-view+json": {
       "model_id": "4a091af288674a9eb413d12d5bfa15b4",
       "version_major": 2,
       "version_minor": 0
      },
      "text/plain": [
       "Button(button_style='danger', description='Generate Parity Plots', disabled=True, style=ButtonStyle(button_col…"
      ]
     },
     "metadata": {},
     "output_type": "display_data"
    },
    {
     "data": {
      "application/vnd.jupyter.widget-view+json": {
       "model_id": "5595c9c6e82146779c83a7a22287e4b8",
       "version_major": 2,
       "version_minor": 0
      },
      "text/plain": [
       "Button(button_style='danger', description='Plot MAPE results', disabled=True, style=ButtonStyle(button_color='…"
      ]
     },
     "metadata": {},
     "output_type": "display_data"
    },
    {
     "data": {
      "application/vnd.jupyter.widget-view+json": {
       "model_id": "e2309a12d4bf4c0faf6fac99be1c3f47",
       "version_major": 2,
       "version_minor": 0
      },
      "text/plain": [
       "Button(button_style='danger', description='Plot RMSE results', disabled=True, style=ButtonStyle(button_color='…"
      ]
     },
     "metadata": {},
     "output_type": "display_data"
    },
    {
     "data": {
      "application/vnd.jupyter.widget-view+json": {
       "model_id": "57de8475824d4a49b610ad06d983cf6b",
       "version_major": 2,
       "version_minor": 0
      },
      "text/plain": [
       "Output()"
      ]
     },
     "metadata": {},
     "output_type": "display_data"
    }
   ],
   "source": [
    "train_model_button = widgets.Button(description = 'Train model', button_style = 'danger', style={\"button_color\": \"#38adad\"})\n",
    "test_button = widgets.Button(description = 'Test model', button_style = 'danger', style={\"button_color\": \"#38adad\"},disabled=True,)\n",
    "parity_button = widgets.Button(description = 'Generate Parity Plots', button_style = 'danger', style={\"button_color\": \"#38adad\"},disabled=True)\n",
    "MAPE_button = widgets.Button(description = 'Plot MAPE results', button_style = 'danger', style={\"button_color\": \"#38adad\"},disabled=True)\n",
    "RMSE_button = widgets.Button(description = 'Plot RMSE results', button_style = 'danger', style={\"button_color\": \"#38adad\"},disabled=True)\n",
    "\n",
    "\n",
    "output = widgets.Output()\n",
    "display(train_model_button, test_button,parity_button,MAPE_button,RMSE_button, output)\n",
    "\n",
    "def train_button(b):\n",
    "    with output:\n",
    "        prediction1.train_model()\n",
    "        test_button.disabled = False\n",
    "\n",
    "def test_click(b):\n",
    "    with output:\n",
    "        prediction1.test_predict()\n",
    "        parity_button.disabled = False\n",
    "        MAPE_button.disabled = False\n",
    "        RMSE_button.disabled = False\n",
    "        \n",
    "def parity_click(b):\n",
    "    with output:\n",
    "        prediction1.create_parity_plots()\n",
    "\n",
    "def mape_click(b):\n",
    "    with output:\n",
    "        prediction1.plot_model_stats('MAPE')\n",
    "        prediction1.plot_grouped_model_stats('MAPE')\n",
    "        \n",
    "def rmse_click(b):\n",
    "    with output:\n",
    "        prediction1.plot_model_stats('RMSE')\n",
    "        \n",
    "train_model_button.on_click(train_button)\n",
    "test_button.on_click(test_click)\n",
    "parity_button.on_click(parity_click)\n",
    "MAPE_button.on_click(mape_click)\n",
    "RMSE_button.on_click(rmse_click)"
   ]
  },
  {
   "cell_type": "markdown",
   "id": "655d5ce1-fe57-41a3-a3c1-98d0b705e84a",
   "metadata": {},
   "source": [
    "to do:\n",
    "1. add in print-out or tabular view of MAPE/RMSE and width of 95% prediction interval, as well as % coverage\n",
    "1. Add in error bars for the prediction bar charts\n",
    "1. Add in error bar information into the printout dataframes (e.g. prediction1.return_prediction_dataframes(train_vs_test))\n"
   ]
  },
  {
   "cell_type": "markdown",
   "id": "ae16bd1d-1451-45dc-9b55-62b69f2c327b",
   "metadata": {
    "tags": []
   },
   "source": [
    "### Model uncertainty / prediction intervals\n",
    "It is important to not only be able to look at a model's error during the training process, but also be able to estimate or identify the model uncertainty for a new prediction. This can be identified for every new prediction using a model's prediction interval.\n",
    "\n",
    "There are a few ways to obtain the prediction intervals. For linear regression, these can be computed analytically. For other models, they are inherently included in the model framework (e.g. Bayesian approaches such as [Bayesian Ridge Regression](https://scikit-learn.org/stable/modules/generated/sklearn.linear_model.BayesianRidge.html), [Gaussian Process Regression](https://scikit-learn.org/stable/modules/generated/sklearn.gaussian_process.GaussianProcessRegressor.html) and [Gradient Boosting Regress](https://scikit-learn.org/stable/auto_examples/ensemble/plot_gradient_boosting_quantile.html)). Lastly, there are options for computing the uncertainty (aka prediciton intervals) using python packages such as [MAPIE](https://github.com/scikit-learn-contrib/MAPIE), which stands for \"Model Agnostic Prediction Interval Estimator\". A good tutorial on using MAPIE for tabular regression (as is the case for cycle life prediciton) can be found in their [documentation](https://mapie.readthedocs.io/en/latest/examples_regression/4-tutorials/plot_main-tutorial-regression.html). The benefits of this approach is that it can be used for any sklearn-compatible regressor, making it a powerful option when trying to compare multiple models!\n",
    "\n",
    "We have augmented this script (after the ___ publication) to include prediction intervals for both the Train/Test data (which can be accessed from the parity plots as well as from dataframes), and for prediction data. Initial inspiration was taken from this [blog post](https://www.valencekjell.com/posts/2022-09-14-prediction-intervals/)"
   ]
  },
  {
   "cell_type": "markdown",
   "id": "156a9ea1-bb60-474d-b4c0-49ef635eb261",
   "metadata": {},
   "source": [
    "next step (for this afternoon): figure out how to store and plot the error bars, then compare how a mapie model performs relative to the non-mapie model. Then figure out how to add in the error estimate for every predicted datapoint."
   ]
  },
  {
   "cell_type": "code",
   "execution_count": null,
   "id": "28986dab-25ff-4649-9c3c-499af31fab66",
   "metadata": {},
   "outputs": [],
   "source": []
  },
  {
   "cell_type": "markdown",
   "id": "fcbdaf1d-9503-4538-84dc-2cb7f8316b18",
   "metadata": {},
   "source": [
    "#### Saving a model for future use\n",
    "The next section allows a user to save a trained model for use on predicitons in the future. Users must select the model(s) they would like to save, as well as names for those models. Models will be saved as pickle files which can be loaded back into python for futher use."
   ]
  },
  {
   "cell_type": "code",
   "execution_count": null,
   "id": "a8da7e4d-60a9-4797-ab64-c3bbbca400cd",
   "metadata": {},
   "outputs": [],
   "source": [
    "# save the entire prediction object. This includes all models and formatted data\n",
    "name = \"prediction_example\" + str(datetime.now())\n",
    "with open(name,'wb') as files:\n",
    "    pickle.dump(prediction1, files)"
   ]
  },
  {
   "cell_type": "code",
   "execution_count": null,
   "id": "5c42189a-7344-41bd-aa11-baf674a1d7fe",
   "metadata": {},
   "outputs": [],
   "source": [
    "# just save the models\n",
    "for model in prediction1.ml_model:\n",
    "    print(model)"
   ]
  },
  {
   "cell_type": "code",
   "execution_count": null,
   "id": "99e71ed9-c50f-4018-8f71-61aaeb9b3a4b",
   "metadata": {},
   "outputs": [],
   "source": [
    "# choose a model from the list and edit the model_to_save variable\n",
    "model_to_save = 'Severson variance'\n",
    "model_name = model_to_save + str(datetime.now())\n",
    "with open(model_name,'wb') as files:\n",
    "    pickle.dump(prediction1.trained_models[model_to_save], files)"
   ]
  },
  {
   "cell_type": "code",
   "execution_count": null,
   "id": "ccbcb3a0-8453-4c33-b194-d9318a8beb63",
   "metadata": {},
   "outputs": [],
   "source": [
    "# just save the featurized data:\n",
    "X_train, X_test, y_train, y_test = prediction1.get_featurized_data()\n",
    "data_dict = {'X_train':X_train,' X_test':X_test, 'y_train':y_train, 'y_test':y_test}\n",
    "data_name = \"prediction_data\" + str(datetime.now())\n",
    "with open(data_name,'wb') as files:\n",
    "    pickle.dump(data_dict, files)"
   ]
  },
  {
   "cell_type": "markdown",
   "id": "12ef376f-45fc-49c3-88f6-be9c03db3be3",
   "metadata": {},
   "source": [
    "To load in a prediction object, use the following code block:"
   ]
  },
  {
   "cell_type": "code",
   "execution_count": null,
   "id": "86811b22-28cc-4c76-b621-315662be67d8",
   "metadata": {},
   "outputs": [],
   "source": [
    "load_name = name\n",
    "with open(load_name, \"rb\") as f:\n",
    "    prediction_load = pickle.load(f)"
   ]
  },
  {
   "cell_type": "code",
   "execution_count": null,
   "id": "311ab6d4-2013-4345-9d58-83ad4db7655b",
   "metadata": {},
   "outputs": [],
   "source": [
    "# we can examine the prediction object by creating the parity plots, for example\n",
    "prediction_load.create_parity_plots()"
   ]
  },
  {
   "cell_type": "markdown",
   "id": "ae9679a8-111e-40ab-ad21-2ef67fc34411",
   "metadata": {},
   "source": [
    "Similar code can be used for models or data:"
   ]
  },
  {
   "cell_type": "code",
   "execution_count": null,
   "id": "1ccbae62-41d5-4d7e-9c54-cc9f362ea644",
   "metadata": {},
   "outputs": [],
   "source": [
    "load_name = model_name\n",
    "with open(load_name, \"rb\") as f:\n",
    "    model_load = pickle.load(f)"
   ]
  },
  {
   "cell_type": "code",
   "execution_count": null,
   "id": "c60181b8-68b1-4386-8971-5d70110a37f9",
   "metadata": {},
   "outputs": [],
   "source": [
    "load_name = data_name\n",
    "with open(load_name, \"rb\") as f:\n",
    "    data_load = pickle.load(f)\n",
    "data_load['X_train'].head()"
   ]
  },
  {
   "cell_type": "markdown",
   "id": "100b82a7-afe1-4bbc-801a-349a091b7a68",
   "metadata": {},
   "source": [
    "With the next block of code, a user can set the loaded model to be the model used for analysis moving forward:"
   ]
  },
  {
   "cell_type": "code",
   "execution_count": null,
   "id": "420333e0-1314-416e-a46e-6de2de038fed",
   "metadata": {},
   "outputs": [],
   "source": [
    "prediction1 = prediction_load"
   ]
  },
  {
   "cell_type": "markdown",
   "id": "0eb13cbb-e817-48db-a642-d5f11364b263",
   "metadata": {
    "tags": []
   },
   "source": [
    "#### Exploring data feature distributions\n",
    "\n",
    "First, identify the most important features for the Severson Discharge model (skip this step if the model was not chosen.\n",
    "\n",
    "Next, plot the feature distributions of the three most important features in terms of model weighting."
   ]
  },
  {
   "cell_type": "code",
   "execution_count": null,
   "id": "ed026c55-102a-44a4-8581-25a406c34766",
   "metadata": {},
   "outputs": [],
   "source": [
    "eNet_dchg_coef = pd.DataFrame()\n",
    "eNet_dchg_coef['features'] = prediction1.trained_models['Severson discharge'].pipeline.named_steps['enet'].coef_\n",
    "eNet_dchg_coef['coef'] = prediction1.trained_models['Severson discharge'].X_train.columns\n",
    "eNet_dchg_coef['abs_features'] = abs(eNet_dchg_coef['features'])\n",
    "eNet_dchg_coef_sorted = eNet_dchg_coef.sort_values('abs_features',ascending=False)\n",
    "eNet_dchg_coef_sorted.reset_index(inplace=True,drop=True)\n",
    "eNet_dchg_coef_sorted.drop(columns=['abs_features'],inplace=True)\n",
    "\n",
    "eNet_dchg_coef_sorted"
   ]
  },
  {
   "cell_type": "code",
   "execution_count": null,
   "id": "4314f1bd-68f2-4baf-b5eb-879727b46666",
   "metadata": {},
   "outputs": [],
   "source": [
    "for feature in eNet_dchg_coef_sorted.coef[0:3]:\n",
    "    prediction1.grouped_feature_distribution(feature)"
   ]
  },
  {
   "cell_type": "markdown",
   "id": "80c16f97-b70c-409a-bfe8-fce9783db63a",
   "metadata": {},
   "source": [
    "#### Pearson correlation coefficient plots and analysis"
   ]
  },
  {
   "cell_type": "code",
   "execution_count": null,
   "id": "02c59112-29c9-4329-89b4-884eaff831cf",
   "metadata": {},
   "outputs": [],
   "source": [
    "train_test_variance_grp = pd.concat([prediction1.X_train[['Dataset_group','var_deltaQ']],prediction1.X_test[['Dataset_group','var_deltaQ']]],ignore_index=True)\n",
    "train_test_log_cyc = pd.concat([prediction1.y_train[['log_cyc_life']],prediction1.y_test[['log_cyc_life']]],ignore_index=True)"
   ]
  },
  {
   "cell_type": "code",
   "execution_count": null,
   "id": "9861d443-63a0-4918-9afe-c4d9bd55d0b7",
   "metadata": {},
   "outputs": [],
   "source": [
    "unique_grps = pd.unique(train_test_variance_grp.Dataset_group)\n",
    "\n",
    "for grp in unique_grps:\n",
    "    train_idx = train_test_variance_grp[train_test_variance_grp.Dataset_group == grp].index\n",
    "    plt.scatter(x=train_test_variance_grp.var_deltaQ[train_idx],y=train_test_log_cyc.log_cyc_life[train_idx],label=grp,alpha=0.6)\n",
    "# plt.yscale('log')\n",
    "plt.legend(loc='best',bbox_to_anchor=(1,1))\n",
    "# plt.axis('square')\n",
    "plt.ylabel('Log cycles to 85% capacity retention')\n",
    "plt.xlabel('Log Variance feature')\n",
    "plt.show()"
   ]
  },
  {
   "cell_type": "code",
   "execution_count": null,
   "id": "bd92a31b-7700-456a-af67-7d794e7b6e41",
   "metadata": {},
   "outputs": [],
   "source": [
    "pearson_correlation = pd.DataFrame()\n",
    "names = []\n",
    "correlation = []\n",
    "for grp in unique_grps:\n",
    "    train_idx = train_test_variance_grp[train_test_variance_grp.Dataset_group == grp].index\n",
    "    var = train_test_variance_grp.var_deltaQ[train_idx]\n",
    "    lftm = train_test_log_cyc.log_cyc_life[train_idx]\n",
    "    names.append(grp)\n",
    "    correlation.append(stats.pearsonr(var, lftm)[0])\n",
    "pearson_correlation['Dataset']=names\n",
    "pearson_correlation['Pearson Correlation Coefficient'] = correlation\n",
    "pearson_correlation"
   ]
  },
  {
   "cell_type": "code",
   "execution_count": null,
   "id": "59b249aa-5a58-4a7e-b2c6-ff771e39f232",
   "metadata": {
    "tags": []
   },
   "outputs": [],
   "source": [
    "i=0\n",
    "colors = colors*math.ceil(len(unique_grps)/len(colors))\n",
    "for grp in unique_grps:\n",
    "    train_idx = train_test_variance_grp[train_test_variance_grp.Dataset_group == grp].index\n",
    "    plt.scatter(x=train_test_variance_grp.var_deltaQ[train_idx],y=train_test_log_cyc.log_cyc_life[train_idx],label=grp,alpha=0.6,c=colors[i])\n",
    "    plt.legend()\n",
    "    plt.ylabel('Log cycles to 85% capacity retention')\n",
    "    plt.xlabel('Log Variance feature')\n",
    "    plt.show()\n",
    "    i+=1"
   ]
  },
  {
   "cell_type": "markdown",
   "id": "d1f23e64-8208-4b29-a40a-3a2103c739d1",
   "metadata": {},
   "source": [
    "#### Tabular data\n",
    "The following code sections allow users to look at tabular data of the Test and Train dataset performance. Users will have to change the model and train_vs_test to update the dataframe that is returned"
   ]
  },
  {
   "cell_type": "code",
   "execution_count": 12,
   "id": "3bcf106d-605e-41a0-aa80-b724ea5b05ad",
   "metadata": {
    "tags": []
   },
   "outputs": [
    {
     "data": {
      "text/html": [
       "<div>\n",
       "<style scoped>\n",
       "    .dataframe tbody tr th:only-of-type {\n",
       "        vertical-align: middle;\n",
       "    }\n",
       "\n",
       "    .dataframe tbody tr th {\n",
       "        vertical-align: top;\n",
       "    }\n",
       "\n",
       "    .dataframe thead th {\n",
       "        text-align: right;\n",
       "    }\n",
       "</style>\n",
       "<table border=\"1\" class=\"dataframe\">\n",
       "  <thead>\n",
       "    <tr style=\"text-align: right;\">\n",
       "      <th></th>\n",
       "      <th>Name</th>\n",
       "      <th>Dummy Predicted cycle life</th>\n",
       "      <th>Severson variance Predicted cycle life</th>\n",
       "      <th>Severson discharge Predicted cycle life</th>\n",
       "      <th>Severson discharge XGBoost Predicted cycle life</th>\n",
       "      <th>Actual cycle life</th>\n",
       "    </tr>\n",
       "  </thead>\n",
       "  <tbody>\n",
       "    <tr>\n",
       "      <th>0</th>\n",
       "      <td>2017-05-12_5_4C-50per_3C_CH14_VDF</td>\n",
       "      <td>645.461828</td>\n",
       "      <td>864.250392</td>\n",
       "      <td>780.715751</td>\n",
       "      <td>765.689636</td>\n",
       "      <td>766.0</td>\n",
       "    </tr>\n",
       "    <tr>\n",
       "      <th>1</th>\n",
       "      <td>2017-05-12_7C-30per_3_6C_CH39_VDF</td>\n",
       "      <td>645.461828</td>\n",
       "      <td>756.722178</td>\n",
       "      <td>748.235901</td>\n",
       "      <td>711.729858</td>\n",
       "      <td>711.0</td>\n",
       "    </tr>\n",
       "    <tr>\n",
       "      <th>2</th>\n",
       "      <td>2017-05-12_6C-40per_3_6C_CH33_VDF</td>\n",
       "      <td>645.461828</td>\n",
       "      <td>730.944862</td>\n",
       "      <td>755.537399</td>\n",
       "      <td>822.727051</td>\n",
       "      <td>823.0</td>\n",
       "    </tr>\n",
       "    <tr>\n",
       "      <th>3</th>\n",
       "      <td>2017-06-30_5_6C-38per_4_25C_CH38_VDF</td>\n",
       "      <td>645.461828</td>\n",
       "      <td>531.867103</td>\n",
       "      <td>539.388272</td>\n",
       "      <td>457.822083</td>\n",
       "      <td>458.0</td>\n",
       "    </tr>\n",
       "    <tr>\n",
       "      <th>4</th>\n",
       "      <td>2017-06-30_4C-13per_5C_CH27_VDF</td>\n",
       "      <td>645.461828</td>\n",
       "      <td>552.246346</td>\n",
       "      <td>549.358691</td>\n",
       "      <td>456.748383</td>\n",
       "      <td>457.0</td>\n",
       "    </tr>\n",
       "    <tr>\n",
       "      <th>5</th>\n",
       "      <td>2017-06-30_4_4C-24per_5C_CH17_VDF</td>\n",
       "      <td>645.461828</td>\n",
       "      <td>407.892429</td>\n",
       "      <td>416.346574</td>\n",
       "      <td>471.973145</td>\n",
       "      <td>472.0</td>\n",
       "    </tr>\n",
       "    <tr>\n",
       "      <th>6</th>\n",
       "      <td>2017-06-30_5_2C-71per_3C_CH36_VDF</td>\n",
       "      <td>645.461828</td>\n",
       "      <td>539.862249</td>\n",
       "      <td>533.546654</td>\n",
       "      <td>446.680023</td>\n",
       "      <td>446.0</td>\n",
       "    </tr>\n",
       "    <tr>\n",
       "      <th>7</th>\n",
       "      <td>2017-06-30_1C-4per_6C_CH9_VDF</td>\n",
       "      <td>645.461828</td>\n",
       "      <td>272.234651</td>\n",
       "      <td>282.435570</td>\n",
       "      <td>275.389191</td>\n",
       "      <td>275.0</td>\n",
       "    </tr>\n",
       "    <tr>\n",
       "      <th>8</th>\n",
       "      <td>2017-05-12_8C-25per_3_6C_CH45_VDF</td>\n",
       "      <td>645.461828</td>\n",
       "      <td>653.108681</td>\n",
       "      <td>661.933794</td>\n",
       "      <td>658.146606</td>\n",
       "      <td>657.0</td>\n",
       "    </tr>\n",
       "    <tr>\n",
       "      <th>9</th>\n",
       "      <td>2017-06-30_4C-40per_6C_CH29_VDF</td>\n",
       "      <td>645.461828</td>\n",
       "      <td>421.697959</td>\n",
       "      <td>441.818258</td>\n",
       "      <td>451.106415</td>\n",
       "      <td>451.0</td>\n",
       "    </tr>\n",
       "    <tr>\n",
       "      <th>10</th>\n",
       "      <td>2017-05-12_5_4C-60per_3_6C_CH24_VDF</td>\n",
       "      <td>645.461828</td>\n",
       "      <td>796.272900</td>\n",
       "      <td>772.352639</td>\n",
       "      <td>821.222595</td>\n",
       "      <td>821.0</td>\n",
       "    </tr>\n",
       "    <tr>\n",
       "      <th>11</th>\n",
       "      <td>2017-05-12_6C-60per_3C_CH29_VDF</td>\n",
       "      <td>645.461828</td>\n",
       "      <td>632.747492</td>\n",
       "      <td>635.866564</td>\n",
       "      <td>691.225342</td>\n",
       "      <td>691.0</td>\n",
       "    </tr>\n",
       "    <tr>\n",
       "      <th>12</th>\n",
       "      <td>2017-05-12_5_4C-70per_3C_CH18_VDF</td>\n",
       "      <td>645.461828</td>\n",
       "      <td>629.887430</td>\n",
       "      <td>653.304024</td>\n",
       "      <td>735.906250</td>\n",
       "      <td>736.0</td>\n",
       "    </tr>\n",
       "    <tr>\n",
       "      <th>13</th>\n",
       "      <td>2017-06-30_6C-31per_4_25C_CH44_VDF</td>\n",
       "      <td>645.461828</td>\n",
       "      <td>474.990457</td>\n",
       "      <td>485.838896</td>\n",
       "      <td>439.811127</td>\n",
       "      <td>439.0</td>\n",
       "    </tr>\n",
       "    <tr>\n",
       "      <th>14</th>\n",
       "      <td>2017-05-12_4C-80per_4C_CH5_VDF</td>\n",
       "      <td>645.461828</td>\n",
       "      <td>1326.410263</td>\n",
       "      <td>1273.819343</td>\n",
       "      <td>1335.801636</td>\n",
       "      <td>1336.0</td>\n",
       "    </tr>\n",
       "    <tr>\n",
       "      <th>15</th>\n",
       "      <td>2017-05-12_7C-40per_3_6C_CH41_VDF</td>\n",
       "      <td>645.461828</td>\n",
       "      <td>532.409878</td>\n",
       "      <td>531.913365</td>\n",
       "      <td>586.999695</td>\n",
       "      <td>588.0</td>\n",
       "    </tr>\n",
       "    <tr>\n",
       "      <th>16</th>\n",
       "      <td>2017-05-12_3_6C-80per_3_6C_CH2_VDF</td>\n",
       "      <td>645.461828</td>\n",
       "      <td>1832.401029</td>\n",
       "      <td>1818.470230</td>\n",
       "      <td>2048.505371</td>\n",
       "      <td>2055.0</td>\n",
       "    </tr>\n",
       "    <tr>\n",
       "      <th>17</th>\n",
       "      <td>2017-05-12_7C-40per_3C_CH37_VDF</td>\n",
       "      <td>645.461828</td>\n",
       "      <td>644.038682</td>\n",
       "      <td>647.678871</td>\n",
       "      <td>666.641174</td>\n",
       "      <td>666.0</td>\n",
       "    </tr>\n",
       "    <tr>\n",
       "      <th>18</th>\n",
       "      <td>2017-05-12_5_4C-60per_3C_CH16_VDF</td>\n",
       "      <td>645.461828</td>\n",
       "      <td>890.898075</td>\n",
       "      <td>825.851635</td>\n",
       "      <td>695.255615</td>\n",
       "      <td>694.0</td>\n",
       "    </tr>\n",
       "    <tr>\n",
       "      <th>19</th>\n",
       "      <td>2017-05-12_6C-50per_3C_CH27_VDF</td>\n",
       "      <td>645.461828</td>\n",
       "      <td>752.918137</td>\n",
       "      <td>745.776666</td>\n",
       "      <td>809.696167</td>\n",
       "      <td>811.0</td>\n",
       "    </tr>\n",
       "    <tr>\n",
       "      <th>20</th>\n",
       "      <td>2017-05-12_6C-40per_3C_CH25_VDF</td>\n",
       "      <td>645.461828</td>\n",
       "      <td>807.534076</td>\n",
       "      <td>786.516329</td>\n",
       "      <td>971.153748</td>\n",
       "      <td>974.0</td>\n",
       "    </tr>\n",
       "    <tr>\n",
       "      <th>21</th>\n",
       "      <td>2017-05-12_5_4C-80per_5_4C_CH12_VDF</td>\n",
       "      <td>645.461828</td>\n",
       "      <td>495.396307</td>\n",
       "      <td>515.654899</td>\n",
       "      <td>531.687256</td>\n",
       "      <td>532.0</td>\n",
       "    </tr>\n",
       "    <tr>\n",
       "      <th>22</th>\n",
       "      <td>2017-05-12_6C-50per_3_6C_CH35_VDF</td>\n",
       "      <td>645.461828</td>\n",
       "      <td>691.401301</td>\n",
       "      <td>696.934578</td>\n",
       "      <td>675.429565</td>\n",
       "      <td>675.0</td>\n",
       "    </tr>\n",
       "    <tr>\n",
       "      <th>23</th>\n",
       "      <td>2017-06-30_5_6C-58per_3_5C_CH40_VDF</td>\n",
       "      <td>645.461828</td>\n",
       "      <td>506.082905</td>\n",
       "      <td>526.223135</td>\n",
       "      <td>437.861908</td>\n",
       "      <td>438.0</td>\n",
       "    </tr>\n",
       "  </tbody>\n",
       "</table>\n",
       "</div>"
      ],
      "text/plain": [
       "                                    Name  Dummy Predicted cycle life  \\\n",
       "0      2017-05-12_5_4C-50per_3C_CH14_VDF                  645.461828   \n",
       "1      2017-05-12_7C-30per_3_6C_CH39_VDF                  645.461828   \n",
       "2      2017-05-12_6C-40per_3_6C_CH33_VDF                  645.461828   \n",
       "3   2017-06-30_5_6C-38per_4_25C_CH38_VDF                  645.461828   \n",
       "4        2017-06-30_4C-13per_5C_CH27_VDF                  645.461828   \n",
       "5      2017-06-30_4_4C-24per_5C_CH17_VDF                  645.461828   \n",
       "6      2017-06-30_5_2C-71per_3C_CH36_VDF                  645.461828   \n",
       "7          2017-06-30_1C-4per_6C_CH9_VDF                  645.461828   \n",
       "8      2017-05-12_8C-25per_3_6C_CH45_VDF                  645.461828   \n",
       "9        2017-06-30_4C-40per_6C_CH29_VDF                  645.461828   \n",
       "10   2017-05-12_5_4C-60per_3_6C_CH24_VDF                  645.461828   \n",
       "11       2017-05-12_6C-60per_3C_CH29_VDF                  645.461828   \n",
       "12     2017-05-12_5_4C-70per_3C_CH18_VDF                  645.461828   \n",
       "13    2017-06-30_6C-31per_4_25C_CH44_VDF                  645.461828   \n",
       "14        2017-05-12_4C-80per_4C_CH5_VDF                  645.461828   \n",
       "15     2017-05-12_7C-40per_3_6C_CH41_VDF                  645.461828   \n",
       "16    2017-05-12_3_6C-80per_3_6C_CH2_VDF                  645.461828   \n",
       "17       2017-05-12_7C-40per_3C_CH37_VDF                  645.461828   \n",
       "18     2017-05-12_5_4C-60per_3C_CH16_VDF                  645.461828   \n",
       "19       2017-05-12_6C-50per_3C_CH27_VDF                  645.461828   \n",
       "20       2017-05-12_6C-40per_3C_CH25_VDF                  645.461828   \n",
       "21   2017-05-12_5_4C-80per_5_4C_CH12_VDF                  645.461828   \n",
       "22     2017-05-12_6C-50per_3_6C_CH35_VDF                  645.461828   \n",
       "23   2017-06-30_5_6C-58per_3_5C_CH40_VDF                  645.461828   \n",
       "\n",
       "    Severson variance Predicted cycle life  \\\n",
       "0                               864.250392   \n",
       "1                               756.722178   \n",
       "2                               730.944862   \n",
       "3                               531.867103   \n",
       "4                               552.246346   \n",
       "5                               407.892429   \n",
       "6                               539.862249   \n",
       "7                               272.234651   \n",
       "8                               653.108681   \n",
       "9                               421.697959   \n",
       "10                              796.272900   \n",
       "11                              632.747492   \n",
       "12                              629.887430   \n",
       "13                              474.990457   \n",
       "14                             1326.410263   \n",
       "15                              532.409878   \n",
       "16                             1832.401029   \n",
       "17                              644.038682   \n",
       "18                              890.898075   \n",
       "19                              752.918137   \n",
       "20                              807.534076   \n",
       "21                              495.396307   \n",
       "22                              691.401301   \n",
       "23                              506.082905   \n",
       "\n",
       "    Severson discharge Predicted cycle life  \\\n",
       "0                                780.715751   \n",
       "1                                748.235901   \n",
       "2                                755.537399   \n",
       "3                                539.388272   \n",
       "4                                549.358691   \n",
       "5                                416.346574   \n",
       "6                                533.546654   \n",
       "7                                282.435570   \n",
       "8                                661.933794   \n",
       "9                                441.818258   \n",
       "10                               772.352639   \n",
       "11                               635.866564   \n",
       "12                               653.304024   \n",
       "13                               485.838896   \n",
       "14                              1273.819343   \n",
       "15                               531.913365   \n",
       "16                              1818.470230   \n",
       "17                               647.678871   \n",
       "18                               825.851635   \n",
       "19                               745.776666   \n",
       "20                               786.516329   \n",
       "21                               515.654899   \n",
       "22                               696.934578   \n",
       "23                               526.223135   \n",
       "\n",
       "    Severson discharge XGBoost Predicted cycle life  Actual cycle life  \n",
       "0                                        765.689636              766.0  \n",
       "1                                        711.729858              711.0  \n",
       "2                                        822.727051              823.0  \n",
       "3                                        457.822083              458.0  \n",
       "4                                        456.748383              457.0  \n",
       "5                                        471.973145              472.0  \n",
       "6                                        446.680023              446.0  \n",
       "7                                        275.389191              275.0  \n",
       "8                                        658.146606              657.0  \n",
       "9                                        451.106415              451.0  \n",
       "10                                       821.222595              821.0  \n",
       "11                                       691.225342              691.0  \n",
       "12                                       735.906250              736.0  \n",
       "13                                       439.811127              439.0  \n",
       "14                                      1335.801636             1336.0  \n",
       "15                                       586.999695              588.0  \n",
       "16                                      2048.505371             2055.0  \n",
       "17                                       666.641174              666.0  \n",
       "18                                       695.255615              694.0  \n",
       "19                                       809.696167              811.0  \n",
       "20                                       971.153748              974.0  \n",
       "21                                       531.687256              532.0  \n",
       "22                                       675.429565              675.0  \n",
       "23                                       437.861908              438.0  "
      ]
     },
     "execution_count": 12,
     "metadata": {},
     "output_type": "execute_result"
    }
   ],
   "source": [
    "train_vs_test = \"train\"\n",
    "\n",
    "prediction1.return_prediction_dataframes(train_vs_test)"
   ]
  },
  {
   "cell_type": "markdown",
   "id": "3347d5f2-ee9d-4a19-9d29-f8c4af634d53",
   "metadata": {},
   "source": [
    "#### Select Prediction dataset, and predict cycle lives"
   ]
  },
  {
   "cell_type": "code",
   "execution_count": 26,
   "id": "67a927b8-d9a9-4f55-8406-01f85df37861",
   "metadata": {
    "tags": []
   },
   "outputs": [
    {
     "data": {
      "text/markdown": [
       "#### Search for test records to add to Prediction dataset"
      ],
      "text/plain": [
       "<IPython.core.display.Markdown object>"
      ]
     },
     "metadata": {},
     "output_type": "display_data"
    },
    {
     "data": {
      "text/markdown": [
       "Filtering tests by capacity retention is slow; check kernel status for update on completion."
      ],
      "text/plain": [
       "<IPython.core.display.Markdown object>"
      ]
     },
     "metadata": {},
     "output_type": "display_data"
    },
    {
     "data": {
      "application/vnd.jupyter.widget-view+json": {
       "model_id": "4ad8d4fcd6774cce9bd628b1e17958ab",
       "version_major": 2,
       "version_minor": 0
      },
      "text/plain": [
       "interactive(children=(SelectMultiple(description='Prediction Datasets:', options=('Severson2019 - All (LFP)', …"
      ]
     },
     "metadata": {},
     "output_type": "display_data"
    },
    {
     "data": {
      "application/vnd.jupyter.widget-view+json": {
       "model_id": "f38f3c85feae42a395c189dc7e98ace1",
       "version_major": 2,
       "version_minor": 0
      },
      "text/plain": [
       "Button(button_style='danger', description='Predict Lifetime', disabled=True, style=ButtonStyle(button_color='#…"
      ]
     },
     "metadata": {},
     "output_type": "display_data"
    },
    {
     "data": {
      "application/vnd.jupyter.widget-view+json": {
       "model_id": "5f7d7888dca243029ffa2d8b3540ef7e",
       "version_major": 2,
       "version_minor": 0
      },
      "text/plain": [
       "Output()"
      ]
     },
     "metadata": {},
     "output_type": "display_data"
    }
   ],
   "source": [
    "# next step is to allow users to select data for prediction. That needs to be featurized (but no y-values) and then the CL values can be predicted and shared (how to visualize...?)\n",
    "\n",
    "predict_model_predict = widgets.Button(description = 'Predict Lifetime', button_style = 'danger', style={\"button_color\": \"#38adad\"}, disabled = True)\n",
    "\n",
    "display(Markdown(\"#### Search for test records to add to Prediction dataset\"))\n",
    "display(Markdown(\"Filtering tests by capacity retention is slow; check kernel status for update on completion.\"))\n",
    "# search_type = widgets.RadioButtons(options=['Test Name','Min Cycle Number','Both'],\n",
    "#                                     disabled=False)\n",
    "# Want to add in some search criteria here: min cycle number (if blank, ignore), min capacity retention\n",
    "\n",
    "select_predict = interactive(cpw.select_widget, \n",
    "                           train_sets = widgets.SelectMultiple(value=[], options=cpw.std_train_datasets, description=f'Prediction Datasets:',style={'description_width': 'initial'}, ensure_option=True),\n",
    "                          train_or_test=fixed('predict'), pred_obj = fixed(prediction1), trs = fixed(trs), predict_button = fixed(predict_model_predict))\n",
    "\n",
    "# interactive(cpw.custom_select, filter_by_cap_retention = widgets.Checkbox(value=False,description='Filter tests by capacity retention threshold',\n",
    "#                                                                                          style={'description_width': 'initial'}),\n",
    "#                            min_cyc_num = widgets.IntText(description = 'Minimum # of cycles:',style={'description_width': 'initial'}, value = prediction1.get_end_cycle()+1),\n",
    "#                            other_search_text = widgets.Text(\n",
    "#                 value = prediction1.get_last_custom_search(),description='Test name search:', \n",
    "#                 style={'description_width': 'initial'},continuous_update=False),\n",
    "#                                      train_or_test=fixed('predict'), prediction1 = fixed(prediction1),\n",
    "#                                      trs = fixed(trs),predict_button = fixed(predict_model_predict))\n",
    "\n",
    "output = widgets.Output()\n",
    "\n",
    "display(select_predict,predict_model_predict, output)\n",
    "    \n",
    "        \n",
    "def pred_model_predict(b):\n",
    "    ''' function that will predict CL on prediction data. returns a plot of predicted cycle life'''\n",
    "    with output:\n",
    "        cpw.populate_test_train_data(prediction1, trs, predict = True)\n",
    "        print(\"Starting featurization...\")\n",
    "        prediction1.featurize_predict(trs)\n",
    "        print(\"Featurization complete!\")\n",
    "        prediction1.predict()\n",
    "        prediction1.calc_predicted_cyclelife()\n",
    "        prediction_df, predictiondf_errors, time_pred_df = prediction1.return_predicted_cyclelife()\n",
    "        predictiondf_errors.append([np.array([0]*len(prediction_df))]*2)\n",
    "        predictiondf_errors.append([np.array([0]*len(prediction_df))]*2)\n",
    "        log_scale = max(prediction_df.drop(columns = ['Name','Current cycle']).max()) > 10*(max(prediction_df['Current cycle']))\n",
    "        prediction_df.set_index('Name').plot.barh(yerr = predictiondf_errors, figsize=(10, len(prediction_df)/1.2), width = .8, logx = log_scale)\n",
    "        plt.xlabel('Cycles')\n",
    "        plt.title(\"Predicted cycle life by ML model for each test\")\n",
    "        plt.show()\n",
    "        \n",
    "        # want to only show predicted time to failure for tests that have not already 'failed'\n",
    "        # so I want to add a filter criteria based on prediction_df\n",
    "        if len(time_pred_df) >0:\n",
    "            print(\"Predicted time remaining (hours) based on each ML model for tests which have not yet reached the capacity retention threshold\")\n",
    "            log_scale_time = max(time_pred_df.drop(columns = ['Name']).max()) > 10*(min(time_pred_df[time_pred_df.drop(columns = ['Name']) > 0].drop(columns = ['Name']).min()))\n",
    "\n",
    "            time_pred_df.set_index('Name').plot.barh(figsize=(10, len(time_pred_df)/1.2),width = .8, logx = log_scale_time)\n",
    "            plt.xlabel('Predicted Hours until Failure')\n",
    "    #         plt.title\n",
    "            plt.show()\n",
    "        else:\n",
    "            print(\"All tests in the Prediction dataset have already reached the set capacity retention threshold\")\n",
    "\n",
    "predict_model_predict.on_click(pred_model_predict)\n"
   ]
  },
  {
   "cell_type": "markdown",
   "id": "6852399e-5ffc-4ff2-b818-ade36708f17e",
   "metadata": {},
   "source": [
    "To show the dataframe for prediction data, run the following command:"
   ]
  },
  {
   "cell_type": "code",
   "execution_count": 21,
   "id": "697a2312-a13a-4212-89d5-3d6a3e064a01",
   "metadata": {},
   "outputs": [
    {
     "data": {
      "text/html": [
       "<div>\n",
       "<style scoped>\n",
       "    .dataframe tbody tr th:only-of-type {\n",
       "        vertical-align: middle;\n",
       "    }\n",
       "\n",
       "    .dataframe tbody tr th {\n",
       "        vertical-align: top;\n",
       "    }\n",
       "\n",
       "    .dataframe thead th {\n",
       "        text-align: right;\n",
       "    }\n",
       "</style>\n",
       "<table border=\"1\" class=\"dataframe\">\n",
       "  <thead>\n",
       "    <tr style=\"text-align: right;\">\n",
       "      <th></th>\n",
       "      <th>Name</th>\n",
       "      <th>Dummy Predicted Cycle Life</th>\n",
       "      <th>Severson variance Predicted Cycle Life</th>\n",
       "      <th>Severson discharge Predicted Cycle Life</th>\n",
       "      <th>Severson discharge XGBoost Predicted Cycle Life</th>\n",
       "      <th>Current cycle</th>\n",
       "      <th>Cycle to 85.0% capacity retention</th>\n",
       "    </tr>\n",
       "  </thead>\n",
       "  <tbody>\n",
       "    <tr>\n",
       "      <th>0</th>\n",
       "      <td>Cell_Expansion_21_cycling_wExpansion</td>\n",
       "      <td>645.461828</td>\n",
       "      <td>179.321996</td>\n",
       "      <td>7.184910e+04</td>\n",
       "      <td>303.776672</td>\n",
       "      <td>338</td>\n",
       "      <td>0</td>\n",
       "    </tr>\n",
       "    <tr>\n",
       "      <th>1</th>\n",
       "      <td>Cell_Expansion_20_cycling_wExpansion</td>\n",
       "      <td>645.461828</td>\n",
       "      <td>100.088868</td>\n",
       "      <td>4.117248e+04</td>\n",
       "      <td>303.419525</td>\n",
       "      <td>560</td>\n",
       "      <td>0</td>\n",
       "    </tr>\n",
       "    <tr>\n",
       "      <th>2</th>\n",
       "      <td>Cell_Expansion_19_cycling_wExpansion</td>\n",
       "      <td>645.461828</td>\n",
       "      <td>191.852316</td>\n",
       "      <td>7.517946e+04</td>\n",
       "      <td>298.533295</td>\n",
       "      <td>451</td>\n",
       "      <td>0</td>\n",
       "    </tr>\n",
       "    <tr>\n",
       "      <th>3</th>\n",
       "      <td>Cell_Expansion_18_cycling_wExpansion</td>\n",
       "      <td>645.461828</td>\n",
       "      <td>285.704356</td>\n",
       "      <td>8.961251e+04</td>\n",
       "      <td>288.249329</td>\n",
       "      <td>296</td>\n",
       "      <td>0</td>\n",
       "    </tr>\n",
       "    <tr>\n",
       "      <th>4</th>\n",
       "      <td>Cell_Expansion_17_cycling_wExpansion</td>\n",
       "      <td>645.461828</td>\n",
       "      <td>223.029213</td>\n",
       "      <td>6.925998e+04</td>\n",
       "      <td>299.109406</td>\n",
       "      <td>558</td>\n",
       "      <td>0</td>\n",
       "    </tr>\n",
       "    <tr>\n",
       "      <th>5</th>\n",
       "      <td>Cell_Expansion_16_cycling_wExpansion</td>\n",
       "      <td>645.461828</td>\n",
       "      <td>958.023028</td>\n",
       "      <td>2.638803e+05</td>\n",
       "      <td>1321.040527</td>\n",
       "      <td>533</td>\n",
       "      <td>0</td>\n",
       "    </tr>\n",
       "    <tr>\n",
       "      <th>6</th>\n",
       "      <td>Cell_Expansion_15_cycling_wExpansion</td>\n",
       "      <td>645.461828</td>\n",
       "      <td>374.736204</td>\n",
       "      <td>6.362903e+03</td>\n",
       "      <td>473.951385</td>\n",
       "      <td>172</td>\n",
       "      <td>0</td>\n",
       "    </tr>\n",
       "    <tr>\n",
       "      <th>7</th>\n",
       "      <td>Cell_Expansion_14_cycling_wExpansion</td>\n",
       "      <td>645.461828</td>\n",
       "      <td>478.474097</td>\n",
       "      <td>1.394388e+05</td>\n",
       "      <td>477.830200</td>\n",
       "      <td>453</td>\n",
       "      <td>0</td>\n",
       "    </tr>\n",
       "    <tr>\n",
       "      <th>8</th>\n",
       "      <td>Cell_Expansion_13_cycling_wExpansion</td>\n",
       "      <td>645.461828</td>\n",
       "      <td>465.215609</td>\n",
       "      <td>1.361093e+05</td>\n",
       "      <td>489.662750</td>\n",
       "      <td>533</td>\n",
       "      <td>0</td>\n",
       "    </tr>\n",
       "    <tr>\n",
       "      <th>9</th>\n",
       "      <td>Cell_Expansion_12_cycling_wExpansion</td>\n",
       "      <td>645.461828</td>\n",
       "      <td>100.086854</td>\n",
       "      <td>1.905669e+08</td>\n",
       "      <td>297.050018</td>\n",
       "      <td>183</td>\n",
       "      <td>116</td>\n",
       "    </tr>\n",
       "    <tr>\n",
       "      <th>10</th>\n",
       "      <td>Cell_Expansion_11_cycling_wExpansion</td>\n",
       "      <td>645.461828</td>\n",
       "      <td>166.178127</td>\n",
       "      <td>3.828211e+06</td>\n",
       "      <td>300.276886</td>\n",
       "      <td>541</td>\n",
       "      <td>244</td>\n",
       "    </tr>\n",
       "    <tr>\n",
       "      <th>11</th>\n",
       "      <td>Cell_Expansion_10_cycling_wExpansion</td>\n",
       "      <td>645.461828</td>\n",
       "      <td>243.391213</td>\n",
       "      <td>2.283469e+08</td>\n",
       "      <td>300.276886</td>\n",
       "      <td>440</td>\n",
       "      <td>335</td>\n",
       "    </tr>\n",
       "    <tr>\n",
       "      <th>12</th>\n",
       "      <td>Cell_Expansion_09_cycling_wExpansion</td>\n",
       "      <td>645.461828</td>\n",
       "      <td>86.925504</td>\n",
       "      <td>1.638782e+08</td>\n",
       "      <td>297.050018</td>\n",
       "      <td>176</td>\n",
       "      <td>102</td>\n",
       "    </tr>\n",
       "    <tr>\n",
       "      <th>13</th>\n",
       "      <td>Cell_Expansion_08_cycling_wExpansion</td>\n",
       "      <td>645.461828</td>\n",
       "      <td>126.728293</td>\n",
       "      <td>1.429801e+06</td>\n",
       "      <td>300.276886</td>\n",
       "      <td>574</td>\n",
       "      <td>164</td>\n",
       "    </tr>\n",
       "    <tr>\n",
       "      <th>14</th>\n",
       "      <td>Cell_Expansion_07_cycling_wExpansion</td>\n",
       "      <td>645.461828</td>\n",
       "      <td>119.928714</td>\n",
       "      <td>1.203456e+08</td>\n",
       "      <td>297.050018</td>\n",
       "      <td>246</td>\n",
       "      <td>133</td>\n",
       "    </tr>\n",
       "    <tr>\n",
       "      <th>15</th>\n",
       "      <td>Cell_Expansion_06_cycling_wExpansion</td>\n",
       "      <td>645.461828</td>\n",
       "      <td>102.757160</td>\n",
       "      <td>2.039255e+08</td>\n",
       "      <td>297.050018</td>\n",
       "      <td>178</td>\n",
       "      <td>131</td>\n",
       "    </tr>\n",
       "    <tr>\n",
       "      <th>16</th>\n",
       "      <td>Cell_Expansion_05_cycling_wExpansion</td>\n",
       "      <td>645.461828</td>\n",
       "      <td>134.044174</td>\n",
       "      <td>3.623862e+06</td>\n",
       "      <td>298.615387</td>\n",
       "      <td>574</td>\n",
       "      <td>241</td>\n",
       "    </tr>\n",
       "    <tr>\n",
       "      <th>17</th>\n",
       "      <td>Cell_Expansion_03_cycling_wExpansion</td>\n",
       "      <td>645.461828</td>\n",
       "      <td>87.371471</td>\n",
       "      <td>1.403533e+00</td>\n",
       "      <td>275.082764</td>\n",
       "      <td>104</td>\n",
       "      <td>0</td>\n",
       "    </tr>\n",
       "    <tr>\n",
       "      <th>18</th>\n",
       "      <td>Cell_Expansion_02_cycling_wExpansion</td>\n",
       "      <td>645.461828</td>\n",
       "      <td>185.091768</td>\n",
       "      <td>7.230459e+07</td>\n",
       "      <td>300.276886</td>\n",
       "      <td>294</td>\n",
       "      <td>0</td>\n",
       "    </tr>\n",
       "    <tr>\n",
       "      <th>19</th>\n",
       "      <td>Cell_Expansion_01_cycling_wExpansion</td>\n",
       "      <td>645.461828</td>\n",
       "      <td>164.161577</td>\n",
       "      <td>4.706437e+08</td>\n",
       "      <td>297.050018</td>\n",
       "      <td>380</td>\n",
       "      <td>258</td>\n",
       "    </tr>\n",
       "    <tr>\n",
       "      <th>20</th>\n",
       "      <td>Cell_Expansion_04_cycling_wExpansion</td>\n",
       "      <td>645.461828</td>\n",
       "      <td>170.323768</td>\n",
       "      <td>1.824072e+08</td>\n",
       "      <td>298.702637</td>\n",
       "      <td>328</td>\n",
       "      <td>192</td>\n",
       "    </tr>\n",
       "  </tbody>\n",
       "</table>\n",
       "</div>"
      ],
      "text/plain": [
       "                                    Name  Dummy Predicted Cycle Life  \\\n",
       "0   Cell_Expansion_21_cycling_wExpansion                  645.461828   \n",
       "1   Cell_Expansion_20_cycling_wExpansion                  645.461828   \n",
       "2   Cell_Expansion_19_cycling_wExpansion                  645.461828   \n",
       "3   Cell_Expansion_18_cycling_wExpansion                  645.461828   \n",
       "4   Cell_Expansion_17_cycling_wExpansion                  645.461828   \n",
       "5   Cell_Expansion_16_cycling_wExpansion                  645.461828   \n",
       "6   Cell_Expansion_15_cycling_wExpansion                  645.461828   \n",
       "7   Cell_Expansion_14_cycling_wExpansion                  645.461828   \n",
       "8   Cell_Expansion_13_cycling_wExpansion                  645.461828   \n",
       "9   Cell_Expansion_12_cycling_wExpansion                  645.461828   \n",
       "10  Cell_Expansion_11_cycling_wExpansion                  645.461828   \n",
       "11  Cell_Expansion_10_cycling_wExpansion                  645.461828   \n",
       "12  Cell_Expansion_09_cycling_wExpansion                  645.461828   \n",
       "13  Cell_Expansion_08_cycling_wExpansion                  645.461828   \n",
       "14  Cell_Expansion_07_cycling_wExpansion                  645.461828   \n",
       "15  Cell_Expansion_06_cycling_wExpansion                  645.461828   \n",
       "16  Cell_Expansion_05_cycling_wExpansion                  645.461828   \n",
       "17  Cell_Expansion_03_cycling_wExpansion                  645.461828   \n",
       "18  Cell_Expansion_02_cycling_wExpansion                  645.461828   \n",
       "19  Cell_Expansion_01_cycling_wExpansion                  645.461828   \n",
       "20  Cell_Expansion_04_cycling_wExpansion                  645.461828   \n",
       "\n",
       "    Severson variance Predicted Cycle Life  \\\n",
       "0                               179.321996   \n",
       "1                               100.088868   \n",
       "2                               191.852316   \n",
       "3                               285.704356   \n",
       "4                               223.029213   \n",
       "5                               958.023028   \n",
       "6                               374.736204   \n",
       "7                               478.474097   \n",
       "8                               465.215609   \n",
       "9                               100.086854   \n",
       "10                              166.178127   \n",
       "11                              243.391213   \n",
       "12                               86.925504   \n",
       "13                              126.728293   \n",
       "14                              119.928714   \n",
       "15                              102.757160   \n",
       "16                              134.044174   \n",
       "17                               87.371471   \n",
       "18                              185.091768   \n",
       "19                              164.161577   \n",
       "20                              170.323768   \n",
       "\n",
       "    Severson discharge Predicted Cycle Life  \\\n",
       "0                              7.184910e+04   \n",
       "1                              4.117248e+04   \n",
       "2                              7.517946e+04   \n",
       "3                              8.961251e+04   \n",
       "4                              6.925998e+04   \n",
       "5                              2.638803e+05   \n",
       "6                              6.362903e+03   \n",
       "7                              1.394388e+05   \n",
       "8                              1.361093e+05   \n",
       "9                              1.905669e+08   \n",
       "10                             3.828211e+06   \n",
       "11                             2.283469e+08   \n",
       "12                             1.638782e+08   \n",
       "13                             1.429801e+06   \n",
       "14                             1.203456e+08   \n",
       "15                             2.039255e+08   \n",
       "16                             3.623862e+06   \n",
       "17                             1.403533e+00   \n",
       "18                             7.230459e+07   \n",
       "19                             4.706437e+08   \n",
       "20                             1.824072e+08   \n",
       "\n",
       "    Severson discharge XGBoost Predicted Cycle Life  Current cycle  \\\n",
       "0                                        303.776672            338   \n",
       "1                                        303.419525            560   \n",
       "2                                        298.533295            451   \n",
       "3                                        288.249329            296   \n",
       "4                                        299.109406            558   \n",
       "5                                       1321.040527            533   \n",
       "6                                        473.951385            172   \n",
       "7                                        477.830200            453   \n",
       "8                                        489.662750            533   \n",
       "9                                        297.050018            183   \n",
       "10                                       300.276886            541   \n",
       "11                                       300.276886            440   \n",
       "12                                       297.050018            176   \n",
       "13                                       300.276886            574   \n",
       "14                                       297.050018            246   \n",
       "15                                       297.050018            178   \n",
       "16                                       298.615387            574   \n",
       "17                                       275.082764            104   \n",
       "18                                       300.276886            294   \n",
       "19                                       297.050018            380   \n",
       "20                                       298.702637            328   \n",
       "\n",
       "    Cycle to 85.0% capacity retention  \n",
       "0                                   0  \n",
       "1                                   0  \n",
       "2                                   0  \n",
       "3                                   0  \n",
       "4                                   0  \n",
       "5                                   0  \n",
       "6                                   0  \n",
       "7                                   0  \n",
       "8                                   0  \n",
       "9                                 116  \n",
       "10                                244  \n",
       "11                                335  \n",
       "12                                102  \n",
       "13                                164  \n",
       "14                                133  \n",
       "15                                131  \n",
       "16                                241  \n",
       "17                                  0  \n",
       "18                                  0  \n",
       "19                                258  \n",
       "20                                192  "
      ]
     },
     "execution_count": 21,
     "metadata": {},
     "output_type": "execute_result"
    }
   ],
   "source": [
    "prediction_df,predictiondf_errors, time_pred_df = prediction1.return_predicted_cyclelife()\n",
    "prediction_df"
   ]
  },
  {
   "cell_type": "code",
   "execution_count": 22,
   "id": "66f462b1-9a22-4883-ad3c-92a547145774",
   "metadata": {},
   "outputs": [
    {
     "data": {
      "text/plain": [
       "[[array([370.46182774, 370.46182774, 370.46182774, 370.46182774,\n",
       "         370.46182774, 370.46182774, 370.46182774, 370.46182774,\n",
       "         370.46182774, 370.46182774, 370.46182774, 370.46182774,\n",
       "         370.46182774, 370.46182774, 370.46182774, 370.46182774,\n",
       "         370.46182774, 370.46182774, 370.46182774, 370.46182774,\n",
       "         370.46182774]),\n",
       "  array([1053.77546156, 1053.77546156, 1053.77546156, 1053.77546156,\n",
       "         1053.77546156, 1053.77546156, 1053.77546156, 1053.77546156,\n",
       "         1053.77546156, 1053.77546156, 1053.77546156, 1053.77546156,\n",
       "         1053.77546156, 1053.77546156, 1053.77546156, 1053.77546156,\n",
       "         1053.77546156, 1053.77546156, 1053.77546156, 1053.77546156,\n",
       "         1053.77546156])],\n",
       " [array([ 36.40320179,  21.01556962,  38.79139181,  56.39738262,\n",
       "          44.69145163, 198.3488073 ,  72.74157026,  91.45763568,\n",
       "          89.08247214,  21.01517082,  33.88659432,  48.5155766 ,\n",
       "          18.39726422,  26.25277958,  24.92308415,  21.54367432,\n",
       "          27.67850957,  18.48634513,  37.50416104,  33.49939785,\n",
       "          34.68166502]),\n",
       "  array([ 45.36228955,  24.40727515,  49.24614728,  77.70088756,\n",
       "          59.10849698, 225.32419853,  93.23397491, 112.10333867,\n",
       "         109.07656321,  24.40679654,  41.3424117 ,  65.68861252,\n",
       "          21.27254126,  30.72007146,  29.11233134,  25.04136721,\n",
       "          32.447407  ,  21.37893396,  47.14461743,  40.73083478,\n",
       "          42.60407956])],\n",
       " [array([3.80886144e+04, 2.13111065e+04, 3.96494636e+04, 7.47692663e+04,\n",
       "         4.50783418e+04, 1.22015917e+05, 1.60864101e+04, 9.70544433e+04,\n",
       "         8.12318720e+04, 1.90532585e+08, 3.82821149e+06, 2.02076816e+08,\n",
       "         1.34255894e+08, 1.05351581e+06, 9.99918963e+07, 1.70656958e+08,\n",
       "         2.79590780e+06, 1.36658831e+00, 7.23045916e+07, 4.70643670e+08,\n",
       "         1.55546689e+08]),\n",
       "  array([3.96644348e+29, 9.74965706e+09, 1.62448430e+10, 7.50965310e+07,\n",
       "         4.25394157e+09, 3.88038474e+10, 1.58338896e+21, 3.04221439e+09,\n",
       "         1.10398832e+10, 1.73394632e+16, 5.86304101e+16, 1.01473675e+20,\n",
       "         1.27336048e+22, 5.66883375e+14, 1.44830292e+20, 3.28039134e+21,\n",
       "         4.49445042e+15, 7.54578646e+14, 5.03591939e+16, 1.48813100e+21,\n",
       "         9.60737642e+20])],\n",
       " [array([118.07048545, 120.97325494, 115.89551984, 107.4073245 ,\n",
       "         118.2674014 , 762.40645464, 192.85396786, 198.31775818,\n",
       "         202.12273065, 118.84695019, 118.69125053, 118.69125053,\n",
       "         118.84695019, 118.69125053, 118.84695019, 118.84695019,\n",
       "         117.5571244 ,  97.4666835 , 118.69125053, 118.84695019,\n",
       "         115.54495466]),\n",
       "  array([382.0084397 , 363.96931768, 350.35402608, 350.87922448,\n",
       "         354.12123966, 735.11276748, 466.31393592, 437.73748444,\n",
       "         425.9049344 , 265.80119133, 269.34709909, 269.34709909,\n",
       "         265.80119133, 269.34709909, 265.80119133, 265.80119133,\n",
       "         269.24326762, 279.11097756, 269.34709909, 265.80119133,\n",
       "         263.9984221 ])],\n",
       " [[0, 0, 0, 0, 0, 0, 0, 0, 0, 0, 0, 0, 0, 0, 0, 0, 0, 0, 0, 0, 0],\n",
       "  [0, 0, 0, 0, 0, 0, 0, 0, 0, 0, 0, 0, 0, 0, 0, 0, 0, 0, 0, 0, 0],\n",
       "  [0, 0, 0, 0, 0, 0, 0, 0, 0, 0, 0, 0, 0, 0, 0, 0, 0, 0, 0, 0, 0],\n",
       "  [0, 0, 0, 0, 0, 0, 0, 0, 0, 0, 0, 0, 0, 0, 0, 0, 0, 0, 0, 0, 0]],\n",
       " [[array([0, 0, 0, 0, 0, 0, 0, 0, 0, 0, 0, 0, 0, 0, 0, 0, 0, 0, 0, 0, 0]),\n",
       "   array([0, 0, 0, 0, 0, 0, 0, 0, 0, 0, 0, 0, 0, 0, 0, 0, 0, 0, 0, 0, 0])],\n",
       "  [array([0, 0, 0, 0, 0, 0, 0, 0, 0, 0, 0, 0, 0, 0, 0, 0, 0, 0, 0, 0, 0]),\n",
       "   array([0, 0, 0, 0, 0, 0, 0, 0, 0, 0, 0, 0, 0, 0, 0, 0, 0, 0, 0, 0, 0])]]]"
      ]
     },
     "execution_count": 22,
     "metadata": {},
     "output_type": "execute_result"
    }
   ],
   "source": [
    "predictiondf_errors"
   ]
  },
  {
   "cell_type": "code",
   "execution_count": 23,
   "id": "aeb516d0-294d-451c-bbb9-12a706b95820",
   "metadata": {},
   "outputs": [],
   "source": [
    "predictiondf_errors.append([np.array([0]*len(prediction_df))]*2)"
   ]
  },
  {
   "cell_type": "code",
   "execution_count": 24,
   "id": "764a7487-9fe6-4f35-84df-931a43ad7112",
   "metadata": {},
   "outputs": [
    {
     "data": {
      "text/plain": [
       "[[array([370.46182774, 370.46182774, 370.46182774, 370.46182774,\n",
       "         370.46182774, 370.46182774, 370.46182774, 370.46182774,\n",
       "         370.46182774, 370.46182774, 370.46182774, 370.46182774,\n",
       "         370.46182774, 370.46182774, 370.46182774, 370.46182774,\n",
       "         370.46182774, 370.46182774, 370.46182774, 370.46182774,\n",
       "         370.46182774]),\n",
       "  array([1053.77546156, 1053.77546156, 1053.77546156, 1053.77546156,\n",
       "         1053.77546156, 1053.77546156, 1053.77546156, 1053.77546156,\n",
       "         1053.77546156, 1053.77546156, 1053.77546156, 1053.77546156,\n",
       "         1053.77546156, 1053.77546156, 1053.77546156, 1053.77546156,\n",
       "         1053.77546156, 1053.77546156, 1053.77546156, 1053.77546156,\n",
       "         1053.77546156])],\n",
       " [array([ 36.40320179,  21.01556962,  38.79139181,  56.39738262,\n",
       "          44.69145163, 198.3488073 ,  72.74157026,  91.45763568,\n",
       "          89.08247214,  21.01517082,  33.88659432,  48.5155766 ,\n",
       "          18.39726422,  26.25277958,  24.92308415,  21.54367432,\n",
       "          27.67850957,  18.48634513,  37.50416104,  33.49939785,\n",
       "          34.68166502]),\n",
       "  array([ 45.36228955,  24.40727515,  49.24614728,  77.70088756,\n",
       "          59.10849698, 225.32419853,  93.23397491, 112.10333867,\n",
       "         109.07656321,  24.40679654,  41.3424117 ,  65.68861252,\n",
       "          21.27254126,  30.72007146,  29.11233134,  25.04136721,\n",
       "          32.447407  ,  21.37893396,  47.14461743,  40.73083478,\n",
       "          42.60407956])],\n",
       " [array([3.80886144e+04, 2.13111065e+04, 3.96494636e+04, 7.47692663e+04,\n",
       "         4.50783418e+04, 1.22015917e+05, 1.60864101e+04, 9.70544433e+04,\n",
       "         8.12318720e+04, 1.90532585e+08, 3.82821149e+06, 2.02076816e+08,\n",
       "         1.34255894e+08, 1.05351581e+06, 9.99918963e+07, 1.70656958e+08,\n",
       "         2.79590780e+06, 1.36658831e+00, 7.23045916e+07, 4.70643670e+08,\n",
       "         1.55546689e+08]),\n",
       "  array([3.96644348e+29, 9.74965706e+09, 1.62448430e+10, 7.50965310e+07,\n",
       "         4.25394157e+09, 3.88038474e+10, 1.58338896e+21, 3.04221439e+09,\n",
       "         1.10398832e+10, 1.73394632e+16, 5.86304101e+16, 1.01473675e+20,\n",
       "         1.27336048e+22, 5.66883375e+14, 1.44830292e+20, 3.28039134e+21,\n",
       "         4.49445042e+15, 7.54578646e+14, 5.03591939e+16, 1.48813100e+21,\n",
       "         9.60737642e+20])],\n",
       " [array([118.07048545, 120.97325494, 115.89551984, 107.4073245 ,\n",
       "         118.2674014 , 762.40645464, 192.85396786, 198.31775818,\n",
       "         202.12273065, 118.84695019, 118.69125053, 118.69125053,\n",
       "         118.84695019, 118.69125053, 118.84695019, 118.84695019,\n",
       "         117.5571244 ,  97.4666835 , 118.69125053, 118.84695019,\n",
       "         115.54495466]),\n",
       "  array([382.0084397 , 363.96931768, 350.35402608, 350.87922448,\n",
       "         354.12123966, 735.11276748, 466.31393592, 437.73748444,\n",
       "         425.9049344 , 265.80119133, 269.34709909, 269.34709909,\n",
       "         265.80119133, 269.34709909, 265.80119133, 265.80119133,\n",
       "         269.24326762, 279.11097756, 269.34709909, 265.80119133,\n",
       "         263.9984221 ])],\n",
       " [[0, 0, 0, 0, 0, 0, 0, 0, 0, 0, 0, 0, 0, 0, 0, 0, 0, 0, 0, 0, 0],\n",
       "  [0, 0, 0, 0, 0, 0, 0, 0, 0, 0, 0, 0, 0, 0, 0, 0, 0, 0, 0, 0, 0],\n",
       "  [0, 0, 0, 0, 0, 0, 0, 0, 0, 0, 0, 0, 0, 0, 0, 0, 0, 0, 0, 0, 0],\n",
       "  [0, 0, 0, 0, 0, 0, 0, 0, 0, 0, 0, 0, 0, 0, 0, 0, 0, 0, 0, 0, 0]],\n",
       " [[array([0, 0, 0, 0, 0, 0, 0, 0, 0, 0, 0, 0, 0, 0, 0, 0, 0, 0, 0, 0, 0]),\n",
       "   array([0, 0, 0, 0, 0, 0, 0, 0, 0, 0, 0, 0, 0, 0, 0, 0, 0, 0, 0, 0, 0])],\n",
       "  [array([0, 0, 0, 0, 0, 0, 0, 0, 0, 0, 0, 0, 0, 0, 0, 0, 0, 0, 0, 0, 0]),\n",
       "   array([0, 0, 0, 0, 0, 0, 0, 0, 0, 0, 0, 0, 0, 0, 0, 0, 0, 0, 0, 0, 0])]],\n",
       " [array([0, 0, 0, 0, 0, 0, 0, 0, 0, 0, 0, 0, 0, 0, 0, 0, 0, 0, 0, 0, 0]),\n",
       "  array([0, 0, 0, 0, 0, 0, 0, 0, 0, 0, 0, 0, 0, 0, 0, 0, 0, 0, 0, 0, 0])]]"
      ]
     },
     "execution_count": 24,
     "metadata": {},
     "output_type": "execute_result"
    }
   ],
   "source": [
    "predictiondf_errors"
   ]
  },
  {
   "cell_type": "code",
   "execution_count": null,
   "id": "145e7044-5ad8-449e-b1fe-b742da338e1d",
   "metadata": {},
   "outputs": [],
   "source": []
  }
 ],
 "metadata": {
  "kernelspec": {
   "display_name": "Python 3 (ipykernel)",
   "language": "python",
   "name": "python3"
  },
  "language_info": {
   "codemirror_mode": {
    "name": "ipython",
    "version": 3
   },
   "file_extension": ".py",
   "mimetype": "text/x-python",
   "name": "python",
   "nbconvert_exporter": "python",
   "pygments_lexer": "ipython3",
   "version": "3.9.6"
  }
 },
 "nbformat": 4,
 "nbformat_minor": 5
}
