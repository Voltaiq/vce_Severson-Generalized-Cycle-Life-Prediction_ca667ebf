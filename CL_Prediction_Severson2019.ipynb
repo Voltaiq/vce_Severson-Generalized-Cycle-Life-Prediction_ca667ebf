{
 "cells": [
  {
   "cell_type": "markdown",
   "id": "75f2829e-9166-4809-a277-94d376dbb06f",
   "metadata": {},
   "source": [
    "# Cycle Life Prediction: Generalized Severson Analysis\n",
    "\n",
    "This notebook generalizes the analysis presented in Severson's 2019 Nature Energy paper for cycle life prediction from the first 100 cycles of test data.\n",
    "\n",
    "Through a series of widgets, users can select any number of Train and Test datasets from the Voltaiq Community server, featurize those datasets based on generalizations of the features in Severson et al, train and test the Severson Variance and/or Discharge models on the Train/Test datasets, evaluate model performance, and predict cycle life for any number of Prediction datasets of interest.\n",
    "\n",
    "### Inputs:\n",
    "- **Model(s):** Users can select which models they would like to evaluate. We currently offer comparisons between the Severson Variance, Severson Discharge and Dummy models, but will continue to add in additional models from the literature. We also plan to allow users to specify their own models in the future.\n",
    "    - Once a model is selected, users can Train and Test their models, including showing parity plots, RMSE and MAPE performance plots for their selected model(s).\n",
    "- **Featurization inputs:** The train and test data will be featurized based on the Severson models, with the following nuances:\n",
    "    - Rather than using a hard-coded reference capacity for 80% capacity retention, we allow for a flexible capacity retention threshold based on the initial capacity of a test. Instead of choosing the first cycle to drop below the capacity retention threshold, we choose the first cycle to do so within a sequence of 5 consecutive cycles; this provides some robustness against noise/fluctuations\n",
    "    - A user also inputs the `start` and `end` cycles for which to perform the differencing for the voltage vs capacity data. The default is cycles 9 and 99 to correspond with the Severson analysis (note that Voltaiq uses zero-indexing on cycles as a default, unless they are explicitly specified in an input file). Note that all tests within the Train and Test datasets must include these two cycles.\n",
    "    - A cycle number must also be given from which to calculate reference capacity. The current script implementation allows a user to choose a cycle ordinal from which to calculate a reference capacity. The Severson model used cell nominal capacity as a reference capacity; however this is not known for each dataset on Voltaiq Community. Thus, a reference capacity based on the cycling data is chosen instead. Currently this cycle number must be the same for all datasets used for the model. A fixed reference cycle choice requires a user to have some information about what cycle to choose – the default ordinal is cycle 20 as that works for the curated datasets provided with this script.\n",
    "    - Voltage vs capacity data is still interpolated between the min and max values for each test record; note that the features based on a specific voltage cutoff are no longer applicable\n",
    "- **Train dataset:** Data which will be used to train the ML model(s) you choose. Choose from a number of curated publicly-available datasets, and/or choose custom data based on a test name search criteria\n",
    "    - Tests must include the same `start` and `end` cycle for the analysis range and tests should also obtain the expected end capacity retention %. If tests do not contain the `start` and `end`cycles, the code will throw an error. If tests do not meet the expected capacity retention %, those tests will be excluded from the Train and Test featurization and model evaluation.\n",
    "    - We provide an option for filtering data based on a minimum cycle count, as well as the set capacity retention threshold. Filtering by capacity retention threshold can be slow, so should be used in conjunction with a cycle number and/or test name filter.\n",
    "- **Test dataset:** Data which will be used to test (evaluate the performance) of the ML model(s) you choose. You may either choose to perform a train-test split (with a configurable split ratio) on the Train dataset, or manually choose data in a manner similar to how you chose the Train dataset.\n",
    "- **Prediction dataset:** After a model is trained and evaluated on the test dataset, users can select a Prediction dataset, and use the ML model(s) of their choice to predict the cycle life of this new dataset. Again, users can select from a curated list or choose a custom dataset based on a test name search criteria.\n",
    "    \n",
    "\n",
    "### Outputs:\n",
    "- Train/Test parity plots, RMSE, MAPE performance plots\n",
    "- The prediction step will generate a bar chart comparing the predicted cycle life for each model for each test record within the dataset, as well as the current (last) cycle of that test record\n",
    "- All train/test results can be accessed through methods and attributes of the CL_prediction class. Further exploration of the data results is possible using the resulting dataframes.\n",
    "\n",
    "### Recommended datasets:\n",
    "The Severson models were developed on fast-charge LFP cycling data. The Variance model contains a single feature based on the variance of the difference between voltage vs capacity curves of two cycles (`start` and `end`). It is likely that these ML models are degradation mode specific. Since the expected degradation mode of the original dataset focused on loss of active material of the negative electrode, cells which have that degradation mode might show better fits. Additionally, it is recommended that similar discharge protocols and cut-off voltages are used for comparison/calculate purposes for the datasets. This is because the features are calculated based on discharge steps, and data is interpolated between the upper and lower cutoff voltages. Significantly different cycling protocols might not allow the ML model to capture the appropriate feature signatures.\n",
    "\n",
    "#### References: \n",
    "[Schauser Nicole S., Lininger Christianna N., Leland Eli S., Sholklapper Tal Z. An open access tool for exploring machine learning model choice for battery life cycle prediction. Frontiers in Energy Research, 10 (2022) DOI: 10.3389/fenrg.2022.1058999](https://www.frontiersin.org/articles/10.3389/fenrg.2022.1058999)\n",
    "\n",
    "Severson et al. Data-driven prediction of battery cycle life before capacity degradation. Nature Energy volume 4, pages 383–391 (2019)\n"
   ]
  },
  {
   "cell_type": "markdown",
   "id": "428cb539-22db-4147-a51c-bffe14e15b2a",
   "metadata": {
    "tags": []
   },
   "source": [
    "#### Imports and set-up"
   ]
  },
  {
   "cell_type": "code",
   "execution_count": 1,
   "id": "74cdff71-02e5-46bc-8420-19de6a17c9ba",
   "metadata": {},
   "outputs": [
    {
     "name": "stdout",
     "output_type": "stream",
     "text": [
      "Requirement already satisfied: xgboost in /opt/conda/lib/python3.9/site-packages (1.7.3)\n",
      "Requirement already satisfied: numpy in /opt/conda/lib/python3.9/site-packages (from xgboost) (1.22.2)\n",
      "Requirement already satisfied: scipy in /opt/conda/lib/python3.9/site-packages (from xgboost) (1.5.4)\n",
      "Note: you may need to restart the kernel to use updated packages.\n"
     ]
    }
   ],
   "source": [
    "pip install xgboost"
   ]
  },
  {
   "cell_type": "code",
   "execution_count": 2,
   "id": "86ff850c-8787-4c9d-a804-a7d5d9a3f931",
   "metadata": {},
   "outputs": [
    {
     "name": "stdout",
     "output_type": "stream",
     "text": [
      "Requirement already satisfied: mapie in /opt/conda/lib/python3.9/site-packages (0.6.0)\n",
      "Requirement already satisfied: scikit-learn in /opt/conda/lib/python3.9/site-packages (from mapie) (1.0.2)\n",
      "Requirement already satisfied: numpy>=1.21 in /opt/conda/lib/python3.9/site-packages (from mapie) (1.22.2)\n",
      "Requirement already satisfied: packaging in /opt/conda/lib/python3.9/site-packages (from mapie) (21.3)\n",
      "Requirement already satisfied: pyparsing!=3.0.5,>=2.0.2 in /opt/conda/lib/python3.9/site-packages (from packaging->mapie) (2.4.7)\n",
      "Requirement already satisfied: joblib>=0.11 in /opt/conda/lib/python3.9/site-packages (from scikit-learn->mapie) (1.0.1)\n",
      "Requirement already satisfied: scipy>=1.1.0 in /opt/conda/lib/python3.9/site-packages (from scikit-learn->mapie) (1.5.4)\n",
      "Requirement already satisfied: threadpoolctl>=2.0.0 in /opt/conda/lib/python3.9/site-packages (from scikit-learn->mapie) (2.2.0)\n",
      "Note: you may need to restart the kernel to use updated packages.\n"
     ]
    }
   ],
   "source": [
    "pip install mapie"
   ]
  },
  {
   "cell_type": "code",
   "execution_count": 1,
   "id": "b0de99c1-618d-4d63-832c-00dc39ef78da",
   "metadata": {
    "tags": []
   },
   "outputs": [],
   "source": [
    "import voltaiq_studio as vs\n",
    "from voltaiq_studio import TraceFilterOperation\n",
    "\n",
    "import severson_featurization\n",
    "import ML_models\n",
    "import cl_widgets as cpw\n",
    "import importlib\n",
    "# importlib.reload(CL_prediction)\n",
    "importlib.reload(ML_models)\n",
    "importlib.reload(severson_featurization)\n",
    "importlib.reload(cpw)\n",
    "from CL_prediction import CLPrediction\n",
    "from severson_featurization import calc_X_and_y, drop_unfinished_tests\n",
    "\n",
    "import ipywidgets as widgets\n",
    "from ipywidgets import interactive, interact, fixed\n",
    "\n",
    "from IPython.display import display, Markdown\n",
    "\n",
    "import pickle\n",
    "from datetime import datetime\n",
    "\n",
    "import numpy as np\n",
    "import pandas as pd\n",
    "from scipy import stats\n",
    "import math\n",
    "\n",
    "import matplotlib.pyplot as plt\n",
    "import matplotlib as mpl\n",
    "from cycler import cycler\n",
    "import seaborn as sns\n",
    "\n",
    "# set a few default figure parameters\n",
    "mpl.rcParams['figure.figsize'] = (3,3)\n",
    "colors = ['#332288','#882255','#117733','#AA4499','#44AA99','#CC6677','#88CCEE','#DDCC77','#A3E8E7']\n",
    "\n",
    "mpl.rcParams['axes.prop_cycle'] = cycler(color=colors)\n",
    "fontsize = 6\n",
    "titlesize = 8\n",
    "mpl.rcParams['font.size'] = fontsize\n",
    "mpl.rcParams['legend.fontsize'] = fontsize\n",
    "mpl.rcParams['figure.titlesize'] = titlesize\n",
    "mpl.rcParams['axes.labelsize']=fontsize\n",
    "mpl.rcParams['lines.markersize'] = fontsize\n",
    "mpl.rcParams['figure.dpi'] = 150"
   ]
  },
  {
   "cell_type": "code",
   "execution_count": 2,
   "id": "c94e1a58-f04d-4012-8f73-46895043b5ad",
   "metadata": {
    "tags": []
   },
   "outputs": [],
   "source": [
    "trs = vs.get_test_records()"
   ]
  },
  {
   "cell_type": "markdown",
   "id": "deae3e61-2e6d-4137-bac3-769c4918e373",
   "metadata": {},
   "source": [
    "### User inputs: Select Model(s), Model Inputs, Train data and Test data"
   ]
  },
  {
   "cell_type": "code",
   "execution_count": 3,
   "id": "6283316e-3ca0-4e10-8a84-40cf0ad3834a",
   "metadata": {
    "tags": []
   },
   "outputs": [],
   "source": [
    "# we will start by instantiating a cycle life prediction object \n",
    "# which will store all relevant information for the datasets and models you will choose\n",
    "prediction1 = CLPrediction()"
   ]
  },
  {
   "cell_type": "markdown",
   "id": "e0791f61-6f3a-4a64-bc3b-b9da8e36c47f",
   "metadata": {},
   "source": [
    "#### Select Models"
   ]
  },
  {
   "cell_type": "code",
   "execution_count": 4,
   "id": "8b636a43-8f25-4713-8627-3875774b341f",
   "metadata": {},
   "outputs": [],
   "source": [
    "model_options = ['All','Dummy','Severson variance','Severson discharge','Severson discharge XGBoost']"
   ]
  },
  {
   "cell_type": "code",
   "execution_count": 5,
   "id": "fdfa589d-f343-4750-a32c-e427c9437c3d",
   "metadata": {},
   "outputs": [
    {
     "data": {
      "application/vnd.jupyter.widget-view+json": {
       "model_id": "a96208e9118d4030a660a0f44e6a09d1",
       "version_major": 2,
       "version_minor": 0
      },
      "text/plain": [
       "interactive(children=(SelectMultiple(description='Choose ML model(s)', index=(0,), options=('All', 'Dummy', 'S…"
      ]
     },
     "metadata": {},
     "output_type": "display_data"
    }
   ],
   "source": [
    "choose_model = interactive(cpw.set_model, model_choice = widgets.SelectMultiple(options = model_options, value=['All'], description='Choose ML model(s)',style={'description_width': 'initial'},disabled=False), prediction_object = fixed(prediction1), model_options = fixed(model_options))\n",
    "display(choose_model)"
   ]
  },
  {
   "cell_type": "markdown",
   "id": "dfd4ff2a-ca02-40a4-a2ac-c9201d59cf61",
   "metadata": {},
   "source": [
    "#### Select Featurization Criteria"
   ]
  },
  {
   "cell_type": "code",
   "execution_count": 6,
   "id": "f3986297-750b-4fd0-b0c8-4774a0b2fdec",
   "metadata": {},
   "outputs": [
    {
     "data": {
      "application/vnd.jupyter.widget-view+json": {
       "model_id": "adab3529379548f8bd5a884c736c438f",
       "version_major": 2,
       "version_minor": 0
      },
      "text/plain": [
       "interactive(children=(IntText(value=20, description='Initial cycle: '), IntText(value=99, description='End cyc…"
      ]
     },
     "metadata": {},
     "output_type": "display_data"
    }
   ],
   "source": [
    "featurize = interactive(cpw.featurize_inputs_widget, start_cycle = widgets.IntText(value = 20, description = 'Initial cycle: ', disabled=False,continuous_update = False),\n",
    "                        end_cycle = widgets.IntText(value = 99, description = 'End cycle: ', disabled=False,continuous_update = False),\n",
    "                        per_cap_ret = widgets.BoundedFloatText(value = 85,min = 0, max = 100, step = 1, description = '% Capacity Retention:',style={'description_width': 'initial'}, disabled=False,continuous_update = False),\n",
    "                       prediction1 = fixed(prediction1),ref_cyc = widgets.BoundedFloatText(value = 20, min = 0, step = 1, description = \"Reference cycle for capacity normalization\",style={'description_width': 'initial'} ))\n",
    "display(featurize)"
   ]
  },
  {
   "cell_type": "markdown",
   "id": "e26d43da-eda7-4a1b-8169-046e3d4c2476",
   "metadata": {},
   "source": [
    "#### Select Training Dataset"
   ]
  },
  {
   "cell_type": "code",
   "execution_count": 7,
   "id": "be6d46d5-4a40-439f-948d-50d735070d15",
   "metadata": {
    "tags": []
   },
   "outputs": [
    {
     "data": {
      "text/markdown": [
       "#### Search for test records to add to Train dataset"
      ],
      "text/plain": [
       "<IPython.core.display.Markdown object>"
      ]
     },
     "metadata": {},
     "output_type": "display_data"
    },
    {
     "data": {
      "text/markdown": [
       "Filtering tests by capacity retention is slow; check kernel status for update on completion."
      ],
      "text/plain": [
       "<IPython.core.display.Markdown object>"
      ]
     },
     "metadata": {},
     "output_type": "display_data"
    },
    {
     "data": {
      "application/vnd.jupyter.widget-view+json": {
       "model_id": "d02d847a4e954fe9a1b752cc97e78057",
       "version_major": 2,
       "version_minor": 0
      },
      "text/plain": [
       "interactive(children=(SelectMultiple(description='Training Datasets:', options=('Severson2019 - All (LFP)', 'S…"
      ]
     },
     "metadata": {},
     "output_type": "display_data"
    }
   ],
   "source": [
    "display(Markdown(\"#### Search for test records to add to Train dataset\"))\n",
    "display(Markdown(\"Filtering tests by capacity retention is slow; check kernel status for update on completion.\"))\n",
    "# search_type = widgets.RadioButtons(options=['Test Name','Min Cycle Number','Both'],\n",
    "#                                     disabled=False)\n",
    "# Want to add in some search criteria here: min cycle number (if blank, ignore), min capacity retention\n",
    "\n",
    "select_train = interactive(cpw.select_widget, \n",
    "                           train_sets = widgets.SelectMultiple(value=[], options=cpw.std_train_datasets, description=f'Training Datasets:',style={'description_width': 'initial'}, ensure_option=True),\n",
    "                          train_or_test=fixed('train'), pred_obj = fixed(prediction1), trs = fixed(trs), predict_button = fixed(None))\n",
    "\n",
    "display(select_train)"
   ]
  },
  {
   "cell_type": "markdown",
   "id": "53752740-2364-49e6-94b2-2fb091343390",
   "metadata": {
    "tags": []
   },
   "source": [
    "#### Select Testing Dataset (or train-test-split ratio)"
   ]
  },
  {
   "cell_type": "code",
   "execution_count": 8,
   "id": "912f8c53-31a6-400f-b6f8-08acb719c5a1",
   "metadata": {
    "tags": []
   },
   "outputs": [
    {
     "data": {
      "application/vnd.jupyter.widget-view+json": {
       "model_id": "fd7cf0c1241044629a8a32e81bb7000c",
       "version_major": 2,
       "version_minor": 0
      },
      "text/plain": [
       "interactive(children=(Dropdown(description='Test dataset selection method', layout=Layout(width='500px'), opti…"
      ]
     },
     "metadata": {},
     "output_type": "display_data"
    }
   ],
   "source": [
    "test_select_dropdown = interactive(cpw.test_select_method,method = widgets.Dropdown(options = ['Use train_test_split on training dataset','Select test dataset manually'], \n",
    "                                                                                value = None, description = 'Test dataset selection method', style={'description_width': 'initial'},\n",
    "                                                                                layout = widgets.Layout(width='500px')), prediction1 = fixed(prediction1), trs = fixed(trs),predict_button=fixed(None))\n",
    "display(test_select_dropdown)"
   ]
  },
  {
   "cell_type": "markdown",
   "id": "334f3dff-ba14-470d-9fcb-2616b1b5d549",
   "metadata": {},
   "source": [
    "#### Featurize the data"
   ]
  },
  {
   "cell_type": "code",
   "execution_count": 9,
   "id": "7c16a4b3-7ddc-42dc-81f3-54996b8e3a9e",
   "metadata": {
    "tags": []
   },
   "outputs": [
    {
     "data": {
      "application/vnd.jupyter.widget-view+json": {
       "model_id": "9371db5f620e41c99e25b689e7d1406f",
       "version_major": 2,
       "version_minor": 0
      },
      "text/plain": [
       "Button(button_style='danger', description='Featurize data', style=ButtonStyle(button_color='#38adad'))"
      ]
     },
     "metadata": {},
     "output_type": "display_data"
    },
    {
     "data": {
      "application/vnd.jupyter.widget-view+json": {
       "model_id": "14a07a37d32348fc84d5e1fa70a44f40",
       "version_major": 2,
       "version_minor": 0
      },
      "text/plain": [
       "Output()"
      ]
     },
     "metadata": {},
     "output_type": "display_data"
    }
   ],
   "source": [
    "output = widgets.Output()\n",
    "perform_featurize = widgets.Button(description = 'Featurize data', button_style = 'danger', style={\"button_color\": \"#38adad\"})\n",
    "\n",
    "display(perform_featurize, output)\n",
    "\n",
    "def featurize(b):\n",
    "    ''' function that will featurize the data'''\n",
    "    with output:\n",
    "        cpw.populate_test_train_data(prediction1, trs)\n",
    "        print(\"Starting featurization...\")\n",
    "        prediction1.featurize(trs)\n",
    "        print(\"Featurization complete!\")\n",
    "\n",
    "perform_featurize.on_click(featurize)"
   ]
  },
  {
   "cell_type": "markdown",
   "id": "5b7ef96b-1ff3-43cd-ae56-b9be5c9e39ed",
   "metadata": {},
   "source": [
    "#### Train & Test ML model(s)"
   ]
  },
  {
   "cell_type": "code",
   "execution_count": 13,
   "id": "78e6c60e-d820-4f12-a846-e1e17a9479a5",
   "metadata": {
    "tags": []
   },
   "outputs": [
    {
     "data": {
      "application/vnd.jupyter.widget-view+json": {
       "model_id": "61c7f337a0f842c3954419917d4e2f78",
       "version_major": 2,
       "version_minor": 0
      },
      "text/plain": [
       "Button(button_style='danger', description='Train model', style=ButtonStyle(button_color='#38adad'))"
      ]
     },
     "metadata": {},
     "output_type": "display_data"
    },
    {
     "data": {
      "application/vnd.jupyter.widget-view+json": {
       "model_id": "cf3e59a771e9460fa152c7e65fef4b51",
       "version_major": 2,
       "version_minor": 0
      },
      "text/plain": [
       "Button(button_style='danger', description='Test model', disabled=True, style=ButtonStyle(button_color='#38adad…"
      ]
     },
     "metadata": {},
     "output_type": "display_data"
    },
    {
     "data": {
      "application/vnd.jupyter.widget-view+json": {
       "model_id": "36c163e6adab4b77bf6952acf3a6cdcd",
       "version_major": 2,
       "version_minor": 0
      },
      "text/plain": [
       "Button(button_style='danger', description='Generate Parity Plots', disabled=True, style=ButtonStyle(button_col…"
      ]
     },
     "metadata": {},
     "output_type": "display_data"
    },
    {
     "data": {
      "application/vnd.jupyter.widget-view+json": {
       "model_id": "a2b4a3df2689466da52845b117f5b70f",
       "version_major": 2,
       "version_minor": 0
      },
      "text/plain": [
       "Button(button_style='danger', description='Plot MAPE results', disabled=True, style=ButtonStyle(button_color='…"
      ]
     },
     "metadata": {},
     "output_type": "display_data"
    },
    {
     "data": {
      "application/vnd.jupyter.widget-view+json": {
       "model_id": "b2a84af37b0247d7ac11415983b2b7c8",
       "version_major": 2,
       "version_minor": 0
      },
      "text/plain": [
       "Button(button_style='danger', description='Plot RMSE results', disabled=True, style=ButtonStyle(button_color='…"
      ]
     },
     "metadata": {},
     "output_type": "display_data"
    },
    {
     "data": {
      "application/vnd.jupyter.widget-view+json": {
       "model_id": "23cc43441cb248aca1efec640a47d4b8",
       "version_major": 2,
       "version_minor": 0
      },
      "text/plain": [
       "Output()"
      ]
     },
     "metadata": {},
     "output_type": "display_data"
    }
   ],
   "source": [
    "train_model_button = widgets.Button(description = 'Train model', button_style = 'danger', style={\"button_color\": \"#38adad\"})\n",
    "test_button = widgets.Button(description = 'Test model', button_style = 'danger', style={\"button_color\": \"#38adad\"},disabled=True,)\n",
    "parity_button = widgets.Button(description = 'Generate Parity Plots', button_style = 'danger', style={\"button_color\": \"#38adad\"},disabled=True)\n",
    "MAPE_button = widgets.Button(description = 'Plot MAPE results', button_style = 'danger', style={\"button_color\": \"#38adad\"},disabled=True)\n",
    "RMSE_button = widgets.Button(description = 'Plot RMSE results', button_style = 'danger', style={\"button_color\": \"#38adad\"},disabled=True)\n",
    "\n",
    "\n",
    "output = widgets.Output()\n",
    "display(train_model_button, test_button,parity_button,MAPE_button,RMSE_button, output)\n",
    "\n",
    "def train_button(b):\n",
    "    with output:\n",
    "        prediction1.train_model()\n",
    "        test_button.disabled = False\n",
    "\n",
    "def test_click(b):\n",
    "    with output:\n",
    "        prediction1.test_predict()\n",
    "        parity_button.disabled = False\n",
    "        MAPE_button.disabled = False\n",
    "        RMSE_button.disabled = False\n",
    "        \n",
    "def parity_click(b):\n",
    "    with output:\n",
    "        prediction1.create_parity_plots()\n",
    "\n",
    "def mape_click(b):\n",
    "    with output:\n",
    "        prediction1.plot_model_stats('MAPE')\n",
    "        prediction1.plot_grouped_model_stats('MAPE')\n",
    "        \n",
    "def rmse_click(b):\n",
    "    with output:\n",
    "        prediction1.plot_model_stats('RMSE')\n",
    "        \n",
    "train_model_button.on_click(train_button)\n",
    "test_button.on_click(test_click)\n",
    "parity_button.on_click(parity_click)\n",
    "MAPE_button.on_click(mape_click)\n",
    "RMSE_button.on_click(rmse_click)"
   ]
  },
  {
   "cell_type": "markdown",
   "id": "ae16bd1d-1451-45dc-9b55-62b69f2c327b",
   "metadata": {},
   "source": [
    "### Model uncertainty / prediction intervals\n",
    "It is important to not only be able to look at a model's error during the training process, but also be able to estimate or identify the model uncertainty for a new prediction.\n",
    "\n",
    "[ need to have some background/description on what the methods are, why this is important, etc.]. Should take some things from this blog: https://www.valencekjell.com/posts/2022-09-14-prediction-intervals/\n",
    "\n",
    "There are a few ways to obtain the prediction intervals. For linear regression, these can be computed analytically. For other models, they are inherently included in the model framework (e.g. Bayesian approaches such as [Bayesian Ridge Regression](sklearn link) and __ ). Lastly, there are options for computing the uncertainty (aka prediciton intervals) using python packages such as [MAPIE](https://github.com/scikit-learn-contrib/MAPIE), which stands for \"Model Agnostic Prediction Interval Estimator\". A good tutorial on using MAPIE for tabular regression (as is the case for cycle life prediciton) can be found in their [documentation](https://mapie.readthedocs.io/en/latest/examples_regression/4-tutorials/plot_main-tutorial-regression.html). The benefits of this approach is that it can be used for any sklearn-compatible regressor, making it a powerful option when trying to compare multiple models!"
   ]
  },
  {
   "cell_type": "markdown",
   "id": "156a9ea1-bb60-474d-b4c0-49ef635eb261",
   "metadata": {},
   "source": [
    "next step (for this afternoon): figure out how to store and plot the error bars, then compare how a mapie model performs relative to the non-mapie model. Then figure out how to add in the error estimate for every predicted datapoint."
   ]
  },
  {
   "cell_type": "code",
   "execution_count": null,
   "id": "ecd91ef9-599a-4ef4-b589-ffb9f69b7cf3",
   "metadata": {},
   "outputs": [],
   "source": [
    "from sklearn.ensemble import RandomForestRegressor\n",
    "from mapie.regression import MapieRegressor\n",
    "\n",
    "# Train model\n",
    "est = RandomForestRegressor(n_estimators=10, random_state=42)\n",
    "# use the cv+ method, based off of the following two references:\n",
    "# https://mapie.readthedocs.io/en/latest/examples_regression/4-tutorials/plot_main-tutorial-regression.html \n",
    "# and https://www.valencekjell.com/posts/2022-09-14-prediction-intervals/\n",
    "mapie = MapieRegressor(est, method = \"plus\", cv=10, agg_function=\"median\")\n",
    "mapie.fit(X_train, y_train)\n",
    "y_test_pred, y_test_pis = mapie.predict(X_test, alpha=[0.05])\n",
    "\n",
    "# Plot the data with the error bars\n",
    "y_err = np.abs(y_test_pis[:, :, 0].T - y_test_pred)\n",
    "plt.errorbar(y_test, y_test_pred, yerr=y_err, fmt=\"o\", ecolor=\"gray\", capsize=3)\n",
    "plt.plot(plt.xlim(), plt.xlim(), color=\"lightgray\", scalex=False, scaley=False)\n",
    "\n",
    "# Print out statistics\n",
    "mae_test = mean_absolute_error(y_test, y_test_pred)\n",
    "print(f\"MAE: {mae_test:.3f}\")\n",
    "print(f\"Width of 95% prediction interval: {np.mean(y_err) * 2:3f}\")\n",
    "coverage = regression_coverage_score(y_test, y_test_pis[:, 0, 0], y_test_pis[:, 1, 0])\n",
    "print(f\"Coverage: {coverage:.3f}\")"
   ]
  },
  {
   "cell_type": "code",
   "execution_count": null,
   "id": "28986dab-25ff-4649-9c3c-499af31fab66",
   "metadata": {},
   "outputs": [],
   "source": []
  },
  {
   "cell_type": "markdown",
   "id": "fcbdaf1d-9503-4538-84dc-2cb7f8316b18",
   "metadata": {},
   "source": [
    "#### Saving a model for future use\n",
    "The next section allows a user to save a trained model for use on predicitons in the future. Users must select the model(s) they would like to save, as well as names for those models. Models will be saved as pickle files which can be loaded back into python for futher use."
   ]
  },
  {
   "cell_type": "code",
   "execution_count": null,
   "id": "a8da7e4d-60a9-4797-ab64-c3bbbca400cd",
   "metadata": {},
   "outputs": [],
   "source": [
    "# save the entire prediction object. This includes all models and formatted data\n",
    "name = \"prediction_example\" + str(datetime.now())\n",
    "with open(name,'wb') as files:\n",
    "    pickle.dump(prediction1, files)"
   ]
  },
  {
   "cell_type": "code",
   "execution_count": null,
   "id": "5c42189a-7344-41bd-aa11-baf674a1d7fe",
   "metadata": {},
   "outputs": [],
   "source": [
    "# just save the models\n",
    "for model in prediction1.ml_model:\n",
    "    print(model)"
   ]
  },
  {
   "cell_type": "code",
   "execution_count": null,
   "id": "99e71ed9-c50f-4018-8f71-61aaeb9b3a4b",
   "metadata": {},
   "outputs": [],
   "source": [
    "# choose a model from the list and edit the model_to_save variable\n",
    "model_to_save = 'Severson variance'\n",
    "model_name = model_to_save + str(datetime.now())\n",
    "with open(model_name,'wb') as files:\n",
    "    pickle.dump(prediction1.trained_models[model_to_save], files)"
   ]
  },
  {
   "cell_type": "code",
   "execution_count": null,
   "id": "ccbcb3a0-8453-4c33-b194-d9318a8beb63",
   "metadata": {},
   "outputs": [],
   "source": [
    "# just save the featurized data:\n",
    "X_train, X_test, y_train, y_test = prediction1.get_featurized_data()\n",
    "data_dict = {'X_train':X_train,' X_test':X_test, 'y_train':y_train, 'y_test':y_test}\n",
    "data_name = \"prediction_data\" + str(datetime.now())\n",
    "with open(data_name,'wb') as files:\n",
    "    pickle.dump(data_dict, files)"
   ]
  },
  {
   "cell_type": "markdown",
   "id": "12ef376f-45fc-49c3-88f6-be9c03db3be3",
   "metadata": {},
   "source": [
    "To load in a prediction object, use the following code block:"
   ]
  },
  {
   "cell_type": "code",
   "execution_count": null,
   "id": "86811b22-28cc-4c76-b621-315662be67d8",
   "metadata": {},
   "outputs": [],
   "source": [
    "load_name = name\n",
    "with open(load_name, \"rb\") as f:\n",
    "    prediction_load = pickle.load(f)"
   ]
  },
  {
   "cell_type": "code",
   "execution_count": null,
   "id": "311ab6d4-2013-4345-9d58-83ad4db7655b",
   "metadata": {},
   "outputs": [],
   "source": [
    "# we can examine the prediction object by creating the parity plots, for example\n",
    "prediction_load.create_parity_plots()"
   ]
  },
  {
   "cell_type": "markdown",
   "id": "ae9679a8-111e-40ab-ad21-2ef67fc34411",
   "metadata": {},
   "source": [
    "Similar code can be used for models or data:"
   ]
  },
  {
   "cell_type": "code",
   "execution_count": null,
   "id": "1ccbae62-41d5-4d7e-9c54-cc9f362ea644",
   "metadata": {},
   "outputs": [],
   "source": [
    "load_name = model_name\n",
    "with open(load_name, \"rb\") as f:\n",
    "    model_load = pickle.load(f)"
   ]
  },
  {
   "cell_type": "code",
   "execution_count": null,
   "id": "c60181b8-68b1-4386-8971-5d70110a37f9",
   "metadata": {},
   "outputs": [],
   "source": [
    "load_name = data_name\n",
    "with open(load_name, \"rb\") as f:\n",
    "    data_load = pickle.load(f)\n",
    "data_load['X_train'].head()"
   ]
  },
  {
   "cell_type": "markdown",
   "id": "100b82a7-afe1-4bbc-801a-349a091b7a68",
   "metadata": {},
   "source": [
    "With the next block of code, a user can set the loaded model to be the model used for analysis moving forward:"
   ]
  },
  {
   "cell_type": "code",
   "execution_count": null,
   "id": "420333e0-1314-416e-a46e-6de2de038fed",
   "metadata": {},
   "outputs": [],
   "source": [
    "prediction1 = prediction_load"
   ]
  },
  {
   "cell_type": "markdown",
   "id": "0eb13cbb-e817-48db-a642-d5f11364b263",
   "metadata": {
    "tags": []
   },
   "source": [
    "#### Exploring data feature distributions\n",
    "\n",
    "First, identify the most important features for the Severson Discharge model (skip this step if the model was not chosen.\n",
    "\n",
    "Next, plot the feature distributions of the three most important features in terms of model weighting."
   ]
  },
  {
   "cell_type": "code",
   "execution_count": null,
   "id": "ed026c55-102a-44a4-8581-25a406c34766",
   "metadata": {},
   "outputs": [],
   "source": [
    "eNet_dchg_coef = pd.DataFrame()\n",
    "eNet_dchg_coef['features'] = prediction1.trained_models['Severson discharge'].pipeline.named_steps['enet'].coef_\n",
    "eNet_dchg_coef['coef'] = prediction1.trained_models['Severson discharge'].X_train.columns\n",
    "eNet_dchg_coef['abs_features'] = abs(eNet_dchg_coef['features'])\n",
    "eNet_dchg_coef_sorted = eNet_dchg_coef.sort_values('abs_features',ascending=False)\n",
    "eNet_dchg_coef_sorted.reset_index(inplace=True,drop=True)\n",
    "eNet_dchg_coef_sorted.drop(columns=['abs_features'],inplace=True)\n",
    "\n",
    "eNet_dchg_coef_sorted"
   ]
  },
  {
   "cell_type": "code",
   "execution_count": null,
   "id": "4314f1bd-68f2-4baf-b5eb-879727b46666",
   "metadata": {},
   "outputs": [],
   "source": [
    "for feature in eNet_dchg_coef_sorted.coef[0:3]:\n",
    "    prediction1.grouped_feature_distribution(feature)"
   ]
  },
  {
   "cell_type": "markdown",
   "id": "80c16f97-b70c-409a-bfe8-fce9783db63a",
   "metadata": {},
   "source": [
    "#### Pearson correlation coefficient plots and analysis"
   ]
  },
  {
   "cell_type": "code",
   "execution_count": null,
   "id": "02c59112-29c9-4329-89b4-884eaff831cf",
   "metadata": {},
   "outputs": [],
   "source": [
    "train_test_variance_grp = pd.concat([prediction1.X_train[['Dataset_group','var_deltaQ']],prediction1.X_test[['Dataset_group','var_deltaQ']]],ignore_index=True)\n",
    "train_test_log_cyc = pd.concat([prediction1.y_train[['log_cyc_life']],prediction1.y_test[['log_cyc_life']]],ignore_index=True)"
   ]
  },
  {
   "cell_type": "code",
   "execution_count": null,
   "id": "9861d443-63a0-4918-9afe-c4d9bd55d0b7",
   "metadata": {},
   "outputs": [],
   "source": [
    "unique_grps = pd.unique(train_test_variance_grp.Dataset_group)\n",
    "\n",
    "for grp in unique_grps:\n",
    "    train_idx = train_test_variance_grp[train_test_variance_grp.Dataset_group == grp].index\n",
    "    plt.scatter(x=train_test_variance_grp.var_deltaQ[train_idx],y=train_test_log_cyc.log_cyc_life[train_idx],label=grp,alpha=0.6)\n",
    "# plt.yscale('log')\n",
    "plt.legend(loc='best',bbox_to_anchor=(1,1))\n",
    "# plt.axis('square')\n",
    "plt.ylabel('Log cycles to 85% capacity retention')\n",
    "plt.xlabel('Log Variance feature')\n",
    "plt.show()"
   ]
  },
  {
   "cell_type": "code",
   "execution_count": null,
   "id": "bd92a31b-7700-456a-af67-7d794e7b6e41",
   "metadata": {},
   "outputs": [],
   "source": [
    "pearson_correlation = pd.DataFrame()\n",
    "names = []\n",
    "correlation = []\n",
    "for grp in unique_grps:\n",
    "    train_idx = train_test_variance_grp[train_test_variance_grp.Dataset_group == grp].index\n",
    "    var = train_test_variance_grp.var_deltaQ[train_idx]\n",
    "    lftm = train_test_log_cyc.log_cyc_life[train_idx]\n",
    "    names.append(grp)\n",
    "    correlation.append(stats.pearsonr(var, lftm)[0])\n",
    "pearson_correlation['Dataset']=names\n",
    "pearson_correlation['Pearson Correlation Coefficient'] = correlation\n",
    "pearson_correlation"
   ]
  },
  {
   "cell_type": "code",
   "execution_count": null,
   "id": "59b249aa-5a58-4a7e-b2c6-ff771e39f232",
   "metadata": {
    "tags": []
   },
   "outputs": [],
   "source": [
    "i=0\n",
    "colors = colors*math.ceil(len(unique_grps)/len(colors))\n",
    "for grp in unique_grps:\n",
    "    train_idx = train_test_variance_grp[train_test_variance_grp.Dataset_group == grp].index\n",
    "    plt.scatter(x=train_test_variance_grp.var_deltaQ[train_idx],y=train_test_log_cyc.log_cyc_life[train_idx],label=grp,alpha=0.6,c=colors[i])\n",
    "    plt.legend()\n",
    "    plt.ylabel('Log cycles to 85% capacity retention')\n",
    "    plt.xlabel('Log Variance feature')\n",
    "    plt.show()\n",
    "    i+=1"
   ]
  },
  {
   "cell_type": "markdown",
   "id": "d1f23e64-8208-4b29-a40a-3a2103c739d1",
   "metadata": {},
   "source": [
    "#### Tabular data\n",
    "The following code sections allow users to look at tabular data of the Test and Train dataset performance. Users will have to change the model and train_vs_test to update the dataframe that is returned"
   ]
  },
  {
   "cell_type": "code",
   "execution_count": 34,
   "id": "3bcf106d-605e-41a0-aa80-b724ea5b05ad",
   "metadata": {
    "tags": []
   },
   "outputs": [
    {
     "name": "stderr",
     "output_type": "stream",
     "text": [
      "/home/jovyan/vce_Severson-Generalized-Cycle-Life-Prediction_ca667ebf/CL_prediction.py:415: RuntimeWarning: overflow encountered in power\n",
      "  pred_dict[model][model+' Predicted cycle life'] = np.power(10,self.trained_models[model].get_prediction()[0])\n"
     ]
    },
    {
     "data": {
      "text/html": [
       "<div>\n",
       "<style scoped>\n",
       "    .dataframe tbody tr th:only-of-type {\n",
       "        vertical-align: middle;\n",
       "    }\n",
       "\n",
       "    .dataframe tbody tr th {\n",
       "        vertical-align: top;\n",
       "    }\n",
       "\n",
       "    .dataframe thead th {\n",
       "        text-align: right;\n",
       "    }\n",
       "</style>\n",
       "<table border=\"1\" class=\"dataframe\">\n",
       "  <thead>\n",
       "    <tr style=\"text-align: right;\">\n",
       "      <th></th>\n",
       "      <th>Name</th>\n",
       "      <th>Dummy Predicted cycle life</th>\n",
       "      <th>Severson variance Predicted cycle life</th>\n",
       "      <th>Severson discharge Predicted cycle life</th>\n",
       "      <th>Severson discharge XGBoost Predicted cycle life</th>\n",
       "      <th>Actual cycle life</th>\n",
       "    </tr>\n",
       "  </thead>\n",
       "  <tbody>\n",
       "    <tr>\n",
       "      <th>0</th>\n",
       "      <td>2017-05-12_3_6C-80per_3_6C_CH2_VDF</td>\n",
       "      <td>591.681462</td>\n",
       "      <td>1831.526479</td>\n",
       "      <td>1935.981365</td>\n",
       "      <td>inf</td>\n",
       "      <td>2055.0</td>\n",
       "    </tr>\n",
       "    <tr>\n",
       "      <th>1</th>\n",
       "      <td>2017-05-12_4C-80per_4C_CH5_VDF</td>\n",
       "      <td>591.681462</td>\n",
       "      <td>1311.373091</td>\n",
       "      <td>1265.734012</td>\n",
       "      <td>1.000668e+38</td>\n",
       "      <td>1336.0</td>\n",
       "    </tr>\n",
       "    <tr>\n",
       "      <th>2</th>\n",
       "      <td>2017-05-12_4_4C-80per_4_4C_CH7_VDF</td>\n",
       "      <td>591.681462</td>\n",
       "      <td>984.717083</td>\n",
       "      <td>938.170719</td>\n",
       "      <td>9.982361e+36</td>\n",
       "      <td>1037.0</td>\n",
       "    </tr>\n",
       "    <tr>\n",
       "      <th>3</th>\n",
       "      <td>2017-05-12_4_8C-80per_4_8C_CH9_VDF</td>\n",
       "      <td>591.681462</td>\n",
       "      <td>796.009690</td>\n",
       "      <td>880.307706</td>\n",
       "      <td>1.000615e+32</td>\n",
       "      <td>817.0</td>\n",
       "    </tr>\n",
       "    <tr>\n",
       "      <th>4</th>\n",
       "      <td>2017-05-12_5_4C-50per_3C_CH14_VDF</td>\n",
       "      <td>591.681462</td>\n",
       "      <td>842.168433</td>\n",
       "      <td>792.616757</td>\n",
       "      <td>9.996794e+29</td>\n",
       "      <td>766.0</td>\n",
       "    </tr>\n",
       "    <tr>\n",
       "      <th>5</th>\n",
       "      <td>2017-05-12_5_4C-60per_3C_CH16_VDF</td>\n",
       "      <td>591.681462</td>\n",
       "      <td>869.026918</td>\n",
       "      <td>825.203016</td>\n",
       "      <td>1.000808e+27</td>\n",
       "      <td>694.0</td>\n",
       "    </tr>\n",
       "    <tr>\n",
       "      <th>6</th>\n",
       "      <td>2017-05-12_5_4C-60per_3_6C_CH24_VDF</td>\n",
       "      <td>591.681462</td>\n",
       "      <td>773.781972</td>\n",
       "      <td>744.723451</td>\n",
       "      <td>9.999824e+32</td>\n",
       "      <td>821.0</td>\n",
       "    </tr>\n",
       "    <tr>\n",
       "      <th>7</th>\n",
       "      <td>2017-05-12_5_4C-70per_3C_CH18_VDF</td>\n",
       "      <td>591.681462</td>\n",
       "      <td>607.265069</td>\n",
       "      <td>640.557350</td>\n",
       "      <td>1.000624e+29</td>\n",
       "      <td>736.0</td>\n",
       "    </tr>\n",
       "    <tr>\n",
       "      <th>8</th>\n",
       "      <td>2017-05-12_5_4C-80per_5_4C_CH12_VDF</td>\n",
       "      <td>591.681462</td>\n",
       "      <td>473.742034</td>\n",
       "      <td>504.336753</td>\n",
       "      <td>9.993722e+19</td>\n",
       "      <td>532.0</td>\n",
       "    </tr>\n",
       "    <tr>\n",
       "      <th>9</th>\n",
       "      <td>2017-05-12_6C-40per_3C_CH25_VDF</td>\n",
       "      <td>591.681462</td>\n",
       "      <td>785.097697</td>\n",
       "      <td>763.578641</td>\n",
       "      <td>9.979205e+35</td>\n",
       "      <td>974.0</td>\n",
       "    </tr>\n",
       "    <tr>\n",
       "      <th>10</th>\n",
       "      <td>2017-05-12_6C-40per_3_6C_CH33_VDF</td>\n",
       "      <td>591.681462</td>\n",
       "      <td>708.246621</td>\n",
       "      <td>737.591939</td>\n",
       "      <td>9.997453e+33</td>\n",
       "      <td>823.0</td>\n",
       "    </tr>\n",
       "    <tr>\n",
       "      <th>11</th>\n",
       "      <td>2017-05-12_6C-50per_3C_CH27_VDF</td>\n",
       "      <td>591.681462</td>\n",
       "      <td>730.268370</td>\n",
       "      <td>709.210157</td>\n",
       "      <td>1.000571e+31</td>\n",
       "      <td>811.0</td>\n",
       "    </tr>\n",
       "    <tr>\n",
       "      <th>12</th>\n",
       "      <td>2017-05-12_6C-50per_3_6C_CH35_VDF</td>\n",
       "      <td>591.681462</td>\n",
       "      <td>668.672628</td>\n",
       "      <td>677.475824</td>\n",
       "      <td>1.001112e+25</td>\n",
       "      <td>675.0</td>\n",
       "    </tr>\n",
       "    <tr>\n",
       "      <th>13</th>\n",
       "      <td>2017-05-12_6C-60per_3C_CH29_VDF</td>\n",
       "      <td>591.681462</td>\n",
       "      <td>610.115842</td>\n",
       "      <td>603.922194</td>\n",
       "      <td>9.968867e+25</td>\n",
       "      <td>691.0</td>\n",
       "    </tr>\n",
       "    <tr>\n",
       "      <th>14</th>\n",
       "      <td>2017-05-12_7C-30per_3_6C_CH39_VDF</td>\n",
       "      <td>591.681462</td>\n",
       "      <td>734.083028</td>\n",
       "      <td>725.541796</td>\n",
       "      <td>1.004022e+28</td>\n",
       "      <td>711.0</td>\n",
       "    </tr>\n",
       "    <tr>\n",
       "      <th>15</th>\n",
       "      <td>2017-05-12_7C-40per_3C_CH37_VDF</td>\n",
       "      <td>591.681462</td>\n",
       "      <td>621.374599</td>\n",
       "      <td>609.069078</td>\n",
       "      <td>9.987667e+23</td>\n",
       "      <td>666.0</td>\n",
       "    </tr>\n",
       "    <tr>\n",
       "      <th>16</th>\n",
       "      <td>2017-05-12_7C-40per_3_6C_CH41_VDF</td>\n",
       "      <td>591.681462</td>\n",
       "      <td>510.379392</td>\n",
       "      <td>497.478625</td>\n",
       "      <td>9.999429e+21</td>\n",
       "      <td>588.0</td>\n",
       "    </tr>\n",
       "    <tr>\n",
       "      <th>17</th>\n",
       "      <td>2017-05-12_8C-15per_3_6C_CH43_VDF</td>\n",
       "      <td>591.681462</td>\n",
       "      <td>840.727828</td>\n",
       "      <td>852.742854</td>\n",
       "      <td>1.000905e+35</td>\n",
       "      <td>914.0</td>\n",
       "    </tr>\n",
       "    <tr>\n",
       "      <th>18</th>\n",
       "      <td>2017-05-12_8C-25per_3_6C_CH45_VDF</td>\n",
       "      <td>591.681462</td>\n",
       "      <td>630.423385</td>\n",
       "      <td>630.131043</td>\n",
       "      <td>9.995873e+22</td>\n",
       "      <td>657.0</td>\n",
       "    </tr>\n",
       "    <tr>\n",
       "      <th>19</th>\n",
       "      <td>2017-05-12_8C-35per_3_6C_CH47_VDF</td>\n",
       "      <td>591.681462</td>\n",
       "      <td>503.616606</td>\n",
       "      <td>514.143279</td>\n",
       "      <td>9.999912e+20</td>\n",
       "      <td>571.0</td>\n",
       "    </tr>\n",
       "    <tr>\n",
       "      <th>20</th>\n",
       "      <td>2017-06-30_1C-4per_6C_CH9_VDF</td>\n",
       "      <td>591.681462</td>\n",
       "      <td>255.119084</td>\n",
       "      <td>287.828542</td>\n",
       "      <td>1.001030e+00</td>\n",
       "      <td>275.0</td>\n",
       "    </tr>\n",
       "    <tr>\n",
       "      <th>21</th>\n",
       "      <td>2017-06-30_2C-2per_5C_CH11_VDF</td>\n",
       "      <td>591.681462</td>\n",
       "      <td>431.939094</td>\n",
       "      <td>447.533184</td>\n",
       "      <td>9.999907e+01</td>\n",
       "      <td>419.0</td>\n",
       "    </tr>\n",
       "    <tr>\n",
       "      <th>22</th>\n",
       "      <td>2017-06-30_3_6C-22per_5_5C_CH13_VDF</td>\n",
       "      <td>591.681462</td>\n",
       "      <td>439.066807</td>\n",
       "      <td>443.074804</td>\n",
       "      <td>1.001239e+03</td>\n",
       "      <td>423.0</td>\n",
       "    </tr>\n",
       "    <tr>\n",
       "      <th>23</th>\n",
       "      <td>2017-06-30_3_6C-30per_6C_CH15_VDF</td>\n",
       "      <td>591.681462</td>\n",
       "      <td>427.946015</td>\n",
       "      <td>433.196345</td>\n",
       "      <td>9.963526e+15</td>\n",
       "      <td>472.0</td>\n",
       "    </tr>\n",
       "    <tr>\n",
       "      <th>24</th>\n",
       "      <td>2017-06-30_4C-13per_5C_CH27_VDF</td>\n",
       "      <td>591.681462</td>\n",
       "      <td>530.050109</td>\n",
       "      <td>513.820211</td>\n",
       "      <td>9.998441e+10</td>\n",
       "      <td>457.0</td>\n",
       "    </tr>\n",
       "    <tr>\n",
       "      <th>25</th>\n",
       "      <td>2017-06-30_4C-40per_6C_CH29_VDF</td>\n",
       "      <td>591.681462</td>\n",
       "      <td>401.075333</td>\n",
       "      <td>433.096782</td>\n",
       "      <td>9.998880e+08</td>\n",
       "      <td>451.0</td>\n",
       "    </tr>\n",
       "    <tr>\n",
       "      <th>26</th>\n",
       "      <td>2017-06-30_4_4C-24per_5C_CH17_VDF</td>\n",
       "      <td>591.681462</td>\n",
       "      <td>387.508666</td>\n",
       "      <td>411.208645</td>\n",
       "      <td>1.000532e+16</td>\n",
       "      <td>472.0</td>\n",
       "    </tr>\n",
       "    <tr>\n",
       "      <th>27</th>\n",
       "      <td>2017-06-30_4_4C-55per_6C_CH19_VDF</td>\n",
       "      <td>591.681462</td>\n",
       "      <td>425.036342</td>\n",
       "      <td>391.987080</td>\n",
       "      <td>9.999386e+09</td>\n",
       "      <td>454.0</td>\n",
       "    </tr>\n",
       "    <tr>\n",
       "      <th>28</th>\n",
       "      <td>2017-06-30_4_65C-19per_4_85C_CH21_VDF</td>\n",
       "      <td>591.681462</td>\n",
       "      <td>559.752601</td>\n",
       "      <td>550.211712</td>\n",
       "      <td>1.001000e+13</td>\n",
       "      <td>465.0</td>\n",
       "    </tr>\n",
       "    <tr>\n",
       "      <th>29</th>\n",
       "      <td>2017-06-30_4_65C-69per_6C_CH23_VDF</td>\n",
       "      <td>591.681462</td>\n",
       "      <td>458.370556</td>\n",
       "      <td>458.162970</td>\n",
       "      <td>9.996487e+18</td>\n",
       "      <td>500.0</td>\n",
       "    </tr>\n",
       "    <tr>\n",
       "      <th>30</th>\n",
       "      <td>2017-06-30_4_8C-80per_4_8C_CH7_VDF</td>\n",
       "      <td>591.681462</td>\n",
       "      <td>459.268143</td>\n",
       "      <td>446.264738</td>\n",
       "      <td>1.000116e+06</td>\n",
       "      <td>443.0</td>\n",
       "    </tr>\n",
       "    <tr>\n",
       "      <th>31</th>\n",
       "      <td>2017-06-30_4_9C-27per_4_75C_CH24_VDF</td>\n",
       "      <td>591.681462</td>\n",
       "      <td>493.607616</td>\n",
       "      <td>473.652325</td>\n",
       "      <td>9.990584e+07</td>\n",
       "      <td>449.0</td>\n",
       "    </tr>\n",
       "    <tr>\n",
       "      <th>32</th>\n",
       "      <td>2017-06-30_4_9C-69per_4_25C_CH26_VDF</td>\n",
       "      <td>591.681462</td>\n",
       "      <td>517.873329</td>\n",
       "      <td>524.136043</td>\n",
       "      <td>1.000488e+17</td>\n",
       "      <td>477.0</td>\n",
       "    </tr>\n",
       "    <tr>\n",
       "      <th>33</th>\n",
       "      <td>2017-06-30_5_2C-37per_4_5C_CH32_VDF</td>\n",
       "      <td>591.681462</td>\n",
       "      <td>656.928729</td>\n",
       "      <td>621.404087</td>\n",
       "      <td>1.000121e+15</td>\n",
       "      <td>470.0</td>\n",
       "    </tr>\n",
       "    <tr>\n",
       "      <th>34</th>\n",
       "      <td>2017-06-30_5_2C-58per_4C_CH34_VDF</td>\n",
       "      <td>591.681462</td>\n",
       "      <td>500.676408</td>\n",
       "      <td>513.286033</td>\n",
       "      <td>1.000589e+18</td>\n",
       "      <td>495.0</td>\n",
       "    </tr>\n",
       "    <tr>\n",
       "      <th>35</th>\n",
       "      <td>2017-06-30_5_2C-71per_3C_CH36_VDF</td>\n",
       "      <td>591.681462</td>\n",
       "      <td>517.766636</td>\n",
       "      <td>512.290684</td>\n",
       "      <td>1.000822e+07</td>\n",
       "      <td>446.0</td>\n",
       "    </tr>\n",
       "    <tr>\n",
       "      <th>36</th>\n",
       "      <td>2017-06-30_5_6C-38per_4_25C_CH38_VDF</td>\n",
       "      <td>591.681462</td>\n",
       "      <td>509.841497</td>\n",
       "      <td>508.811245</td>\n",
       "      <td>9.985386e+11</td>\n",
       "      <td>458.0</td>\n",
       "    </tr>\n",
       "    <tr>\n",
       "      <th>37</th>\n",
       "      <td>2017-06-30_5_6C-58per_3_5C_CH40_VDF</td>\n",
       "      <td>591.681462</td>\n",
       "      <td>484.310804</td>\n",
       "      <td>490.217701</td>\n",
       "      <td>9.998655e+03</td>\n",
       "      <td>438.0</td>\n",
       "    </tr>\n",
       "    <tr>\n",
       "      <th>38</th>\n",
       "      <td>2017-06-30_5_6C-65per_3C_CH42_VDF</td>\n",
       "      <td>591.681462</td>\n",
       "      <td>536.756835</td>\n",
       "      <td>519.597552</td>\n",
       "      <td>1.003063e+01</td>\n",
       "      <td>412.0</td>\n",
       "    </tr>\n",
       "    <tr>\n",
       "      <th>39</th>\n",
       "      <td>2017-06-30_6C-31per_4_25C_CH44_VDF</td>\n",
       "      <td>591.681462</td>\n",
       "      <td>453.582713</td>\n",
       "      <td>454.731529</td>\n",
       "      <td>1.001332e+05</td>\n",
       "      <td>439.0</td>\n",
       "    </tr>\n",
       "    <tr>\n",
       "      <th>40</th>\n",
       "      <td>2017-06-30_6C-4per_4_75C_CH46_VDF</td>\n",
       "      <td>591.681462</td>\n",
       "      <td>640.984000</td>\n",
       "      <td>600.174472</td>\n",
       "      <td>1.000075e+14</td>\n",
       "      <td>466.0</td>\n",
       "    </tr>\n",
       "  </tbody>\n",
       "</table>\n",
       "</div>"
      ],
      "text/plain": [
       "                                     Name  Dummy Predicted cycle life  \\\n",
       "0      2017-05-12_3_6C-80per_3_6C_CH2_VDF                  591.681462   \n",
       "1          2017-05-12_4C-80per_4C_CH5_VDF                  591.681462   \n",
       "2      2017-05-12_4_4C-80per_4_4C_CH7_VDF                  591.681462   \n",
       "3      2017-05-12_4_8C-80per_4_8C_CH9_VDF                  591.681462   \n",
       "4       2017-05-12_5_4C-50per_3C_CH14_VDF                  591.681462   \n",
       "5       2017-05-12_5_4C-60per_3C_CH16_VDF                  591.681462   \n",
       "6     2017-05-12_5_4C-60per_3_6C_CH24_VDF                  591.681462   \n",
       "7       2017-05-12_5_4C-70per_3C_CH18_VDF                  591.681462   \n",
       "8     2017-05-12_5_4C-80per_5_4C_CH12_VDF                  591.681462   \n",
       "9         2017-05-12_6C-40per_3C_CH25_VDF                  591.681462   \n",
       "10      2017-05-12_6C-40per_3_6C_CH33_VDF                  591.681462   \n",
       "11        2017-05-12_6C-50per_3C_CH27_VDF                  591.681462   \n",
       "12      2017-05-12_6C-50per_3_6C_CH35_VDF                  591.681462   \n",
       "13        2017-05-12_6C-60per_3C_CH29_VDF                  591.681462   \n",
       "14      2017-05-12_7C-30per_3_6C_CH39_VDF                  591.681462   \n",
       "15        2017-05-12_7C-40per_3C_CH37_VDF                  591.681462   \n",
       "16      2017-05-12_7C-40per_3_6C_CH41_VDF                  591.681462   \n",
       "17      2017-05-12_8C-15per_3_6C_CH43_VDF                  591.681462   \n",
       "18      2017-05-12_8C-25per_3_6C_CH45_VDF                  591.681462   \n",
       "19      2017-05-12_8C-35per_3_6C_CH47_VDF                  591.681462   \n",
       "20          2017-06-30_1C-4per_6C_CH9_VDF                  591.681462   \n",
       "21         2017-06-30_2C-2per_5C_CH11_VDF                  591.681462   \n",
       "22    2017-06-30_3_6C-22per_5_5C_CH13_VDF                  591.681462   \n",
       "23      2017-06-30_3_6C-30per_6C_CH15_VDF                  591.681462   \n",
       "24        2017-06-30_4C-13per_5C_CH27_VDF                  591.681462   \n",
       "25        2017-06-30_4C-40per_6C_CH29_VDF                  591.681462   \n",
       "26      2017-06-30_4_4C-24per_5C_CH17_VDF                  591.681462   \n",
       "27      2017-06-30_4_4C-55per_6C_CH19_VDF                  591.681462   \n",
       "28  2017-06-30_4_65C-19per_4_85C_CH21_VDF                  591.681462   \n",
       "29     2017-06-30_4_65C-69per_6C_CH23_VDF                  591.681462   \n",
       "30     2017-06-30_4_8C-80per_4_8C_CH7_VDF                  591.681462   \n",
       "31   2017-06-30_4_9C-27per_4_75C_CH24_VDF                  591.681462   \n",
       "32   2017-06-30_4_9C-69per_4_25C_CH26_VDF                  591.681462   \n",
       "33    2017-06-30_5_2C-37per_4_5C_CH32_VDF                  591.681462   \n",
       "34      2017-06-30_5_2C-58per_4C_CH34_VDF                  591.681462   \n",
       "35      2017-06-30_5_2C-71per_3C_CH36_VDF                  591.681462   \n",
       "36   2017-06-30_5_6C-38per_4_25C_CH38_VDF                  591.681462   \n",
       "37    2017-06-30_5_6C-58per_3_5C_CH40_VDF                  591.681462   \n",
       "38      2017-06-30_5_6C-65per_3C_CH42_VDF                  591.681462   \n",
       "39     2017-06-30_6C-31per_4_25C_CH44_VDF                  591.681462   \n",
       "40      2017-06-30_6C-4per_4_75C_CH46_VDF                  591.681462   \n",
       "\n",
       "    Severson variance Predicted cycle life  \\\n",
       "0                              1831.526479   \n",
       "1                              1311.373091   \n",
       "2                               984.717083   \n",
       "3                               796.009690   \n",
       "4                               842.168433   \n",
       "5                               869.026918   \n",
       "6                               773.781972   \n",
       "7                               607.265069   \n",
       "8                               473.742034   \n",
       "9                               785.097697   \n",
       "10                              708.246621   \n",
       "11                              730.268370   \n",
       "12                              668.672628   \n",
       "13                              610.115842   \n",
       "14                              734.083028   \n",
       "15                              621.374599   \n",
       "16                              510.379392   \n",
       "17                              840.727828   \n",
       "18                              630.423385   \n",
       "19                              503.616606   \n",
       "20                              255.119084   \n",
       "21                              431.939094   \n",
       "22                              439.066807   \n",
       "23                              427.946015   \n",
       "24                              530.050109   \n",
       "25                              401.075333   \n",
       "26                              387.508666   \n",
       "27                              425.036342   \n",
       "28                              559.752601   \n",
       "29                              458.370556   \n",
       "30                              459.268143   \n",
       "31                              493.607616   \n",
       "32                              517.873329   \n",
       "33                              656.928729   \n",
       "34                              500.676408   \n",
       "35                              517.766636   \n",
       "36                              509.841497   \n",
       "37                              484.310804   \n",
       "38                              536.756835   \n",
       "39                              453.582713   \n",
       "40                              640.984000   \n",
       "\n",
       "    Severson discharge Predicted cycle life  \\\n",
       "0                               1935.981365   \n",
       "1                               1265.734012   \n",
       "2                                938.170719   \n",
       "3                                880.307706   \n",
       "4                                792.616757   \n",
       "5                                825.203016   \n",
       "6                                744.723451   \n",
       "7                                640.557350   \n",
       "8                                504.336753   \n",
       "9                                763.578641   \n",
       "10                               737.591939   \n",
       "11                               709.210157   \n",
       "12                               677.475824   \n",
       "13                               603.922194   \n",
       "14                               725.541796   \n",
       "15                               609.069078   \n",
       "16                               497.478625   \n",
       "17                               852.742854   \n",
       "18                               630.131043   \n",
       "19                               514.143279   \n",
       "20                               287.828542   \n",
       "21                               447.533184   \n",
       "22                               443.074804   \n",
       "23                               433.196345   \n",
       "24                               513.820211   \n",
       "25                               433.096782   \n",
       "26                               411.208645   \n",
       "27                               391.987080   \n",
       "28                               550.211712   \n",
       "29                               458.162970   \n",
       "30                               446.264738   \n",
       "31                               473.652325   \n",
       "32                               524.136043   \n",
       "33                               621.404087   \n",
       "34                               513.286033   \n",
       "35                               512.290684   \n",
       "36                               508.811245   \n",
       "37                               490.217701   \n",
       "38                               519.597552   \n",
       "39                               454.731529   \n",
       "40                               600.174472   \n",
       "\n",
       "    Severson discharge XGBoost Predicted cycle life  Actual cycle life  \n",
       "0                                               inf             2055.0  \n",
       "1                                      1.000668e+38             1336.0  \n",
       "2                                      9.982361e+36             1037.0  \n",
       "3                                      1.000615e+32              817.0  \n",
       "4                                      9.996794e+29              766.0  \n",
       "5                                      1.000808e+27              694.0  \n",
       "6                                      9.999824e+32              821.0  \n",
       "7                                      1.000624e+29              736.0  \n",
       "8                                      9.993722e+19              532.0  \n",
       "9                                      9.979205e+35              974.0  \n",
       "10                                     9.997453e+33              823.0  \n",
       "11                                     1.000571e+31              811.0  \n",
       "12                                     1.001112e+25              675.0  \n",
       "13                                     9.968867e+25              691.0  \n",
       "14                                     1.004022e+28              711.0  \n",
       "15                                     9.987667e+23              666.0  \n",
       "16                                     9.999429e+21              588.0  \n",
       "17                                     1.000905e+35              914.0  \n",
       "18                                     9.995873e+22              657.0  \n",
       "19                                     9.999912e+20              571.0  \n",
       "20                                     1.001030e+00              275.0  \n",
       "21                                     9.999907e+01              419.0  \n",
       "22                                     1.001239e+03              423.0  \n",
       "23                                     9.963526e+15              472.0  \n",
       "24                                     9.998441e+10              457.0  \n",
       "25                                     9.998880e+08              451.0  \n",
       "26                                     1.000532e+16              472.0  \n",
       "27                                     9.999386e+09              454.0  \n",
       "28                                     1.001000e+13              465.0  \n",
       "29                                     9.996487e+18              500.0  \n",
       "30                                     1.000116e+06              443.0  \n",
       "31                                     9.990584e+07              449.0  \n",
       "32                                     1.000488e+17              477.0  \n",
       "33                                     1.000121e+15              470.0  \n",
       "34                                     1.000589e+18              495.0  \n",
       "35                                     1.000822e+07              446.0  \n",
       "36                                     9.985386e+11              458.0  \n",
       "37                                     9.998655e+03              438.0  \n",
       "38                                     1.003063e+01              412.0  \n",
       "39                                     1.001332e+05              439.0  \n",
       "40                                     1.000075e+14              466.0  "
      ]
     },
     "execution_count": 34,
     "metadata": {},
     "output_type": "execute_result"
    }
   ],
   "source": [
    "train_vs_test = \"train\"\n",
    "\n",
    "prediction1.return_prediction_dataframes(train_vs_test)"
   ]
  },
  {
   "cell_type": "markdown",
   "id": "3347d5f2-ee9d-4a19-9d29-f8c4af634d53",
   "metadata": {},
   "source": [
    "#### Select Prediction dataset, and predict cycle lives"
   ]
  },
  {
   "cell_type": "code",
   "execution_count": 14,
   "id": "67a927b8-d9a9-4f55-8406-01f85df37861",
   "metadata": {
    "tags": []
   },
   "outputs": [
    {
     "data": {
      "text/markdown": [
       "#### Search for test records to add to Prediction dataset"
      ],
      "text/plain": [
       "<IPython.core.display.Markdown object>"
      ]
     },
     "metadata": {},
     "output_type": "display_data"
    },
    {
     "data": {
      "text/markdown": [
       "Filtering tests by capacity retention is slow; check kernel status for update on completion."
      ],
      "text/plain": [
       "<IPython.core.display.Markdown object>"
      ]
     },
     "metadata": {},
     "output_type": "display_data"
    },
    {
     "data": {
      "application/vnd.jupyter.widget-view+json": {
       "model_id": "bc1db3bea6a843d5bd1a7e9d32ff45cf",
       "version_major": 2,
       "version_minor": 0
      },
      "text/plain": [
       "interactive(children=(SelectMultiple(description='Prediction Datasets:', options=('Severson2019 - All (LFP)', …"
      ]
     },
     "metadata": {},
     "output_type": "display_data"
    },
    {
     "data": {
      "application/vnd.jupyter.widget-view+json": {
       "model_id": "7e9adcdb921b40d6ad3923fe6285b587",
       "version_major": 2,
       "version_minor": 0
      },
      "text/plain": [
       "Button(button_style='danger', description='Predict Lifetime', disabled=True, style=ButtonStyle(button_color='#…"
      ]
     },
     "metadata": {},
     "output_type": "display_data"
    },
    {
     "data": {
      "application/vnd.jupyter.widget-view+json": {
       "model_id": "fc24a2ed913b42d19466e02d7e559e96",
       "version_major": 2,
       "version_minor": 0
      },
      "text/plain": [
       "Output()"
      ]
     },
     "metadata": {},
     "output_type": "display_data"
    }
   ],
   "source": [
    "# next step is to allow users to select data for prediction. That needs to be featurized (but no y-values) and then the CL values can be predicted and shared (how to visualize...?)\n",
    "\n",
    "predict_model_predict = widgets.Button(description = 'Predict Lifetime', button_style = 'danger', style={\"button_color\": \"#38adad\"}, disabled = True)\n",
    "\n",
    "display(Markdown(\"#### Search for test records to add to Prediction dataset\"))\n",
    "display(Markdown(\"Filtering tests by capacity retention is slow; check kernel status for update on completion.\"))\n",
    "# search_type = widgets.RadioButtons(options=['Test Name','Min Cycle Number','Both'],\n",
    "#                                     disabled=False)\n",
    "# Want to add in some search criteria here: min cycle number (if blank, ignore), min capacity retention\n",
    "\n",
    "select_predict = interactive(cpw.select_widget, \n",
    "                           train_sets = widgets.SelectMultiple(value=[], options=cpw.std_train_datasets, description=f'Prediction Datasets:',style={'description_width': 'initial'}, ensure_option=True),\n",
    "                          train_or_test=fixed('predict'), pred_obj = fixed(prediction1), trs = fixed(trs), predict_button = fixed(predict_model_predict))\n",
    "\n",
    "# interactive(cpw.custom_select, filter_by_cap_retention = widgets.Checkbox(value=False,description='Filter tests by capacity retention threshold',\n",
    "#                                                                                          style={'description_width': 'initial'}),\n",
    "#                            min_cyc_num = widgets.IntText(description = 'Minimum # of cycles:',style={'description_width': 'initial'}, value = prediction1.get_end_cycle()+1),\n",
    "#                            other_search_text = widgets.Text(\n",
    "#                 value = prediction1.get_last_custom_search(),description='Test name search:', \n",
    "#                 style={'description_width': 'initial'},continuous_update=False),\n",
    "#                                      train_or_test=fixed('predict'), prediction1 = fixed(prediction1),\n",
    "#                                      trs = fixed(trs),predict_button = fixed(predict_model_predict))\n",
    "\n",
    "output = widgets.Output()\n",
    "\n",
    "display(select_predict,predict_model_predict, output)\n",
    "    \n",
    "        \n",
    "def pred_model_predict(b):\n",
    "    ''' function that will predict CL on prediction data. returns a plot of predicted cycle life'''\n",
    "    with output:\n",
    "        cpw.populate_test_train_data(prediction1, trs, predict = True)\n",
    "        print(\"Starting featurization...\")\n",
    "        prediction1.featurize_predict(trs)\n",
    "        print(\"Featurization complete!\")\n",
    "        prediction1.predict()\n",
    "        prediction1.calc_predicted_cyclelife()\n",
    "        prediction_df, time_pred_df = prediction1.return_predicted_cyclelife()\n",
    "        log_scale = max(prediction_df.drop(columns = ['Name','Current cycle']).max()) > 10*(max(prediction_df['Current cycle']))\n",
    "        prediction_df.set_index('Name').plot.barh(figsize=(10, len(prediction_df)/1.2), width = .8, logx = log_scale)\n",
    "        plt.xlabel('Cycles')\n",
    "        plt.title(\"Predicted cycle life by ML model for each test\")\n",
    "        plt.show()\n",
    "        \n",
    "        # want to only show predicted time to failure for tests that have not already 'failed'\n",
    "        # so I want to add a filter criteria based on prediction_df\n",
    "        if len(time_pred_df) >0:\n",
    "            print(\"Predicted time remaining (hours) based on each ML model for tests which have not yet reached the capacity retention threshold\")\n",
    "            log_scale_time = max(time_pred_df.drop(columns = ['Name']).max()) > 10*(min(time_pred_df[time_pred_df.drop(columns = ['Name']) > 0].drop(columns = ['Name']).min()))\n",
    "\n",
    "            time_pred_df.set_index('Name').plot.barh(figsize=(10, len(time_pred_df)/1.2),width = .8, logx = log_scale_time)\n",
    "            plt.xlabel('Predicted Hours until Failure')\n",
    "    #         plt.title\n",
    "            plt.show()\n",
    "        else:\n",
    "            print(\"All tests in the Prediction dataset have already reached the set capacity retention threshold\")\n",
    "\n",
    "predict_model_predict.on_click(pred_model_predict)\n"
   ]
  },
  {
   "cell_type": "markdown",
   "id": "6852399e-5ffc-4ff2-b818-ade36708f17e",
   "metadata": {},
   "source": [
    "To show the dataframe for prediction data, run the following command:"
   ]
  },
  {
   "cell_type": "code",
   "execution_count": null,
   "id": "697a2312-a13a-4212-89d5-3d6a3e064a01",
   "metadata": {},
   "outputs": [],
   "source": [
    "prediction_df, time_pred_df = prediction1.return_predicted_cyclelife()\n",
    "prediction_df"
   ]
  },
  {
   "cell_type": "code",
   "execution_count": null,
   "id": "aeb516d0-294d-451c-bbb9-12a706b95820",
   "metadata": {},
   "outputs": [],
   "source": []
  }
 ],
 "metadata": {
  "kernelspec": {
   "display_name": "Python 3 (ipykernel)",
   "language": "python",
   "name": "python3"
  },
  "language_info": {
   "codemirror_mode": {
    "name": "ipython",
    "version": 3
   },
   "file_extension": ".py",
   "mimetype": "text/x-python",
   "name": "python",
   "nbconvert_exporter": "python",
   "pygments_lexer": "ipython3",
   "version": "3.9.6"
  }
 },
 "nbformat": 4,
 "nbformat_minor": 5
}
