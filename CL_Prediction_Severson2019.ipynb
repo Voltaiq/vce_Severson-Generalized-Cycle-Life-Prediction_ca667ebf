{
 "cells": [
  {
   "cell_type": "markdown",
   "id": "75f2829e-9166-4809-a277-94d376dbb06f",
   "metadata": {},
   "source": [
    "# Cycle Life Prediction: Generalized Severson Analysis\n",
    "\n",
    "This notebook generalizes the analysis presented in Severson's 2019 Nature Energy paper for cycle life prediction from the first 100 cycles of test data.\n",
    "\n",
    "Through a series of widgets, users can select any number of Train and Test datasets from the Voltaiq Community server, featurize those datasets based on generalizations of the features in Severson et al, train and test the Severson Variance and/or Discharge models on the Train/Test datasets, evaluate model performance, and predict cycle life for any number of Prediction datasets of interest.\n",
    "\n",
    "### Inputs:\n",
    "- **Model(s):** Users can select which models they would like to evaluate. We currently offer comparisons between the Severson Variance, Severson Discharge and Dummy models, but will continue to add in additional models from the literature. We also plan to allow users to specify their own models in the future.\n",
    "    - Once a model is selected, users can Train and Test their models, including showing parity plots, RMSE and MAPE performance plots for their selected model(s).\n",
    "- **Featurization inputs:** The train and test data will be featurized based on the Severson models, with the following nuances:\n",
    "    - Rather than using a hard-coded reference capacity for 80% capacity retention, we allow for a flexible capacity retention threshold based on the initial capacity of a test. Instead of choosing the first cycle to drop below the capacity retention threshold, we choose the first cycle to do so within a sequence of 5 consecutive cycles; this provides some robustness against noise/fluctuations\n",
    "    - A user also inputs the `start` and `end` cycles for which to perform the differencing for the voltage vs capacity data. The default is cycles 9 and 99 to correspond with the Severson analysis (note that Voltaiq uses zero-indexing on cycles as a default, unless they are explicitly specified in an input file). Note that all tests within the Train and Test datasets must include these two cycles.\n",
    "    - A cycle number must also be given from which to calculate reference capacity. The current script implementation allows a user to choose a cycle ordinal from which to calculate a reference capacity. The Severson model used cell nominal capacity as a reference capacity; however this is not known for each dataset on Voltaiq Community. Thus, a reference capacity based on the cycling data is chosen instead. Currently this cycle number must be the same for all datasets used for the model. A fixed reference cycle choice requires a user to have some information about what cycle to choose – the default ordinal is cycle 20 as that works for the curated datasets provided with this script.\n",
    "    - Voltage vs capacity data is still interpolated between the min and max values for each test record; note that the features based on a specific voltage cutoff are no longer applicable\n",
    "- **Train dataset:** Data which will be used to train the ML model(s) you choose. Choose from a number of curated publicly-available datasets, and/or choose custom data based on a test name search criteria\n",
    "    - Tests must include the same `start` and `end` cycle for the analysis range and tests should also obtain the expected end capacity retention %. If tests do not contain the `start` and `end`cycles, the code will throw an error. If tests do not meet the expected capacity retention %, those tests will be excluded from the Train and Test featurization and model evaluation.\n",
    "    - We provide an option for filtering data based on a minimum cycle count, as well as the set capacity retention threshold. Filtering by capacity retention threshold can be slow, so should be used in conjunction with a cycle number and/or test name filter.\n",
    "- **Test dataset:** Data which will be used to test (evaluate the performance) of the ML model(s) you choose. You may either choose to perform a train-test split (with a configurable split ratio) on the Train dataset, or manually choose data in a manner similar to how you chose the Train dataset.\n",
    "- **Prediction dataset:** After a model is trained and evaluated on the test dataset, users can select a Prediction dataset, and use the ML model(s) of their choice to predict the cycle life of this new dataset. Again, users can select from a curated list or choose a custom dataset based on a test name search criteria.\n",
    "    \n",
    "\n",
    "### Outputs:\n",
    "- Train/Test parity plots, RMSE, MAPE performance plots\n",
    "- The prediction step will generate a bar chart comparing the predicted cycle life for each model for each test record within the dataset, as well as the current (last) cycle of that test record\n",
    "- All train/test results can be accessed through methods and attributes of the CL_prediction class. Further exploration of the data results is possible using the resulting dataframes.\n",
    "\n",
    "### Recommended datasets:\n",
    "The Severson models were developed on fast-charge LFP cycling data. The Variance model contains a single feature based on the variance of the difference between voltage vs capacity curves of two cycles (`start` and `end`). It is likely that these ML models are degradation mode specific. Since the expected degradation mode of the original dataset focused on loss of active material of the negative electrode, cells which have that degradation mode might show better fits. Additionally, it is recommended that similar discharge protocols and cut-off voltages are used for comparison/calculate purposes for the datasets. This is because the features are calculated based on discharge steps, and data is interpolated between the upper and lower cutoff voltages. Significantly different cycling protocols might not allow the ML model to capture the appropriate feature signatures.\n",
    "\n",
    "#### References: \n",
    "[Schauser Nicole S., Lininger Christianna N., Leland Eli S., Sholklapper Tal Z. An open access tool for exploring machine learning model choice for battery life cycle prediction. Frontiers in Energy Research, 10 (2022) DOI: 10.3389/fenrg.2022.1058999](https://www.frontiersin.org/articles/10.3389/fenrg.2022.1058999)\n",
    "\n",
    "Severson et al. Data-driven prediction of battery cycle life before capacity degradation. Nature Energy volume 4, pages 383–391 (2019)\n"
   ]
  },
  {
   "cell_type": "markdown",
   "id": "428cb539-22db-4147-a51c-bffe14e15b2a",
   "metadata": {
    "tags": []
   },
   "source": [
    "#### Imports and set-up"
   ]
  },
  {
   "cell_type": "code",
   "execution_count": 1,
   "id": "b0de99c1-618d-4d63-832c-00dc39ef78da",
   "metadata": {
    "tags": []
   },
   "outputs": [],
   "source": [
    "import voltaiq_studio as vs\n",
    "from voltaiq_studio import TraceFilterOperation\n",
    "\n",
    "import severson_featurization\n",
    "import ML_models\n",
    "import cl_widgets as cpw\n",
    "import importlib\n",
    "# importlib.reload(CL_prediction)\n",
    "# importlib.reload(ML_models)\n",
    "# importlib.reload(severson_featurization)\n",
    "# importlib.reload(cpw)\n",
    "from CL_prediction import CLPrediction\n",
    "from severson_featurization import calc_X_and_y, drop_unfinished_tests\n",
    "\n",
    "import ipywidgets as widgets\n",
    "from ipywidgets import interactive, interact, fixed\n",
    "\n",
    "from IPython.display import display, Markdown\n",
    "\n",
    "import pickle\n",
    "from datetime import datetime\n",
    "\n",
    "import numpy as np\n",
    "import pandas as pd\n",
    "from scipy import stats\n",
    "import math\n",
    "\n",
    "import matplotlib.pyplot as plt\n",
    "import matplotlib as mpl\n",
    "from cycler import cycler\n",
    "import seaborn as sns\n",
    "\n",
    "# set a few default figure parameters\n",
    "mpl.rcParams['figure.figsize'] = (3,3)\n",
    "colors = ['#332288','#882255','#117733','#AA4499','#44AA99','#CC6677','#88CCEE','#DDCC77','#A3E8E7']\n",
    "\n",
    "mpl.rcParams['axes.prop_cycle'] = cycler(color=colors)\n",
    "fontsize = 6\n",
    "titlesize = 8\n",
    "mpl.rcParams['font.size'] = fontsize\n",
    "mpl.rcParams['legend.fontsize'] = fontsize\n",
    "mpl.rcParams['figure.titlesize'] = titlesize\n",
    "mpl.rcParams['axes.labelsize']=fontsize\n",
    "mpl.rcParams['lines.markersize'] = fontsize\n",
    "mpl.rcParams['figure.dpi'] = 150"
   ]
  },
  {
   "cell_type": "code",
   "execution_count": 2,
   "id": "c94e1a58-f04d-4012-8f73-46895043b5ad",
   "metadata": {
    "tags": []
   },
   "outputs": [],
   "source": [
    "trs = vs.get_test_records()"
   ]
  },
  {
   "cell_type": "markdown",
   "id": "deae3e61-2e6d-4137-bac3-769c4918e373",
   "metadata": {},
   "source": [
    "### User inputs: Select Model(s), Model Inputs, Train data and Test data"
   ]
  },
  {
   "cell_type": "code",
   "execution_count": 3,
   "id": "6283316e-3ca0-4e10-8a84-40cf0ad3834a",
   "metadata": {
    "tags": []
   },
   "outputs": [],
   "source": [
    "# we will start by instantiating a cycle life prediction object \n",
    "# which will store all relevant information for the datasets and models you will choose\n",
    "prediction1 = CLPrediction()"
   ]
  },
  {
   "cell_type": "markdown",
   "id": "e0791f61-6f3a-4a64-bc3b-b9da8e36c47f",
   "metadata": {},
   "source": [
    "#### Select Models"
   ]
  },
  {
   "cell_type": "code",
   "execution_count": 4,
   "id": "8b636a43-8f25-4713-8627-3875774b341f",
   "metadata": {},
   "outputs": [],
   "source": [
    "model_options = ['All','Dummy','Severson variance','Severson discharge']\n",
    "def set_model(model_choice):\n",
    "    set_models = list(model_choice)\n",
    "    if 'All' in model_choice:\n",
    "        set_models = list(model_options)\n",
    "        set_models.remove('All')\n",
    "    prediction1.set_model(set_models)"
   ]
  },
  {
   "cell_type": "code",
   "execution_count": 5,
   "id": "fdfa589d-f343-4750-a32c-e427c9437c3d",
   "metadata": {},
   "outputs": [
    {
     "data": {
      "application/vnd.jupyter.widget-view+json": {
       "model_id": "c865ac4710a54d40b676307ef30ba1ac",
       "version_major": 2,
       "version_minor": 0
      },
      "text/plain": [
       "interactive(children=(SelectMultiple(description='Choose ML model(s)', index=(0,), options=('All', 'Dummy', 'S…"
      ]
     },
     "metadata": {},
     "output_type": "display_data"
    }
   ],
   "source": [
    "choose_model = interactive(set_model, model_choice = widgets.SelectMultiple(options = model_options, value=['All'], description='Choose ML model(s)',style={'description_width': 'initial'},disabled=False))\n",
    "display(choose_model)"
   ]
  },
  {
   "cell_type": "markdown",
   "id": "dfd4ff2a-ca02-40a4-a2ac-c9201d59cf61",
   "metadata": {},
   "source": [
    "#### Select Featurization Criteria"
   ]
  },
  {
   "cell_type": "code",
   "execution_count": 6,
   "id": "f3986297-750b-4fd0-b0c8-4774a0b2fdec",
   "metadata": {},
   "outputs": [
    {
     "data": {
      "application/vnd.jupyter.widget-view+json": {
       "model_id": "d5115144b0c04fc3b3205aa7d437eb97",
       "version_major": 2,
       "version_minor": 0
      },
      "text/plain": [
       "interactive(children=(IntText(value=20, description='Initial cycle: '), IntText(value=99, description='End cyc…"
      ]
     },
     "metadata": {},
     "output_type": "display_data"
    }
   ],
   "source": [
    "featurize = interactive(cpw.featurize_inputs_widget, start_cycle = widgets.IntText(value = 20, description = 'Initial cycle: ', disabled=False,continuous_update = False),\n",
    "                        end_cycle = widgets.IntText(value = 99, description = 'End cycle: ', disabled=False,continuous_update = False),\n",
    "                        per_cap_ret = widgets.BoundedFloatText(value = 85,min = 0, max = 100, step = 1, description = '% Capacity Retention:',style={'description_width': 'initial'}, disabled=False,continuous_update = False),\n",
    "                       prediction1 = fixed(prediction1),ref_cyc = widgets.BoundedFloatText(value = 20, min = 0, step = 1, description = \"Reference cycle for capacity normalization\",style={'description_width': 'initial'} ))\n",
    "display(featurize)"
   ]
  },
  {
   "cell_type": "markdown",
   "id": "e26d43da-eda7-4a1b-8169-046e3d4c2476",
   "metadata": {},
   "source": [
    "#### Select Training Dataset"
   ]
  },
  {
   "cell_type": "code",
   "execution_count": 7,
   "id": "be6d46d5-4a40-439f-948d-50d735070d15",
   "metadata": {
    "tags": []
   },
   "outputs": [
    {
     "data": {
      "text/markdown": [
       "#### Search for test records to add to Train dataset"
      ],
      "text/plain": [
       "<IPython.core.display.Markdown object>"
      ]
     },
     "metadata": {},
     "output_type": "display_data"
    },
    {
     "data": {
      "text/markdown": [
       "Filtering tests by capacity retention is slow; check kernel status for update on completion."
      ],
      "text/plain": [
       "<IPython.core.display.Markdown object>"
      ]
     },
     "metadata": {},
     "output_type": "display_data"
    },
    {
     "data": {
      "application/vnd.jupyter.widget-view+json": {
       "model_id": "c196a7790a9f426aafa8e7f2a2896b45",
       "version_major": 2,
       "version_minor": 0
      },
      "text/plain": [
       "interactive(children=(SelectMultiple(description='Training Datasets:', options=('Severson2019 - All (LFP)', 'S…"
      ]
     },
     "metadata": {},
     "output_type": "display_data"
    }
   ],
   "source": [
    "display(Markdown(\"#### Search for test records to add to Train dataset\"))\n",
    "display(Markdown(\"Filtering tests by capacity retention is slow; check kernel status for update on completion.\"))\n",
    "# search_type = widgets.RadioButtons(options=['Test Name','Min Cycle Number','Both'],\n",
    "#                                     disabled=False)\n",
    "# Want to add in some search criteria here: min cycle number (if blank, ignore), min capacity retention\n",
    "\n",
    "select_train = interactive(cpw.select_widget, \n",
    "                           train_sets = widgets.SelectMultiple(value=[], options=cpw.std_train_datasets, description=f'Training Datasets:',style={'description_width': 'initial'}, ensure_option=True),\n",
    "                          train_or_test=fixed('train'), pred_obj = fixed(prediction1), trs = fixed(trs), predict_button = fixed(None))\n",
    "\n",
    "display(select_train)"
   ]
  },
  {
   "cell_type": "markdown",
   "id": "53752740-2364-49e6-94b2-2fb091343390",
   "metadata": {
    "tags": []
   },
   "source": [
    "#### Select Testing Dataset (or train-test-split ratio)"
   ]
  },
  {
   "cell_type": "code",
   "execution_count": 8,
   "id": "912f8c53-31a6-400f-b6f8-08acb719c5a1",
   "metadata": {
    "tags": []
   },
   "outputs": [
    {
     "data": {
      "application/vnd.jupyter.widget-view+json": {
       "model_id": "e59386cf8eb54cd187bc6186057f2eba",
       "version_major": 2,
       "version_minor": 0
      },
      "text/plain": [
       "interactive(children=(Dropdown(description='Test dataset selection method', layout=Layout(width='500px'), opti…"
      ]
     },
     "metadata": {},
     "output_type": "display_data"
    }
   ],
   "source": [
    "test_select_dropdown = interactive(cpw.test_select_method,method = widgets.Dropdown(options = ['Use train_test_split on training dataset','Select test dataset manually'], \n",
    "                                                                                value = None, description = 'Test dataset selection method', style={'description_width': 'initial'},\n",
    "                                                                                layout = widgets.Layout(width='500px')), prediction1 = fixed(prediction1), trs = fixed(trs),predict_button=fixed(None))\n",
    "display(test_select_dropdown)"
   ]
  },
  {
   "cell_type": "markdown",
   "id": "334f3dff-ba14-470d-9fcb-2616b1b5d549",
   "metadata": {},
   "source": [
    "#### Featurize the data"
   ]
  },
  {
   "cell_type": "code",
   "execution_count": 9,
   "id": "7c16a4b3-7ddc-42dc-81f3-54996b8e3a9e",
   "metadata": {
    "tags": []
   },
   "outputs": [
    {
     "data": {
      "application/vnd.jupyter.widget-view+json": {
       "model_id": "f8988c888c6b47bcad859656506130eb",
       "version_major": 2,
       "version_minor": 0
      },
      "text/plain": [
       "Button(button_style='danger', description='Featurize data', style=ButtonStyle(button_color='#38adad'))"
      ]
     },
     "metadata": {},
     "output_type": "display_data"
    },
    {
     "data": {
      "application/vnd.jupyter.widget-view+json": {
       "model_id": "1a1c4cf40aa941cea987cfd9bd733b5c",
       "version_major": 2,
       "version_minor": 0
      },
      "text/plain": [
       "Output()"
      ]
     },
     "metadata": {},
     "output_type": "display_data"
    }
   ],
   "source": [
    "output = widgets.Output()\n",
    "perform_featurize = widgets.Button(description = 'Featurize data', button_style = 'danger', style={\"button_color\": \"#38adad\"})\n",
    "\n",
    "display(perform_featurize, output)\n",
    "\n",
    "def featurize(b):\n",
    "    ''' function that will featurize the data'''\n",
    "    with output:\n",
    "        cpw.populate_test_train_data(prediction1, trs)\n",
    "        print(\"Starting featurization...\")\n",
    "        prediction1.featurize(trs)\n",
    "        print(\"Featurization complete!\")\n",
    "\n",
    "perform_featurize.on_click(featurize)"
   ]
  },
  {
   "cell_type": "markdown",
   "id": "5b7ef96b-1ff3-43cd-ae56-b9be5c9e39ed",
   "metadata": {},
   "source": [
    "#### Train & Test ML model(s)"
   ]
  },
  {
   "cell_type": "code",
   "execution_count": 10,
   "id": "78e6c60e-d820-4f12-a846-e1e17a9479a5",
   "metadata": {
    "tags": []
   },
   "outputs": [
    {
     "data": {
      "application/vnd.jupyter.widget-view+json": {
       "model_id": "8efd7f5f569943669416810207b1b2eb",
       "version_major": 2,
       "version_minor": 0
      },
      "text/plain": [
       "Button(button_style='danger', description='Train model', style=ButtonStyle(button_color='#38adad'))"
      ]
     },
     "metadata": {},
     "output_type": "display_data"
    },
    {
     "data": {
      "application/vnd.jupyter.widget-view+json": {
       "model_id": "738de5c1871646ac99f2ccd99b837284",
       "version_major": 2,
       "version_minor": 0
      },
      "text/plain": [
       "Button(button_style='danger', description='Test model', disabled=True, style=ButtonStyle(button_color='#38adad…"
      ]
     },
     "metadata": {},
     "output_type": "display_data"
    },
    {
     "data": {
      "application/vnd.jupyter.widget-view+json": {
       "model_id": "9588196f032a43228f6eda0746d21a89",
       "version_major": 2,
       "version_minor": 0
      },
      "text/plain": [
       "Button(button_style='danger', description='Generate Parity Plots', disabled=True, style=ButtonStyle(button_col…"
      ]
     },
     "metadata": {},
     "output_type": "display_data"
    },
    {
     "data": {
      "application/vnd.jupyter.widget-view+json": {
       "model_id": "b19ed9150d8b4866a071e8e0ecb432bc",
       "version_major": 2,
       "version_minor": 0
      },
      "text/plain": [
       "Button(button_style='danger', description='Plot MAPE results', disabled=True, style=ButtonStyle(button_color='…"
      ]
     },
     "metadata": {},
     "output_type": "display_data"
    },
    {
     "data": {
      "application/vnd.jupyter.widget-view+json": {
       "model_id": "50d96c6be89c4ed2a2c9d4fa7e263862",
       "version_major": 2,
       "version_minor": 0
      },
      "text/plain": [
       "Button(button_style='danger', description='Plot RMSE results', disabled=True, style=ButtonStyle(button_color='…"
      ]
     },
     "metadata": {},
     "output_type": "display_data"
    },
    {
     "data": {
      "application/vnd.jupyter.widget-view+json": {
       "model_id": "06ccffb0a07c437ea84d57839fa4c6b8",
       "version_major": 2,
       "version_minor": 0
      },
      "text/plain": [
       "Output()"
      ]
     },
     "metadata": {},
     "output_type": "display_data"
    }
   ],
   "source": [
    "train_model_button = widgets.Button(description = 'Train model', button_style = 'danger', style={\"button_color\": \"#38adad\"})\n",
    "test_button = widgets.Button(description = 'Test model', button_style = 'danger', style={\"button_color\": \"#38adad\"},disabled=True,)\n",
    "parity_button = widgets.Button(description = 'Generate Parity Plots', button_style = 'danger', style={\"button_color\": \"#38adad\"},disabled=True)\n",
    "MAPE_button = widgets.Button(description = 'Plot MAPE results', button_style = 'danger', style={\"button_color\": \"#38adad\"},disabled=True)\n",
    "RMSE_button = widgets.Button(description = 'Plot RMSE results', button_style = 'danger', style={\"button_color\": \"#38adad\"},disabled=True)\n",
    "\n",
    "\n",
    "output = widgets.Output()\n",
    "display(train_model_button, test_button,parity_button,MAPE_button,RMSE_button, output)\n",
    "\n",
    "def train_button(b):\n",
    "    with output:\n",
    "        prediction1.train_model()\n",
    "        test_button.disabled = False\n",
    "\n",
    "def test_click(b):\n",
    "    with output:\n",
    "        prediction1.test_predict()\n",
    "        parity_button.disabled = False\n",
    "        MAPE_button.disabled = False\n",
    "        RMSE_button.disabled = False\n",
    "        \n",
    "def parity_click(b):\n",
    "    with output:\n",
    "        prediction1.create_parity_plots()\n",
    "\n",
    "def mape_click(b):\n",
    "    with output:\n",
    "        prediction1.plot_model_stats('MAPE')\n",
    "        prediction1.plot_grouped_model_stats('MAPE')\n",
    "        \n",
    "def rmse_click(b):\n",
    "    with output:\n",
    "        prediction1.plot_model_stats('RMSE')\n",
    "        \n",
    "train_model_button.on_click(train_button)\n",
    "test_button.on_click(test_click)\n",
    "parity_button.on_click(parity_click)\n",
    "MAPE_button.on_click(mape_click)\n",
    "RMSE_button.on_click(rmse_click)"
   ]
  },
  {
   "cell_type": "markdown",
   "id": "fcbdaf1d-9503-4538-84dc-2cb7f8316b18",
   "metadata": {},
   "source": [
    "#### Saving a model for future use\n",
    "The next section allows a user to save a trained model for use on predicitons in the future. Users must select the model(s) they would like to save, as well as names for those models. Models will be saved as pickle files which can be loaded back into python for futher use."
   ]
  },
  {
   "cell_type": "code",
   "execution_count": 11,
   "id": "a8da7e4d-60a9-4797-ab64-c3bbbca400cd",
   "metadata": {},
   "outputs": [],
   "source": [
    "# save the entire prediction object. This includes all models and formatted data\n",
    "name = \"prediction_example\" + str(datetime.now())\n",
    "with open(name,'wb') as files:\n",
    "    pickle.dump(prediction1, files)"
   ]
  },
  {
   "cell_type": "code",
   "execution_count": 12,
   "id": "5c42189a-7344-41bd-aa11-baf674a1d7fe",
   "metadata": {},
   "outputs": [
    {
     "name": "stdout",
     "output_type": "stream",
     "text": [
      "Dummy\n",
      "Severson variance\n",
      "Severson discharge\n"
     ]
    }
   ],
   "source": [
    "# just save the models\n",
    "for model in prediction1.ml_model:\n",
    "    print(model)"
   ]
  },
  {
   "cell_type": "code",
   "execution_count": 13,
   "id": "99e71ed9-c50f-4018-8f71-61aaeb9b3a4b",
   "metadata": {},
   "outputs": [],
   "source": [
    "# choose a model from the list and edit the model_to_save variable\n",
    "model_to_save = 'Severson variance'\n",
    "model_name = model_to_save + str(datetime.now())\n",
    "with open(model_name,'wb') as files:\n",
    "    pickle.dump(prediction1.trained_models[model_to_save], files)"
   ]
  },
  {
   "cell_type": "code",
   "execution_count": 14,
   "id": "ccbcb3a0-8453-4c33-b194-d9318a8beb63",
   "metadata": {},
   "outputs": [],
   "source": [
    "# just save the featurized data:\n",
    "X_train, X_test, y_train, y_test = prediction1.get_featurized_data()\n",
    "data_dict = {'X_train':X_train,' X_test':X_test, 'y_train':y_train, 'y_test':y_test}\n",
    "data_name = \"prediction_data\" + str(datetime.now())\n",
    "with open(data_name,'wb') as files:\n",
    "    pickle.dump(data_dict, files)"
   ]
  },
  {
   "cell_type": "markdown",
   "id": "12ef376f-45fc-49c3-88f6-be9c03db3be3",
   "metadata": {},
   "source": [
    "To load in a prediction object, use the following code block:"
   ]
  },
  {
   "cell_type": "code",
   "execution_count": 15,
   "id": "86811b22-28cc-4c76-b621-315662be67d8",
   "metadata": {},
   "outputs": [],
   "source": [
    "load_name = name\n",
    "with open(load_name, \"rb\") as f:\n",
    "    prediction_load = pickle.load(f)"
   ]
  },
  {
   "cell_type": "code",
   "execution_count": 16,
   "id": "311ab6d4-2013-4345-9d58-83ad4db7655b",
   "metadata": {},
   "outputs": [
    {
     "data": {
      "image/png": "[encoded data removed]",
      "text/plain": [
       "<Figure size 450x450 with 1 Axes>"
      ]
     },
     "metadata": {
      "needs_background": "light"
     },
     "output_type": "display_data"
    },
    {
     "data": {
      "image/png": "[encoded data removed]",
      "text/plain": [
       "<Figure size 450x450 with 1 Axes>"
      ]
     },
     "metadata": {
      "needs_background": "light"
     },
     "output_type": "display_data"
    },
    {
     "data": {
      "image/png": "[encoded data removed]",
      "text/plain": [
       "<Figure size 450x450 with 1 Axes>"
      ]
     },
     "metadata": {
      "needs_background": "light"
     },
     "output_type": "display_data"
    }
   ],
   "source": [
    "# we can examine the prediction object by creating the parity plots, for example\n",
    "prediction_load.create_parity_plots()"
   ]
  },
  {
   "cell_type": "markdown",
   "id": "ae9679a8-111e-40ab-ad21-2ef67fc34411",
   "metadata": {},
   "source": [
    "Similar code can be used for models or data:"
   ]
  },
  {
   "cell_type": "code",
   "execution_count": 17,
   "id": "1ccbae62-41d5-4d7e-9c54-cc9f362ea644",
   "metadata": {},
   "outputs": [],
   "source": [
    "load_name = model_name\n",
    "with open(load_name, \"rb\") as f:\n",
    "    model_load = pickle.load(f)"
   ]
  },
  {
   "cell_type": "code",
   "execution_count": 18,
   "id": "c60181b8-68b1-4386-8971-5d70110a37f9",
   "metadata": {},
   "outputs": [
    {
     "data": {
      "text/html": [
       "<div>\n",
       "<style scoped>\n",
       "    .dataframe tbody tr th:only-of-type {\n",
       "        vertical-align: middle;\n",
       "    }\n",
       "\n",
       "    .dataframe tbody tr th {\n",
       "        vertical-align: top;\n",
       "    }\n",
       "\n",
       "    .dataframe thead th {\n",
       "        text-align: right;\n",
       "    }\n",
       "</style>\n",
       "<table border=\"1\" class=\"dataframe\">\n",
       "  <thead>\n",
       "    <tr style=\"text-align: right;\">\n",
       "      <th></th>\n",
       "      <th>min_deltaQ</th>\n",
       "      <th>mean_deltaQ</th>\n",
       "      <th>var_deltaQ</th>\n",
       "      <th>skew_deltaQ</th>\n",
       "      <th>kur_deltaQ</th>\n",
       "      <th>deltaQ_lowV</th>\n",
       "      <th>slope_22_99</th>\n",
       "      <th>intcpt_22_99</th>\n",
       "      <th>slope_90_99</th>\n",
       "      <th>intcpt_90_99</th>\n",
       "      <th>q_22</th>\n",
       "      <th>maxQ_q_22</th>\n",
       "      <th>q_99</th>\n",
       "      <th>Name</th>\n",
       "      <th>Dataset_group</th>\n",
       "    </tr>\n",
       "  </thead>\n",
       "  <tbody>\n",
       "    <tr>\n",
       "      <th>0</th>\n",
       "      <td>-1.589375</td>\n",
       "      <td>-2.030320</td>\n",
       "      <td>-4.108288</td>\n",
       "      <td>-0.228045</td>\n",
       "      <td>0.051376</td>\n",
       "      <td>-0.003403</td>\n",
       "      <td>-0.000008</td>\n",
       "      <td>1.061089</td>\n",
       "      <td>-0.000014</td>\n",
       "      <td>1.061318</td>\n",
       "      <td>1.060326</td>\n",
       "      <td>0.002914</td>\n",
       "      <td>1.059947</td>\n",
       "      <td>2017-05-12_5_4C-50per_3C_CH14_VDF</td>\n",
       "      <td>Severson2019 - Train (LFP)</td>\n",
       "    </tr>\n",
       "    <tr>\n",
       "      <th>1</th>\n",
       "      <td>-1.493580</td>\n",
       "      <td>-1.874722</td>\n",
       "      <td>-3.945683</td>\n",
       "      <td>-0.782853</td>\n",
       "      <td>0.083003</td>\n",
       "      <td>-0.005330</td>\n",
       "      <td>-0.000016</td>\n",
       "      <td>1.081178</td>\n",
       "      <td>-0.000022</td>\n",
       "      <td>1.081716</td>\n",
       "      <td>1.080601</td>\n",
       "      <td>0.000881</td>\n",
       "      <td>1.079417</td>\n",
       "      <td>2017-05-12_7C-30per_3_6C_CH39_VDF</td>\n",
       "      <td>Severson2019 - Train (LFP)</td>\n",
       "    </tr>\n",
       "    <tr>\n",
       "      <th>2</th>\n",
       "      <td>-1.478636</td>\n",
       "      <td>-1.841019</td>\n",
       "      <td>-3.903267</td>\n",
       "      <td>-0.763833</td>\n",
       "      <td>0.120269</td>\n",
       "      <td>-0.011476</td>\n",
       "      <td>-0.000030</td>\n",
       "      <td>1.092400</td>\n",
       "      <td>-0.000202</td>\n",
       "      <td>1.108206</td>\n",
       "      <td>1.091393</td>\n",
       "      <td>0.000153</td>\n",
       "      <td>1.089437</td>\n",
       "      <td>2017-05-12_6C-40per_3_6C_CH33_VDF</td>\n",
       "      <td>Severson2019 - Train (LFP)</td>\n",
       "    </tr>\n",
       "    <tr>\n",
       "      <th>3</th>\n",
       "      <td>-1.300012</td>\n",
       "      <td>-1.655869</td>\n",
       "      <td>-3.514158</td>\n",
       "      <td>-0.850952</td>\n",
       "      <td>0.139430</td>\n",
       "      <td>-0.009115</td>\n",
       "      <td>0.000014</td>\n",
       "      <td>1.080390</td>\n",
       "      <td>-0.000053</td>\n",
       "      <td>1.086340</td>\n",
       "      <td>1.080151</td>\n",
       "      <td>0.001523</td>\n",
       "      <td>1.081298</td>\n",
       "      <td>2017-06-30_5_6C-38per_4_25C_CH38_VDF</td>\n",
       "      <td>Severson2019 - Train (LFP)</td>\n",
       "    </tr>\n",
       "    <tr>\n",
       "      <th>4</th>\n",
       "      <td>-1.310590</td>\n",
       "      <td>-1.635547</td>\n",
       "      <td>-3.560175</td>\n",
       "      <td>-0.993949</td>\n",
       "      <td>0.116729</td>\n",
       "      <td>-0.014313</td>\n",
       "      <td>-0.000065</td>\n",
       "      <td>1.078048</td>\n",
       "      <td>-0.000127</td>\n",
       "      <td>1.083347</td>\n",
       "      <td>1.075870</td>\n",
       "      <td>0.000059</td>\n",
       "      <td>1.070836</td>\n",
       "      <td>2017-06-30_4C-13per_5C_CH27_VDF</td>\n",
       "      <td>Severson2019 - Train (LFP)</td>\n",
       "    </tr>\n",
       "  </tbody>\n",
       "</table>\n",
       "</div>"
      ],
      "text/plain": [
       "   min_deltaQ  mean_deltaQ  var_deltaQ  skew_deltaQ  kur_deltaQ  deltaQ_lowV  \\\n",
       "0   -1.589375    -2.030320   -4.108288    -0.228045    0.051376    -0.003403   \n",
       "1   -1.493580    -1.874722   -3.945683    -0.782853    0.083003    -0.005330   \n",
       "2   -1.478636    -1.841019   -3.903267    -0.763833    0.120269    -0.011476   \n",
       "3   -1.300012    -1.655869   -3.514158    -0.850952    0.139430    -0.009115   \n",
       "4   -1.310590    -1.635547   -3.560175    -0.993949    0.116729    -0.014313   \n",
       "\n",
       "   slope_22_99  intcpt_22_99  slope_90_99  intcpt_90_99      q_22  maxQ_q_22  \\\n",
       "0    -0.000008      1.061089    -0.000014      1.061318  1.060326   0.002914   \n",
       "1    -0.000016      1.081178    -0.000022      1.081716  1.080601   0.000881   \n",
       "2    -0.000030      1.092400    -0.000202      1.108206  1.091393   0.000153   \n",
       "3     0.000014      1.080390    -0.000053      1.086340  1.080151   0.001523   \n",
       "4    -0.000065      1.078048    -0.000127      1.083347  1.075870   0.000059   \n",
       "\n",
       "       q_99                                  Name               Dataset_group  \n",
       "0  1.059947     2017-05-12_5_4C-50per_3C_CH14_VDF  Severson2019 - Train (LFP)  \n",
       "1  1.079417     2017-05-12_7C-30per_3_6C_CH39_VDF  Severson2019 - Train (LFP)  \n",
       "2  1.089437     2017-05-12_6C-40per_3_6C_CH33_VDF  Severson2019 - Train (LFP)  \n",
       "3  1.081298  2017-06-30_5_6C-38per_4_25C_CH38_VDF  Severson2019 - Train (LFP)  \n",
       "4  1.070836       2017-06-30_4C-13per_5C_CH27_VDF  Severson2019 - Train (LFP)  "
      ]
     },
     "execution_count": 18,
     "metadata": {},
     "output_type": "execute_result"
    }
   ],
   "source": [
    "load_name = data_name\n",
    "with open(load_name, \"rb\") as f:\n",
    "    data_load = pickle.load(f)\n",
    "data_load['X_train'].head()"
   ]
  },
  {
   "cell_type": "markdown",
   "id": "100b82a7-afe1-4bbc-801a-349a091b7a68",
   "metadata": {},
   "source": [
    "With the next block of code, a user can set the loaded model to be the model used for analysis moving forward:"
   ]
  },
  {
   "cell_type": "code",
   "execution_count": 19,
   "id": "420333e0-1314-416e-a46e-6de2de038fed",
   "metadata": {},
   "outputs": [],
   "source": [
    "prediction1 = prediction_load"
   ]
  },
  {
   "cell_type": "markdown",
   "id": "0eb13cbb-e817-48db-a642-d5f11364b263",
   "metadata": {
    "tags": []
   },
   "source": [
    "#### Exploring data feature distributions\n",
    "\n",
    "First, identify the most important features for the Severson Discharge model (skip this step if the model was not chosen.\n",
    "\n",
    "Next, plot the feature distributions of the three most important features in terms of model weighting."
   ]
  },
  {
   "cell_type": "code",
   "execution_count": 113,
   "id": "ed026c55-102a-44a4-8581-25a406c34766",
   "metadata": {},
   "outputs": [
    {
     "data": {
      "text/html": [
       "<div>\n",
       "<style scoped>\n",
       "    .dataframe tbody tr th:only-of-type {\n",
       "        vertical-align: middle;\n",
       "    }\n",
       "\n",
       "    .dataframe tbody tr th {\n",
       "        vertical-align: top;\n",
       "    }\n",
       "\n",
       "    .dataframe thead th {\n",
       "        text-align: right;\n",
       "    }\n",
       "</style>\n",
       "<table border=\"1\" class=\"dataframe\">\n",
       "  <thead>\n",
       "    <tr style=\"text-align: right;\">\n",
       "      <th></th>\n",
       "      <th>features</th>\n",
       "      <th>coef</th>\n",
       "    </tr>\n",
       "  </thead>\n",
       "  <tbody>\n",
       "    <tr>\n",
       "      <th>0</th>\n",
       "      <td>-0.019322</td>\n",
       "      <td>min_deltaQ</td>\n",
       "    </tr>\n",
       "    <tr>\n",
       "      <th>1</th>\n",
       "      <td>0.007974</td>\n",
       "      <td>kur_deltaQ</td>\n",
       "    </tr>\n",
       "    <tr>\n",
       "      <th>2</th>\n",
       "      <td>0.007345</td>\n",
       "      <td>intcpt_90_99</td>\n",
       "    </tr>\n",
       "    <tr>\n",
       "      <th>3</th>\n",
       "      <td>0.005554</td>\n",
       "      <td>intcpt_22_99</td>\n",
       "    </tr>\n",
       "    <tr>\n",
       "      <th>4</th>\n",
       "      <td>0.005019</td>\n",
       "      <td>skew_deltaQ</td>\n",
       "    </tr>\n",
       "    <tr>\n",
       "      <th>5</th>\n",
       "      <td>0.003244</td>\n",
       "      <td>maxQ_q_22</td>\n",
       "    </tr>\n",
       "    <tr>\n",
       "      <th>6</th>\n",
       "      <td>0.002095</td>\n",
       "      <td>slope_22_99</td>\n",
       "    </tr>\n",
       "    <tr>\n",
       "      <th>7</th>\n",
       "      <td>-0.000000</td>\n",
       "      <td>mean_deltaQ</td>\n",
       "    </tr>\n",
       "    <tr>\n",
       "      <th>8</th>\n",
       "      <td>-0.000000</td>\n",
       "      <td>var_deltaQ</td>\n",
       "    </tr>\n",
       "    <tr>\n",
       "      <th>9</th>\n",
       "      <td>0.000000</td>\n",
       "      <td>deltaQ_lowV</td>\n",
       "    </tr>\n",
       "    <tr>\n",
       "      <th>10</th>\n",
       "      <td>0.000000</td>\n",
       "      <td>slope_90_99</td>\n",
       "    </tr>\n",
       "    <tr>\n",
       "      <th>11</th>\n",
       "      <td>0.000000</td>\n",
       "      <td>q_22</td>\n",
       "    </tr>\n",
       "    <tr>\n",
       "      <th>12</th>\n",
       "      <td>-0.000000</td>\n",
       "      <td>q_99</td>\n",
       "    </tr>\n",
       "  </tbody>\n",
       "</table>\n",
       "</div>"
      ],
      "text/plain": [
       "    features          coef\n",
       "0  -0.019322    min_deltaQ\n",
       "1   0.007974    kur_deltaQ\n",
       "2   0.007345  intcpt_90_99\n",
       "3   0.005554  intcpt_22_99\n",
       "4   0.005019   skew_deltaQ\n",
       "5   0.003244     maxQ_q_22\n",
       "6   0.002095   slope_22_99\n",
       "7  -0.000000   mean_deltaQ\n",
       "8  -0.000000    var_deltaQ\n",
       "9   0.000000   deltaQ_lowV\n",
       "10  0.000000   slope_90_99\n",
       "11  0.000000          q_22\n",
       "12 -0.000000          q_99"
      ]
     },
     "execution_count": 113,
     "metadata": {},
     "output_type": "execute_result"
    }
   ],
   "source": [
    "eNet_dchg_coef = pd.DataFrame()\n",
    "eNet_dchg_coef['features'] = prediction1.trained_models['Severson discharge'].pipeline.named_steps['enet'].coef_\n",
    "eNet_dchg_coef['coef'] = prediction1.trained_models['Severson discharge'].X_train.columns\n",
    "eNet_dchg_coef['abs_features'] = abs(eNet_dchg_coef['features'])\n",
    "eNet_dchg_coef_sorted = eNet_dchg_coef.sort_values('abs_features',ascending=False)\n",
    "eNet_dchg_coef_sorted.reset_index(inplace=True,drop=True)\n",
    "eNet_dchg_coef_sorted.drop(columns=['abs_features'],inplace=True)\n",
    "\n",
    "eNet_dchg_coef_sorted"
   ]
  },
  {
   "cell_type": "code",
   "execution_count": 114,
   "id": "4314f1bd-68f2-4baf-b5eb-879727b46666",
   "metadata": {},
   "outputs": [
    {
     "data": {
      "image/png": "[encoded data removed]",
      "text/plain": [
       "<Figure size 450x450 with 1 Axes>"
      ]
     },
     "metadata": {
      "needs_background": "light"
     },
     "output_type": "display_data"
    },
    {
     "data": {
      "image/png": "[encoded data removed]",
      "text/plain": [
       "<Figure size 450x450 with 1 Axes>"
      ]
     },
     "metadata": {
      "needs_background": "light"
     },
     "output_type": "display_data"
    },
    {
     "data": {
      "image/png": "[encoded data removed]",
      "text/plain": [
       "<Figure size 450x450 with 1 Axes>"
      ]
     },
     "metadata": {
      "needs_background": "light"
     },
     "output_type": "display_data"
    }
   ],
   "source": [
    "for feature in eNet_dchg_coef_sorted.coef[0:3]:\n",
    "    prediction1.grouped_feature_distribution(feature)"
   ]
  },
  {
   "cell_type": "markdown",
   "id": "80c16f97-b70c-409a-bfe8-fce9783db63a",
   "metadata": {},
   "source": [
    "#### Pearson correlation coefficient plots and analysis"
   ]
  },
  {
   "cell_type": "code",
   "execution_count": 115,
   "id": "02c59112-29c9-4329-89b4-884eaff831cf",
   "metadata": {},
   "outputs": [],
   "source": [
    "train_test_variance_grp = pd.concat([prediction1.X_train[['Dataset_group','var_deltaQ']],prediction1.X_test[['Dataset_group','var_deltaQ']]],ignore_index=True)\n",
    "train_test_log_cyc = pd.concat([prediction1.y_train[['log_cyc_life']],prediction1.y_test[['log_cyc_life']]],ignore_index=True)"
   ]
  },
  {
   "cell_type": "code",
   "execution_count": 116,
   "id": "9861d443-63a0-4918-9afe-c4d9bd55d0b7",
   "metadata": {},
   "outputs": [
    {
     "data": {
      "image/png": "[encoded data removed]",
      "text/plain": [
       "<Figure size 450x450 with 1 Axes>"
      ]
     },
     "metadata": {
      "needs_background": "light"
     },
     "output_type": "display_data"
    }
   ],
   "source": [
    "unique_grps = pd.unique(train_test_variance_grp.Dataset_group)\n",
    "\n",
    "for grp in unique_grps:\n",
    "    train_idx = train_test_variance_grp[train_test_variance_grp.Dataset_group == grp].index\n",
    "    plt.scatter(x=train_test_variance_grp.var_deltaQ[train_idx],y=train_test_log_cyc.log_cyc_life[train_idx],label=grp,alpha=0.6)\n",
    "# plt.yscale('log')\n",
    "plt.legend(loc='best',bbox_to_anchor=(1,1))\n",
    "# plt.axis('square')\n",
    "plt.ylabel('Log cycles to 85% capacity retention')\n",
    "plt.xlabel('Log Variance feature')\n",
    "plt.show()"
   ]
  },
  {
   "cell_type": "code",
   "execution_count": 117,
   "id": "bd92a31b-7700-456a-af67-7d794e7b6e41",
   "metadata": {},
   "outputs": [
    {
     "data": {
      "text/html": [
       "<div>\n",
       "<style scoped>\n",
       "    .dataframe tbody tr th:only-of-type {\n",
       "        vertical-align: middle;\n",
       "    }\n",
       "\n",
       "    .dataframe tbody tr th {\n",
       "        vertical-align: top;\n",
       "    }\n",
       "\n",
       "    .dataframe thead th {\n",
       "        text-align: right;\n",
       "    }\n",
       "</style>\n",
       "<table border=\"1\" class=\"dataframe\">\n",
       "  <thead>\n",
       "    <tr style=\"text-align: right;\">\n",
       "      <th></th>\n",
       "      <th>Dataset</th>\n",
       "      <th>Pearson Correlation Coefficient</th>\n",
       "    </tr>\n",
       "  </thead>\n",
       "  <tbody>\n",
       "    <tr>\n",
       "      <th>0</th>\n",
       "      <td>Devie2018 (NMC/LCO)</td>\n",
       "      <td>-0.583193</td>\n",
       "    </tr>\n",
       "  </tbody>\n",
       "</table>\n",
       "</div>"
      ],
      "text/plain": [
       "               Dataset  Pearson Correlation Coefficient\n",
       "0  Devie2018 (NMC/LCO)                        -0.583193"
      ]
     },
     "execution_count": 117,
     "metadata": {},
     "output_type": "execute_result"
    }
   ],
   "source": [
    "pearson_correlation = pd.DataFrame()\n",
    "names = []\n",
    "correlation = []\n",
    "for grp in unique_grps:\n",
    "    train_idx = train_test_variance_grp[train_test_variance_grp.Dataset_group == grp].index\n",
    "    var = train_test_variance_grp.var_deltaQ[train_idx]\n",
    "    lftm = train_test_log_cyc.log_cyc_life[train_idx]\n",
    "    names.append(grp)\n",
    "    correlation.append(stats.pearsonr(var, lftm)[0])\n",
    "pearson_correlation['Dataset']=names\n",
    "pearson_correlation['Pearson Correlation Coefficient'] = correlation\n",
    "pearson_correlation"
   ]
  },
  {
   "cell_type": "code",
   "execution_count": 118,
   "id": "59b249aa-5a58-4a7e-b2c6-ff771e39f232",
   "metadata": {
    "tags": []
   },
   "outputs": [
    {
     "data": {
      "image/png": "[encoded data removed]",
      "text/plain": [
       "<Figure size 450x450 with 1 Axes>"
      ]
     },
     "metadata": {
      "needs_background": "light"
     },
     "output_type": "display_data"
    }
   ],
   "source": [
    "i=0\n",
    "colors = colors*math.ceil(len(unique_grps)/len(colors))\n",
    "for grp in unique_grps:\n",
    "    train_idx = train_test_variance_grp[train_test_variance_grp.Dataset_group == grp].index\n",
    "    plt.scatter(x=train_test_variance_grp.var_deltaQ[train_idx],y=train_test_log_cyc.log_cyc_life[train_idx],label=grp,alpha=0.6,c=colors[i])\n",
    "    plt.legend()\n",
    "    plt.ylabel('Log cycles to 85% capacity retention')\n",
    "    plt.xlabel('Log Variance feature')\n",
    "    plt.show()\n",
    "    i+=1"
   ]
  },
  {
   "cell_type": "markdown",
   "id": "d1f23e64-8208-4b29-a40a-3a2103c739d1",
   "metadata": {},
   "source": [
    "#### Tabular data\n",
    "The following code sections allow users to look at tabular data of the Test and Train dataset performance. Users will have to change the model and train_vs_test to update the dataframe that is returned"
   ]
  },
  {
   "cell_type": "code",
   "execution_count": 119,
   "id": "3bcf106d-605e-41a0-aa80-b724ea5b05ad",
   "metadata": {
    "tags": []
   },
   "outputs": [
    {
     "data": {
      "text/html": [
       "<div>\n",
       "<style scoped>\n",
       "    .dataframe tbody tr th:only-of-type {\n",
       "        vertical-align: middle;\n",
       "    }\n",
       "\n",
       "    .dataframe tbody tr th {\n",
       "        vertical-align: top;\n",
       "    }\n",
       "\n",
       "    .dataframe thead th {\n",
       "        text-align: right;\n",
       "    }\n",
       "</style>\n",
       "<table border=\"1\" class=\"dataframe\">\n",
       "  <thead>\n",
       "    <tr style=\"text-align: right;\">\n",
       "      <th></th>\n",
       "      <th>Name</th>\n",
       "      <th>Dummy Predicted cycle life</th>\n",
       "      <th>Severson variance Predicted cycle life</th>\n",
       "      <th>Severson discharge Predicted cycle life</th>\n",
       "      <th>Actual cycle life</th>\n",
       "    </tr>\n",
       "  </thead>\n",
       "  <tbody>\n",
       "    <tr>\n",
       "      <th>0</th>\n",
       "      <td>HNEI_18650_NMC_LCO_25C_0-100_0.5-1.5C_o_timese...</td>\n",
       "      <td>267.06825</td>\n",
       "      <td>266.394800</td>\n",
       "      <td>269.558129</td>\n",
       "      <td>287.0</td>\n",
       "    </tr>\n",
       "    <tr>\n",
       "      <th>1</th>\n",
       "      <td>HNEI_18650_NMC_LCO_25C_0-100_0.5-1.5C_f_timese...</td>\n",
       "      <td>267.06825</td>\n",
       "      <td>256.871443</td>\n",
       "      <td>205.576091</td>\n",
       "      <td>259.0</td>\n",
       "    </tr>\n",
       "    <tr>\n",
       "      <th>2</th>\n",
       "      <td>HNEI_18650_NMC_LCO_25C_0-100_0.5-1.5C_g_timese...</td>\n",
       "      <td>267.06825</td>\n",
       "      <td>257.925171</td>\n",
       "      <td>236.008168</td>\n",
       "      <td>260.0</td>\n",
       "    </tr>\n",
       "    <tr>\n",
       "      <th>3</th>\n",
       "      <td>HNEI_18650_NMC_LCO_25C_0-100_0.5-1.5C_n_timese...</td>\n",
       "      <td>267.06825</td>\n",
       "      <td>258.425984</td>\n",
       "      <td>320.558435</td>\n",
       "      <td>265.0</td>\n",
       "    </tr>\n",
       "    <tr>\n",
       "      <th>4</th>\n",
       "      <td>HNEI_18650_NMC_LCO_25C_0-100_0.5-1.5C_b_timese...</td>\n",
       "      <td>267.06825</td>\n",
       "      <td>258.165996</td>\n",
       "      <td>258.054612</td>\n",
       "      <td>243.0</td>\n",
       "    </tr>\n",
       "    <tr>\n",
       "      <th>5</th>\n",
       "      <td>HNEI_18650_NMC_LCO_25C_0-100_0.5-1.5C_p_timese...</td>\n",
       "      <td>267.06825</td>\n",
       "      <td>264.191674</td>\n",
       "      <td>251.277186</td>\n",
       "      <td>280.0</td>\n",
       "    </tr>\n",
       "  </tbody>\n",
       "</table>\n",
       "</div>"
      ],
      "text/plain": [
       "                                                Name  \\\n",
       "0  HNEI_18650_NMC_LCO_25C_0-100_0.5-1.5C_o_timese...   \n",
       "1  HNEI_18650_NMC_LCO_25C_0-100_0.5-1.5C_f_timese...   \n",
       "2  HNEI_18650_NMC_LCO_25C_0-100_0.5-1.5C_g_timese...   \n",
       "3  HNEI_18650_NMC_LCO_25C_0-100_0.5-1.5C_n_timese...   \n",
       "4  HNEI_18650_NMC_LCO_25C_0-100_0.5-1.5C_b_timese...   \n",
       "5  HNEI_18650_NMC_LCO_25C_0-100_0.5-1.5C_p_timese...   \n",
       "\n",
       "   Dummy Predicted cycle life  Severson variance Predicted cycle life  \\\n",
       "0                   267.06825                              266.394800   \n",
       "1                   267.06825                              256.871443   \n",
       "2                   267.06825                              257.925171   \n",
       "3                   267.06825                              258.425984   \n",
       "4                   267.06825                              258.165996   \n",
       "5                   267.06825                              264.191674   \n",
       "\n",
       "   Severson discharge Predicted cycle life  Actual cycle life  \n",
       "0                               269.558129              287.0  \n",
       "1                               205.576091              259.0  \n",
       "2                               236.008168              260.0  \n",
       "3                               320.558435              265.0  \n",
       "4                               258.054612              243.0  \n",
       "5                               251.277186              280.0  "
      ]
     },
     "execution_count": 119,
     "metadata": {},
     "output_type": "execute_result"
    }
   ],
   "source": [
    "train_vs_test = \"test\"\n",
    "\n",
    "prediction1.return_prediction_dataframes(train_vs_test)"
   ]
  },
  {
   "cell_type": "markdown",
   "id": "3347d5f2-ee9d-4a19-9d29-f8c4af634d53",
   "metadata": {},
   "source": [
    "#### Select Prediction dataset, and predict cycle lives"
   ]
  },
  {
   "cell_type": "code",
   "execution_count": 120,
   "id": "67a927b8-d9a9-4f55-8406-01f85df37861",
   "metadata": {
    "tags": []
   },
   "outputs": [
    {
     "data": {
      "text/markdown": [
       "#### Search for test records to add to Prediction dataset"
      ],
      "text/plain": [
       "<IPython.core.display.Markdown object>"
      ]
     },
     "metadata": {},
     "output_type": "display_data"
    },
    {
     "data": {
      "text/markdown": [
       "Filtering tests by capacity retention is slow; check kernel status for update on completion."
      ],
      "text/plain": [
       "<IPython.core.display.Markdown object>"
      ]
     },
     "metadata": {},
     "output_type": "display_data"
    },
    {
     "data": {
      "application/vnd.jupyter.widget-view+json": {
       "model_id": "e2c85ff4334147949d3402d501335e3d",
       "version_major": 2,
       "version_minor": 0
      },
      "text/plain": [
       "interactive(children=(SelectMultiple(description='Prediction Datasets:', options=('Severson2019 - All (LFP)', …"
      ]
     },
     "metadata": {},
     "output_type": "display_data"
    },
    {
     "data": {
      "application/vnd.jupyter.widget-view+json": {
       "model_id": "d71aaf60f03d4467be106f06ce498a04",
       "version_major": 2,
       "version_minor": 0
      },
      "text/plain": [
       "Button(button_style='danger', description='Predict Lifetime', disabled=True, style=ButtonStyle(button_color='#…"
      ]
     },
     "metadata": {},
     "output_type": "display_data"
    },
    {
     "data": {
      "application/vnd.jupyter.widget-view+json": {
       "model_id": "76365da6c57648e1a9ed23c81894863f",
       "version_major": 2,
       "version_minor": 0
      },
      "text/plain": [
       "Output()"
      ]
     },
     "metadata": {},
     "output_type": "display_data"
    }
   ],
   "source": [
    "# next step is to allow users to select data for prediction. That needs to be featurized (but no y-values) and then the CL values can be predicted and shared (how to visualize...?)\n",
    "\n",
    "predict_model_predict = widgets.Button(description = 'Predict Lifetime', button_style = 'danger', style={\"button_color\": \"#38adad\"}, disabled = True)\n",
    "\n",
    "display(Markdown(\"#### Search for test records to add to Prediction dataset\"))\n",
    "display(Markdown(\"Filtering tests by capacity retention is slow; check kernel status for update on completion.\"))\n",
    "# search_type = widgets.RadioButtons(options=['Test Name','Min Cycle Number','Both'],\n",
    "#                                     disabled=False)\n",
    "# Want to add in some search criteria here: min cycle number (if blank, ignore), min capacity retention\n",
    "\n",
    "select_predict = interactive(cpw.select_widget, \n",
    "                           train_sets = widgets.SelectMultiple(value=[], options=cpw.std_train_datasets, description=f'Prediction Datasets:',style={'description_width': 'initial'}, ensure_option=True),\n",
    "                          train_or_test=fixed('predict'), pred_obj = fixed(prediction1), trs = fixed(trs), predict_button = fixed(predict_model_predict))\n",
    "\n",
    "# interactive(cpw.custom_select, filter_by_cap_retention = widgets.Checkbox(value=False,description='Filter tests by capacity retention threshold',\n",
    "#                                                                                          style={'description_width': 'initial'}),\n",
    "#                            min_cyc_num = widgets.IntText(description = 'Minimum # of cycles:',style={'description_width': 'initial'}, value = prediction1.get_end_cycle()+1),\n",
    "#                            other_search_text = widgets.Text(\n",
    "#                 value = prediction1.get_last_custom_search(),description='Test name search:', \n",
    "#                 style={'description_width': 'initial'},continuous_update=False),\n",
    "#                                      train_or_test=fixed('predict'), prediction1 = fixed(prediction1),\n",
    "#                                      trs = fixed(trs),predict_button = fixed(predict_model_predict))\n",
    "\n",
    "output = widgets.Output()\n",
    "\n",
    "display(select_predict,predict_model_predict, output)\n",
    "    \n",
    "        \n",
    "def pred_model_predict(b):\n",
    "    ''' function that will predict CL on prediction data. returns a plot of predicted cycle life'''\n",
    "    with output:\n",
    "        cpw.populate_test_train_data(prediction1, trs, predict = True)\n",
    "        print(\"Starting featurization...\")\n",
    "        prediction1.featurize_predict(trs)\n",
    "        print(\"Featurization complete!\")\n",
    "        prediction1.predict()\n",
    "        prediction1.calc_predicted_cyclelife()\n",
    "        prediction_df, time_pred_df = prediction1.return_predicted_cyclelife()\n",
    "        log_scale = max(prediction_df.drop(columns = ['Name','Current cycle']).max()) > 10*(max(prediction_df['Current cycle']))\n",
    "        prediction_df.set_index('Name').plot.barh(figsize=(10, len(prediction_df)/1.2), width = .8, logx = log_scale)\n",
    "        plt.xlabel('Cycles')\n",
    "        plt.title(\"Predicted cycle life by ML model for each test\")\n",
    "        plt.show()\n",
    "        \n",
    "        # want to only show predicted time to failure for tests that have not already 'failed'\n",
    "        # so I want to add a filter criteria based on prediction_df\n",
    "        if len(time_pred_df) >0:\n",
    "            print(\"Predicted time remaining (hours) based on each ML model for tests which have not yet reached the capacity retention threshold\")\n",
    "            log_scale_time = max(time_pred_df.drop(columns = ['Name']).max()) > 10*(min(time_pred_df[time_pred_df.drop(columns = ['Name']) > 0].drop(columns = ['Name']).min()))\n",
    "\n",
    "            time_pred_df.set_index('Name').plot.barh(figsize=(10, len(time_pred_df)/1.2),width = .8, logx = log_scale_time)\n",
    "            plt.xlabel('Predicted Hours until Failure')\n",
    "    #         plt.title\n",
    "            plt.show()\n",
    "        else:\n",
    "            print(\"All tests in the Prediction dataset have already reached the set capacity retention threshold\")\n",
    "\n",
    "predict_model_predict.on_click(pred_model_predict)\n"
   ]
  },
  {
   "cell_type": "markdown",
   "id": "6852399e-5ffc-4ff2-b818-ade36708f17e",
   "metadata": {},
   "source": [
    "To show the dataframe for prediction data, run the following command:"
   ]
  },
  {
   "cell_type": "code",
   "execution_count": 172,
   "id": "697a2312-a13a-4212-89d5-3d6a3e064a01",
   "metadata": {},
   "outputs": [
    {
     "data": {
      "text/html": [
       "<div>\n",
       "<style scoped>\n",
       "    .dataframe tbody tr th:only-of-type {\n",
       "        vertical-align: middle;\n",
       "    }\n",
       "\n",
       "    .dataframe tbody tr th {\n",
       "        vertical-align: top;\n",
       "    }\n",
       "\n",
       "    .dataframe thead th {\n",
       "        text-align: right;\n",
       "    }\n",
       "</style>\n",
       "<table border=\"1\" class=\"dataframe\">\n",
       "  <thead>\n",
       "    <tr style=\"text-align: right;\">\n",
       "      <th></th>\n",
       "      <th>Name</th>\n",
       "      <th>Dummy Predicted Cycle Life</th>\n",
       "      <th>Severson variance Predicted Cycle Life</th>\n",
       "      <th>Severson discharge Predicted Cycle Life</th>\n",
       "      <th>Current cycle</th>\n",
       "      <th>Cycle to 0.85% capacity retention</th>\n",
       "    </tr>\n",
       "  </thead>\n",
       "  <tbody>\n",
       "    <tr>\n",
       "      <th>0</th>\n",
       "      <td>iPhone_3G_Cycle_split-1.006</td>\n",
       "      <td>591.681462</td>\n",
       "      <td>555.449327</td>\n",
       "      <td>1889.531977</td>\n",
       "      <td>965</td>\n",
       "      <td>0</td>\n",
       "    </tr>\n",
       "    <tr>\n",
       "      <th>1</th>\n",
       "      <td>iPhone_5c_Cycle.008</td>\n",
       "      <td>591.681462</td>\n",
       "      <td>576.651551</td>\n",
       "      <td>3967.651599</td>\n",
       "      <td>2001</td>\n",
       "      <td>0</td>\n",
       "    </tr>\n",
       "    <tr>\n",
       "      <th>2</th>\n",
       "      <td>iPhone_5s_Cycle.007</td>\n",
       "      <td>591.681462</td>\n",
       "      <td>623.245160</td>\n",
       "      <td>5442.949212</td>\n",
       "      <td>2001</td>\n",
       "      <td>0</td>\n",
       "    </tr>\n",
       "  </tbody>\n",
       "</table>\n",
       "</div>"
      ],
      "text/plain": [
       "                          Name  Dummy Predicted Cycle Life  \\\n",
       "0  iPhone_3G_Cycle_split-1.006                  591.681462   \n",
       "1          iPhone_5c_Cycle.008                  591.681462   \n",
       "2          iPhone_5s_Cycle.007                  591.681462   \n",
       "\n",
       "   Severson variance Predicted Cycle Life  \\\n",
       "0                              555.449327   \n",
       "1                              576.651551   \n",
       "2                              623.245160   \n",
       "\n",
       "   Severson discharge Predicted Cycle Life  Current cycle  \\\n",
       "0                              1889.531977            965   \n",
       "1                              3967.651599           2001   \n",
       "2                              5442.949212           2001   \n",
       "\n",
       "   Cycle to 0.85% capacity retention  \n",
       "0                                  0  \n",
       "1                                  0  \n",
       "2                                  0  "
      ]
     },
     "execution_count": 172,
     "metadata": {},
     "output_type": "execute_result"
    }
   ],
   "source": [
    "prediction_df, time_pred_df = prediction1.return_predicted_cyclelife()\n",
    "prediction_df"
   ]
  },
  {
   "cell_type": "code",
   "execution_count": null,
   "id": "aeb516d0-294d-451c-bbb9-12a706b95820",
   "metadata": {},
   "outputs": [],
   "source": []
  }
 ],
 "metadata": {
  "kernelspec": {
   "display_name": "Python 3 (ipykernel)",
   "language": "python",
   "name": "python3"
  },
  "language_info": {
   "codemirror_mode": {
    "name": "ipython",
    "version": 3
   },
   "file_extension": ".py",
   "mimetype": "text/x-python",
   "name": "python",
   "nbconvert_exporter": "python",
   "pygments_lexer": "ipython3",
   "version": "3.9.6"
  }
 },
 "nbformat": 4,
 "nbformat_minor": 5
}
