{
 "cells": [
  {
   "cell_type": "markdown",
   "id": "75f2829e-9166-4809-a277-94d376dbb06f",
   "metadata": {},
   "source": [
    "# Cycle Life Prediction: Generalized Severson Analysis\n",
    "\n",
    "This notebook generalizes the analysis presented in Severson's 2019 Nature Energy paper for cycle life prediction from the first 100 cycles of test data.\n",
    "\n",
    "Through a series of widgets, users can select any number of Train and Test datasets from the Voltaiq Community server, featurize those datasets based on generalizations of the features in Severson et al, train and test the Severson Variance and/or Discharge models on the Train/Test datasets, evaluate model performance, and predict cycle life for any number of Prediction datasets of interest.\n",
    "\n",
    "### Inputs:\n",
    "- **Model(s):** Users can select which models they would like to evaluate. We currently offer comparisons between the Severson Variance, Severson Discharge and Dummy models, but will continue to add in additional models from the literature. We also plan to allow users to specify their own models in the future.\n",
    "    - Once a model is selected, users can Train and Test their models, including showing parity plots, RMSE and MAPE performance plots for their selected model(s).\n",
    "- **Featurization inputs:** The train and test data will be featurized based on the Severson models, with the following nuances:\n",
    "    - Rather than using a hard-coded reference capacity for 80% capacity retention, we allow for a flexible capacity retention threshold based on the initial capacity of a test. Instead of choosing the first cycle to drop below the capacity retention threshold, we choose the first cycle to do so within a sequence of 5 consecutive cycles; this provides some robustness against noise/fluctuations\n",
    "    - A user also inputs the `start` and `end` cycles for which to perform the differencing for the voltage vs capacity data. The default is cycles 9 and 99 to correspond with the Severson analysis (note that Voltaiq uses zero-indexing on cycles as a default, unless they are explicitly specified in an input file). Note that all tests within the Train and Test datasets must include these two cycles.\n",
    "    - A cycle number must also be given from which to calculate reference capacity. The current script implementation allows a user to choose a cycle ordinal from which to calculate a reference capacity. The Severson model used cell nominal capacity as a reference capacity; however this is not known for each dataset on Voltaiq Community. Thus, a reference capacity based on the cycling data is chosen instead. Currently this cycle number must be the same for all datasets used for the model. A fixed reference cycle choice requires a user to have some information about what cycle to choose – the default ordinal is cycle 20 as that works for the curated datasets provided with this script.\n",
    "    - Voltage vs capacity data is still interpolated between the min and max values for each test record; note that the features based on a specific voltage cutoff are no longer applicable\n",
    "- **Train dataset:** Data which will be used to train the ML model(s) you choose. Choose from a number of curated publicly-available datasets, and/or choose custom data based on a test name search criteria\n",
    "    - Tests must include the same `start` and `end` cycle for the analysis range and tests should also obtain the expected end capacity retention %. If tests do not contain the `start` and `end`cycles, the code will throw an error. If tests do not meet the expected capacity retention %, those tests will be excluded from the Train and Test featurization and model evaluation.\n",
    "    - We provide an option for filtering data based on a minimum cycle count, as well as the set capacity retention threshold. Filtering by capacity retention threshold can be slow, so should be used in conjunction with a cycle number and/or test name filter.\n",
    "- **Test dataset:** Data which will be used to test (evaluate the performance) of the ML model(s) you choose. You may either choose to perform a train-test split (with a configurable split ratio) on the Train dataset, or manually choose data in a manner similar to how you chose the Train dataset.\n",
    "- **Prediction dataset:** After a model is trained and evaluated on the test dataset, users can select a Prediction dataset, and use the ML model(s) of their choice to predict the cycle life of this new dataset. Again, users can select from a curated list or choose a custom dataset based on a test name search criteria.\n",
    "    \n",
    "\n",
    "### Outputs:\n",
    "- Train/Test parity plots, RMSE, MAPE performance plots\n",
    "- The prediction step will generate a bar chart comparing the predicted cycle life for each model for each test record within the dataset, as well as the current (last) cycle of that test record\n",
    "- All train/test results can be accessed through methods and attributes of the CL_prediction class. Further exploration of the data results is possible using the resulting dataframes.\n",
    "\n",
    "### Recommended datasets:\n",
    "The Severson models were developed on fast-charge LFP cycling data. The Variance model contains a single feature based on the variance of the difference between voltage vs capacity curves of two cycles (`start` and `end`). It is likely that these ML models are degradation mode specific. Since the expected degradation mode of the original dataset focused on loss of active material of the negative electrode, cells which have that degradation mode might show better fits. Additionally, it is recommended that similar discharge protocols and cut-off voltages are used for comparison/calculate purposes for the datasets. This is because the features are calculated based on discharge steps, and data is interpolated between the upper and lower cutoff voltages. Significantly different cycling protocols might not allow the ML model to capture the appropriate feature signatures.\n",
    "\n",
    "#### Reference: \n",
    "Severson et al. Data-driven prediction of battery cycle life before capacity degradation. Nature Energy volume 4, pages 383–391 (2019)\n"
   ]
  },
  {
   "cell_type": "markdown",
   "id": "428cb539-22db-4147-a51c-bffe14e15b2a",
   "metadata": {
    "tags": []
   },
   "source": [
    "#### Imports and set-up"
   ]
  },
  {
   "cell_type": "code",
   "execution_count": 1,
   "id": "b0de99c1-618d-4d63-832c-00dc39ef78da",
   "metadata": {
    "tags": []
   },
   "outputs": [],
   "source": [
    "import voltaiq_studio as vs\n",
    "from voltaiq_studio import TraceFilterOperation\n",
    "\n",
    "import severson_featurization\n",
    "import CL_prediction, ML_models\n",
    "import cl_widgets as cpw\n",
    "import importlib\n",
    "importlib.reload(CL_prediction)\n",
    "importlib.reload(ML_models)\n",
    "importlib.reload(severson_featurization)\n",
    "importlib.reload(cpw)\n",
    "from CL_prediction import CLPrediction\n",
    "from severson_featurization import calc_X_and_y, drop_unfinished_tests\n",
    "\n",
    "import ipywidgets as widgets\n",
    "from ipywidgets import interactive, interact, fixed\n",
    "\n",
    "from IPython.display import display, Markdown\n",
    "\n",
    "import numpy as np\n",
    "import pandas as pd\n",
    "from scipy import stats\n",
    "import math\n",
    "\n",
    "import matplotlib.pyplot as plt\n",
    "import matplotlib as mpl\n",
    "from cycler import cycler\n",
    "import seaborn as sns\n",
    "\n",
    "# set a few default figure parameters\n",
    "mpl.rcParams['figure.figsize'] = (3,3)\n",
    "colors = ['#DBDF00', '#68CCCA','#AEA1FF','#73D8FF','#FDA1FF','#9F0500','#C45100','#FB9E00',]\n",
    "mpl.rcParams['axes.prop_cycle'] = cycler(color=colors)\n",
    "fontsize = 6\n",
    "titlesize = 8\n",
    "mpl.rcParams['font.size'] = fontsize\n",
    "mpl.rcParams['legend.fontsize'] = fontsize\n",
    "mpl.rcParams['figure.titlesize'] = titlesize\n",
    "mpl.rcParams['axes.labelsize']=fontsize\n",
    "mpl.rcParams['lines.markersize'] = fontsize\n",
    "mpl.rcParams['figure.dpi'] = 150"
   ]
  },
  {
   "cell_type": "code",
   "execution_count": 2,
   "id": "c94e1a58-f04d-4012-8f73-46895043b5ad",
   "metadata": {
    "tags": []
   },
   "outputs": [],
   "source": [
    "trs = vs.get_test_records()"
   ]
  },
  {
   "cell_type": "markdown",
   "id": "deae3e61-2e6d-4137-bac3-769c4918e373",
   "metadata": {},
   "source": [
    "### User inputs: Select Model(s), Model Inputs, Train data and Test data"
   ]
  },
  {
   "cell_type": "code",
   "execution_count": 3,
   "id": "6283316e-3ca0-4e10-8a84-40cf0ad3834a",
   "metadata": {
    "tags": []
   },
   "outputs": [],
   "source": [
    "# we will start by instantiating a cycle life prediction object \n",
    "# which will store all relevant information for the datasets and models you will choose\n",
    "prediction1 = CL_prediction.CLPrediction()"
   ]
  },
  {
   "cell_type": "markdown",
   "id": "e0791f61-6f3a-4a64-bc3b-b9da8e36c47f",
   "metadata": {},
   "source": [
    "#### Select Models"
   ]
  },
  {
   "cell_type": "code",
   "execution_count": 4,
   "id": "8b636a43-8f25-4713-8627-3875774b341f",
   "metadata": {},
   "outputs": [],
   "source": [
    "model_options = ['All','Dummy','Severson variance','Severson discharge']\n",
    "def set_model(model_choice):\n",
    "    set_models = list(model_choice)\n",
    "    if 'All' in model_choice:\n",
    "        set_models = list(model_options)\n",
    "        set_models.remove('All')\n",
    "    prediction1.set_model(set_models)"
   ]
  },
  {
   "cell_type": "code",
   "execution_count": 5,
   "id": "fdfa589d-f343-4750-a32c-e427c9437c3d",
   "metadata": {},
   "outputs": [
    {
     "data": {
      "application/vnd.jupyter.widget-view+json": {
       "model_id": "07067ef83b254c15866ad1ea5677a84c",
       "version_major": 2,
       "version_minor": 0
      },
      "text/plain": [
       "interactive(children=(SelectMultiple(description='Choose ML model(s)', index=(0,), options=('All', 'Dummy', 'S…"
      ]
     },
     "metadata": {},
     "output_type": "display_data"
    }
   ],
   "source": [
    "choose_model = interactive(set_model, model_choice = widgets.SelectMultiple(options = model_options, value=['All'], description='Choose ML model(s)',style={'description_width': 'initial'},disabled=False))\n",
    "display(choose_model)"
   ]
  },
  {
   "cell_type": "markdown",
   "id": "dfd4ff2a-ca02-40a4-a2ac-c9201d59cf61",
   "metadata": {},
   "source": [
    "#### Select Featurization Criteria"
   ]
  },
  {
   "cell_type": "code",
   "execution_count": 6,
   "id": "f3986297-750b-4fd0-b0c8-4774a0b2fdec",
   "metadata": {},
   "outputs": [
    {
     "data": {
      "application/vnd.jupyter.widget-view+json": {
       "model_id": "62de8555f0ef48dc9ac88f9648ff398c",
       "version_major": 2,
       "version_minor": 0
      },
      "text/plain": [
       "interactive(children=(IntText(value=20, description='Initial cycle: '), IntText(value=99, description='End cyc…"
      ]
     },
     "metadata": {},
     "output_type": "display_data"
    }
   ],
   "source": [
    "featurize = interactive(cpw.featurize_inputs_widget, start_cycle = widgets.IntText(value = 20, description = 'Initial cycle: ', disabled=False,continuous_update = False),\n",
    "                        end_cycle = widgets.IntText(value = 99, description = 'End cycle: ', disabled=False,continuous_update = False),\n",
    "                        per_cap_ret = widgets.BoundedFloatText(value = 0.85,min = 0, max = 1, step = 0.01, description = '% Capacity Retention:',style={'description_width': 'initial'}, disabled=False,continuous_update = False),\n",
    "                       prediction1 = fixed(prediction1),ref_cyc = widgets.BoundedFloatText(value = 20, min = 0, step = 1, description = \"Reference cycle for capacity normalization\",style={'description_width': 'initial'} ))\n",
    "display(featurize)"
   ]
  },
  {
   "cell_type": "markdown",
   "id": "e26d43da-eda7-4a1b-8169-046e3d4c2476",
   "metadata": {},
   "source": [
    "#### Select Training Dataset"
   ]
  },
  {
   "cell_type": "code",
   "execution_count": 7,
   "id": "be6d46d5-4a40-439f-948d-50d735070d15",
   "metadata": {
    "tags": []
   },
   "outputs": [
    {
     "data": {
      "text/markdown": [
       "#### Search for test records to add to Train dataset"
      ],
      "text/plain": [
       "<IPython.core.display.Markdown object>"
      ]
     },
     "metadata": {},
     "output_type": "display_data"
    },
    {
     "data": {
      "text/markdown": [
       "Filtering tests by capacity retention is slow; check kernel status for update on completion."
      ],
      "text/plain": [
       "<IPython.core.display.Markdown object>"
      ]
     },
     "metadata": {},
     "output_type": "display_data"
    },
    {
     "data": {
      "application/vnd.jupyter.widget-view+json": {
       "model_id": "019945b4045c4352a2ae05c0c5619102",
       "version_major": 2,
       "version_minor": 0
      },
      "text/plain": [
       "interactive(children=(SelectMultiple(description='Training Datasets:', options=('Severson2019 - All (LFP)', 'S…"
      ]
     },
     "metadata": {},
     "output_type": "display_data"
    }
   ],
   "source": [
    "display(Markdown(\"#### Search for test records to add to Train dataset\"))\n",
    "display(Markdown(\"Filtering tests by capacity retention is slow; check kernel status for update on completion.\"))\n",
    "# search_type = widgets.RadioButtons(options=['Test Name','Min Cycle Number','Both'],\n",
    "#                                     disabled=False)\n",
    "# Want to add in some search criteria here: min cycle number (if blank, ignore), min capacity retention\n",
    "\n",
    "select_train = interactive(cpw.select_widget, \n",
    "                           train_sets = widgets.SelectMultiple(value=[], options=cpw.std_train_datasets, description=f'Training Datasets:',style={'description_width': 'initial'}, ensure_option=True),\n",
    "                          train_or_test=fixed('train'), pred_obj = fixed(prediction1), trs = fixed(trs), predict_button = fixed(None))\n",
    "\n",
    "display(select_train)"
   ]
  },
  {
   "cell_type": "markdown",
   "id": "53752740-2364-49e6-94b2-2fb091343390",
   "metadata": {
    "tags": []
   },
   "source": [
    "#### Select Testing Dataset (or train-test-split ratio)"
   ]
  },
  {
   "cell_type": "code",
   "execution_count": 8,
   "id": "912f8c53-31a6-400f-b6f8-08acb719c5a1",
   "metadata": {
    "tags": []
   },
   "outputs": [
    {
     "data": {
      "application/vnd.jupyter.widget-view+json": {
       "model_id": "7655a065e1a34a6a9a8cab4a30927483",
       "version_major": 2,
       "version_minor": 0
      },
      "text/plain": [
       "interactive(children=(Dropdown(description='Test dataset selection method', layout=Layout(width='500px'), opti…"
      ]
     },
     "metadata": {},
     "output_type": "display_data"
    }
   ],
   "source": [
    "test_select_dropdown = interactive(cpw.test_select_method,method = widgets.Dropdown(options = ['Use train_test_split on training dataset','Select test dataset manually'], \n",
    "                                                                                value = None, description = 'Test dataset selection method', style={'description_width': 'initial'},\n",
    "                                                                                layout = widgets.Layout(width='500px')), prediction1 = fixed(prediction1), trs = fixed(trs),predict_button=fixed(None))\n",
    "display(test_select_dropdown)"
   ]
  },
  {
   "cell_type": "markdown",
   "id": "334f3dff-ba14-470d-9fcb-2616b1b5d549",
   "metadata": {},
   "source": [
    "#### Featurize the data"
   ]
  },
  {
   "cell_type": "code",
   "execution_count": 9,
   "id": "7c16a4b3-7ddc-42dc-81f3-54996b8e3a9e",
   "metadata": {
    "tags": []
   },
   "outputs": [
    {
     "data": {
      "application/vnd.jupyter.widget-view+json": {
       "model_id": "8afb4bd6d3f14406bbdae87808ae2d54",
       "version_major": 2,
       "version_minor": 0
      },
      "text/plain": [
       "Button(button_style='danger', description='Featurize data', style=ButtonStyle(button_color='#38adad'))"
      ]
     },
     "metadata": {},
     "output_type": "display_data"
    },
    {
     "data": {
      "application/vnd.jupyter.widget-view+json": {
       "model_id": "be6023548d6448f5b0ab69bd3e6adc83",
       "version_major": 2,
       "version_minor": 0
      },
      "text/plain": [
       "Output()"
      ]
     },
     "metadata": {},
     "output_type": "display_data"
    }
   ],
   "source": [
    "output = widgets.Output()\n",
    "perform_featurize = widgets.Button(description = 'Featurize data', button_style = 'danger', style={\"button_color\": \"#38adad\"})\n",
    "\n",
    "display(perform_featurize, output)\n",
    "\n",
    "def featurize(b):\n",
    "    ''' function that will featurize the data'''\n",
    "    with output:\n",
    "        cpw.populate_test_train_data(prediction1, trs)\n",
    "        print(\"Starting featurization...\")\n",
    "        prediction1.featurize(trs)\n",
    "        print(\"Featurization complete!\")\n",
    "\n",
    "perform_featurize.on_click(featurize)"
   ]
  },
  {
   "cell_type": "markdown",
   "id": "5b7ef96b-1ff3-43cd-ae56-b9be5c9e39ed",
   "metadata": {},
   "source": [
    "#### Train & Test ML model(s)"
   ]
  },
  {
   "cell_type": "code",
   "execution_count": 10,
   "id": "78e6c60e-d820-4f12-a846-e1e17a9479a5",
   "metadata": {
    "tags": []
   },
   "outputs": [
    {
     "data": {
      "application/vnd.jupyter.widget-view+json": {
       "model_id": "51aa1a3eff4d48d0a80859a98d5bf085",
       "version_major": 2,
       "version_minor": 0
      },
      "text/plain": [
       "Button(button_style='danger', description='Train model', style=ButtonStyle(button_color='#38adad'))"
      ]
     },
     "metadata": {},
     "output_type": "display_data"
    },
    {
     "data": {
      "application/vnd.jupyter.widget-view+json": {
       "model_id": "a332f83af74a4ca79fb4d35d759da5e6",
       "version_major": 2,
       "version_minor": 0
      },
      "text/plain": [
       "Button(button_style='danger', description='Test model', disabled=True, style=ButtonStyle(button_color='#38adad…"
      ]
     },
     "metadata": {},
     "output_type": "display_data"
    },
    {
     "data": {
      "application/vnd.jupyter.widget-view+json": {
       "model_id": "f536c26fcb7a481d88847ebf53d61342",
       "version_major": 2,
       "version_minor": 0
      },
      "text/plain": [
       "Button(button_style='danger', description='Generate Parity Plots', disabled=True, style=ButtonStyle(button_col…"
      ]
     },
     "metadata": {},
     "output_type": "display_data"
    },
    {
     "data": {
      "application/vnd.jupyter.widget-view+json": {
       "model_id": "4caf0e74d75845b6a937e4966756a0d1",
       "version_major": 2,
       "version_minor": 0
      },
      "text/plain": [
       "Button(button_style='danger', description='Plot MAPE results', disabled=True, style=ButtonStyle(button_color='…"
      ]
     },
     "metadata": {},
     "output_type": "display_data"
    },
    {
     "data": {
      "application/vnd.jupyter.widget-view+json": {
       "model_id": "8cd530c6710b44788a5ad0cf352021e8",
       "version_major": 2,
       "version_minor": 0
      },
      "text/plain": [
       "Button(button_style='danger', description='Plot RMSE results', disabled=True, style=ButtonStyle(button_color='…"
      ]
     },
     "metadata": {},
     "output_type": "display_data"
    },
    {
     "data": {
      "application/vnd.jupyter.widget-view+json": {
       "model_id": "91d9dccd04d445349c5f0c1a376bbb89",
       "version_major": 2,
       "version_minor": 0
      },
      "text/plain": [
       "Output()"
      ]
     },
     "metadata": {},
     "output_type": "display_data"
    }
   ],
   "source": [
    "train_model_button = widgets.Button(description = 'Train model', button_style = 'danger', style={\"button_color\": \"#38adad\"})\n",
    "test_button = widgets.Button(description = 'Test model', button_style = 'danger', style={\"button_color\": \"#38adad\"},disabled=True,)\n",
    "parity_button = widgets.Button(description = 'Generate Parity Plots', button_style = 'danger', style={\"button_color\": \"#38adad\"},disabled=True)\n",
    "MAPE_button = widgets.Button(description = 'Plot MAPE results', button_style = 'danger', style={\"button_color\": \"#38adad\"},disabled=True)\n",
    "RMSE_button = widgets.Button(description = 'Plot RMSE results', button_style = 'danger', style={\"button_color\": \"#38adad\"},disabled=True)\n",
    "\n",
    "\n",
    "output = widgets.Output()\n",
    "display(train_model_button, test_button,parity_button,MAPE_button,RMSE_button, output)\n",
    "\n",
    "def train_button(b):\n",
    "    with output:\n",
    "        prediction1.train_model()\n",
    "        test_button.disabled = False\n",
    "\n",
    "def test_click(b):\n",
    "    with output:\n",
    "        prediction1.test_predict()\n",
    "        parity_button.disabled = False\n",
    "        MAPE_button.disabled = False\n",
    "        RMSE_button.disabled = False\n",
    "        \n",
    "def parity_click(b):\n",
    "    with output:\n",
    "        prediction1.create_parity_plots()\n",
    "\n",
    "def mape_click(b):\n",
    "    with output:\n",
    "        prediction1.plot_model_stats('MAPE')\n",
    "        prediction1.plot_grouped_model_stats('MAPE')\n",
    "        \n",
    "def rmse_click(b):\n",
    "    with output:\n",
    "        prediction1.plot_model_stats('RMSE')\n",
    "        \n",
    "train_model_button.on_click(train_button)\n",
    "test_button.on_click(test_click)\n",
    "parity_button.on_click(parity_click)\n",
    "MAPE_button.on_click(mape_click)\n",
    "RMSE_button.on_click(rmse_click)"
   ]
  },
  {
   "cell_type": "markdown",
   "id": "0eb13cbb-e817-48db-a642-d5f11364b263",
   "metadata": {},
   "source": [
    "#### Exploring data feature distributions\n",
    "\n",
    "First, identify the most important features for the Severson Discharge model (skip this step if the model was not chosen.\n",
    "\n",
    "Next, plot the feature distributions of the three most important features in terms of model weighting."
   ]
  },
  {
   "cell_type": "code",
   "execution_count": 11,
   "id": "ed026c55-102a-44a4-8581-25a406c34766",
   "metadata": {},
   "outputs": [
    {
     "data": {
      "text/html": [
       "<div>\n",
       "<style scoped>\n",
       "    .dataframe tbody tr th:only-of-type {\n",
       "        vertical-align: middle;\n",
       "    }\n",
       "\n",
       "    .dataframe tbody tr th {\n",
       "        vertical-align: top;\n",
       "    }\n",
       "\n",
       "    .dataframe thead th {\n",
       "        text-align: right;\n",
       "    }\n",
       "</style>\n",
       "<table border=\"1\" class=\"dataframe\">\n",
       "  <thead>\n",
       "    <tr style=\"text-align: right;\">\n",
       "      <th></th>\n",
       "      <th>features</th>\n",
       "      <th>coef</th>\n",
       "    </tr>\n",
       "  </thead>\n",
       "  <tbody>\n",
       "    <tr>\n",
       "      <th>0</th>\n",
       "      <td>-0.087075</td>\n",
       "      <td>mean_deltaQ</td>\n",
       "    </tr>\n",
       "    <tr>\n",
       "      <th>1</th>\n",
       "      <td>-0.058671</td>\n",
       "      <td>var_deltaQ</td>\n",
       "    </tr>\n",
       "    <tr>\n",
       "      <th>2</th>\n",
       "      <td>0.017622</td>\n",
       "      <td>intcpt_22_99</td>\n",
       "    </tr>\n",
       "    <tr>\n",
       "      <th>3</th>\n",
       "      <td>-0.010282</td>\n",
       "      <td>slope_22_99</td>\n",
       "    </tr>\n",
       "    <tr>\n",
       "      <th>4</th>\n",
       "      <td>-0.006508</td>\n",
       "      <td>kur_deltaQ</td>\n",
       "    </tr>\n",
       "    <tr>\n",
       "      <th>5</th>\n",
       "      <td>-0.000000</td>\n",
       "      <td>min_deltaQ</td>\n",
       "    </tr>\n",
       "    <tr>\n",
       "      <th>6</th>\n",
       "      <td>0.000000</td>\n",
       "      <td>skew_deltaQ</td>\n",
       "    </tr>\n",
       "    <tr>\n",
       "      <th>7</th>\n",
       "      <td>0.000000</td>\n",
       "      <td>deltaQ_lowV</td>\n",
       "    </tr>\n",
       "    <tr>\n",
       "      <th>8</th>\n",
       "      <td>-0.000000</td>\n",
       "      <td>slope_90_99</td>\n",
       "    </tr>\n",
       "    <tr>\n",
       "      <th>9</th>\n",
       "      <td>0.000000</td>\n",
       "      <td>intcpt_90_99</td>\n",
       "    </tr>\n",
       "    <tr>\n",
       "      <th>10</th>\n",
       "      <td>0.000000</td>\n",
       "      <td>q_22</td>\n",
       "    </tr>\n",
       "    <tr>\n",
       "      <th>11</th>\n",
       "      <td>0.000000</td>\n",
       "      <td>maxQ_q_22</td>\n",
       "    </tr>\n",
       "    <tr>\n",
       "      <th>12</th>\n",
       "      <td>0.000000</td>\n",
       "      <td>q_99</td>\n",
       "    </tr>\n",
       "  </tbody>\n",
       "</table>\n",
       "</div>"
      ],
      "text/plain": [
       "    features          coef\n",
       "0  -0.087075   mean_deltaQ\n",
       "1  -0.058671    var_deltaQ\n",
       "2   0.017622  intcpt_22_99\n",
       "3  -0.010282   slope_22_99\n",
       "4  -0.006508    kur_deltaQ\n",
       "5  -0.000000    min_deltaQ\n",
       "6   0.000000   skew_deltaQ\n",
       "7   0.000000   deltaQ_lowV\n",
       "8  -0.000000   slope_90_99\n",
       "9   0.000000  intcpt_90_99\n",
       "10  0.000000          q_22\n",
       "11  0.000000     maxQ_q_22\n",
       "12  0.000000          q_99"
      ]
     },
     "execution_count": 11,
     "metadata": {},
     "output_type": "execute_result"
    }
   ],
   "source": [
    "eNet_dchg_coef = pd.DataFrame()\n",
    "eNet_dchg_coef['features'] = prediction1.trained_models['Severson discharge'].pipeline.named_steps['enet'].coef_\n",
    "eNet_dchg_coef['coef'] = prediction1.trained_models['Severson discharge'].X_train.columns\n",
    "eNet_dchg_coef['abs_features'] = abs(eNet_dchg_coef['features'])\n",
    "eNet_dchg_coef_sorted = eNet_dchg_coef.sort_values('abs_features',ascending=False)\n",
    "eNet_dchg_coef_sorted.reset_index(inplace=True,drop=True)\n",
    "eNet_dchg_coef_sorted.drop(columns=['abs_features'],inplace=True)\n",
    "\n",
    "eNet_dchg_coef_sorted"
   ]
  },
  {
   "cell_type": "code",
   "execution_count": 12,
   "id": "4314f1bd-68f2-4baf-b5eb-879727b46666",
   "metadata": {},
   "outputs": [
    {
     "data": {
      "image/png": "[encoded data removed]",
      "text/plain": [
       "<Figure size 450x450 with 1 Axes>"
      ]
     },
     "metadata": {
      "needs_background": "light"
     },
     "output_type": "display_data"
    },
    {
     "data": {
      "image/png": "[encoded data removed]",
      "text/plain": [
       "<Figure size 450x450 with 1 Axes>"
      ]
     },
     "metadata": {
      "needs_background": "light"
     },
     "output_type": "display_data"
    },
    {
     "data": {
      "image/png": "[encoded data removed]",
      "text/plain": [
       "<Figure size 450x450 with 1 Axes>"
      ]
     },
     "metadata": {
      "needs_background": "light"
     },
     "output_type": "display_data"
    }
   ],
   "source": [
    "for feature in eNet_dchg_coef_sorted.coef[0:3]:\n",
    "    prediction1.grouped_feature_distribution(feature)"
   ]
  },
  {
   "cell_type": "markdown",
   "id": "80c16f97-b70c-409a-bfe8-fce9783db63a",
   "metadata": {},
   "source": [
    "#### Pearson correlation coefficient plots and analysis"
   ]
  },
  {
   "cell_type": "code",
   "execution_count": 13,
   "id": "02c59112-29c9-4329-89b4-884eaff831cf",
   "metadata": {},
   "outputs": [],
   "source": [
    "train_test_variance_grp = pd.concat([prediction1.X_train[['Dataset_group','var_deltaQ']],prediction1.X_test[['Dataset_group','var_deltaQ']]],ignore_index=True)\n",
    "train_test_log_cyc = pd.concat([prediction1.y_train[['log_cyc_life']],prediction1.y_test[['log_cyc_life']]],ignore_index=True)"
   ]
  },
  {
   "cell_type": "code",
   "execution_count": 14,
   "id": "9861d443-63a0-4918-9afe-c4d9bd55d0b7",
   "metadata": {},
   "outputs": [
    {
     "data": {
      "image/png": "[encoded data removed]",
      "text/plain": [
       "<Figure size 450x450 with 1 Axes>"
      ]
     },
     "metadata": {
      "needs_background": "light"
     },
     "output_type": "display_data"
    }
   ],
   "source": [
    "unique_grps = pd.unique(train_test_variance_grp.Dataset_group)\n",
    "\n",
    "for grp in unique_grps:\n",
    "    train_idx = train_test_variance_grp[train_test_variance_grp.Dataset_group == grp].index\n",
    "    plt.scatter(x=train_test_variance_grp.var_deltaQ[train_idx],y=train_test_log_cyc.log_cyc_life[train_idx],label=grp,alpha=0.6)\n",
    "# plt.yscale('log')\n",
    "plt.legend(loc='best',bbox_to_anchor=(1,1))\n",
    "# plt.axis('square')\n",
    "plt.ylabel('Log cycles to 85% capacity retention')\n",
    "plt.xlabel('Log Variance feature')\n",
    "plt.show()"
   ]
  },
  {
   "cell_type": "code",
   "execution_count": 15,
   "id": "bd92a31b-7700-456a-af67-7d794e7b6e41",
   "metadata": {},
   "outputs": [
    {
     "data": {
      "text/html": [
       "<div>\n",
       "<style scoped>\n",
       "    .dataframe tbody tr th:only-of-type {\n",
       "        vertical-align: middle;\n",
       "    }\n",
       "\n",
       "    .dataframe tbody tr th {\n",
       "        vertical-align: top;\n",
       "    }\n",
       "\n",
       "    .dataframe thead th {\n",
       "        text-align: right;\n",
       "    }\n",
       "</style>\n",
       "<table border=\"1\" class=\"dataframe\">\n",
       "  <thead>\n",
       "    <tr style=\"text-align: right;\">\n",
       "      <th></th>\n",
       "      <th>Dataset</th>\n",
       "      <th>Pearson Correlation Coefficient</th>\n",
       "    </tr>\n",
       "  </thead>\n",
       "  <tbody>\n",
       "    <tr>\n",
       "      <th>0</th>\n",
       "      <td>Severson2019 - Train (LFP)</td>\n",
       "      <td>-0.930378</td>\n",
       "    </tr>\n",
       "    <tr>\n",
       "      <th>1</th>\n",
       "      <td>Severson2019 - Test (LFP)</td>\n",
       "      <td>-0.950874</td>\n",
       "    </tr>\n",
       "  </tbody>\n",
       "</table>\n",
       "</div>"
      ],
      "text/plain": [
       "                      Dataset  Pearson Correlation Coefficient\n",
       "0  Severson2019 - Train (LFP)                        -0.930378\n",
       "1   Severson2019 - Test (LFP)                        -0.950874"
      ]
     },
     "execution_count": 15,
     "metadata": {},
     "output_type": "execute_result"
    }
   ],
   "source": [
    "pearson_correlation = pd.DataFrame()\n",
    "names = []\n",
    "correlation = []\n",
    "for grp in unique_grps:\n",
    "    train_idx = train_test_variance_grp[train_test_variance_grp.Dataset_group == grp].index\n",
    "    var = train_test_variance_grp.var_deltaQ[train_idx]\n",
    "    lftm = train_test_log_cyc.log_cyc_life[train_idx]\n",
    "    names.append(grp)\n",
    "    correlation.append(stats.pearsonr(var, lftm)[0])\n",
    "pearson_correlation['Dataset']=names\n",
    "pearson_correlation['Pearson Correlation Coefficient'] = correlation\n",
    "pearson_correlation"
   ]
  },
  {
   "cell_type": "code",
   "execution_count": 16,
   "id": "59b249aa-5a58-4a7e-b2c6-ff771e39f232",
   "metadata": {
    "tags": []
   },
   "outputs": [
    {
     "data": {
      "image/png": "[encoded data removed]",
      "text/plain": [
       "<Figure size 450x450 with 1 Axes>"
      ]
     },
     "metadata": {
      "needs_background": "light"
     },
     "output_type": "display_data"
    },
    {
     "data": {
      "image/png": "[encoded data removed]",
      "text/plain": [
       "<Figure size 450x450 with 1 Axes>"
      ]
     },
     "metadata": {
      "needs_background": "light"
     },
     "output_type": "display_data"
    }
   ],
   "source": [
    "i=0\n",
    "colors = colors*math.ceil(len(unique_grps)/len(colors))\n",
    "for grp in unique_grps:\n",
    "    train_idx = train_test_variance_grp[train_test_variance_grp.Dataset_group == grp].index\n",
    "    plt.scatter(x=train_test_variance_grp.var_deltaQ[train_idx],y=train_test_log_cyc.log_cyc_life[train_idx],label=grp,alpha=0.6,c=colors[i])\n",
    "    plt.legend()\n",
    "    plt.ylabel('Log cycles to 85% capacity retention')\n",
    "    plt.xlabel('Log Variance feature')\n",
    "    plt.show()\n",
    "    i+=1"
   ]
  },
  {
   "cell_type": "markdown",
   "id": "d1f23e64-8208-4b29-a40a-3a2103c739d1",
   "metadata": {},
   "source": [
    "#### Tabular data\n",
    "The following code sections allow users to look at tabular data of the Test and Train dataset performance. Users will have to change the model and train_vs_test to update the dataframe that is returned"
   ]
  },
  {
   "cell_type": "code",
   "execution_count": 17,
   "id": "3bcf106d-605e-41a0-aa80-b724ea5b05ad",
   "metadata": {
    "tags": []
   },
   "outputs": [
    {
     "data": {
      "text/html": [
       "<div>\n",
       "<style scoped>\n",
       "    .dataframe tbody tr th:only-of-type {\n",
       "        vertical-align: middle;\n",
       "    }\n",
       "\n",
       "    .dataframe tbody tr th {\n",
       "        vertical-align: top;\n",
       "    }\n",
       "\n",
       "    .dataframe thead th {\n",
       "        text-align: right;\n",
       "    }\n",
       "</style>\n",
       "<table border=\"1\" class=\"dataframe\">\n",
       "  <thead>\n",
       "    <tr style=\"text-align: right;\">\n",
       "      <th></th>\n",
       "      <th>Name</th>\n",
       "      <th>Dummy Predicted cycle life</th>\n",
       "      <th>Severson variance Predicted cycle life</th>\n",
       "      <th>Severson discharge Predicted cycle life</th>\n",
       "      <th>Actual cycle life</th>\n",
       "    </tr>\n",
       "  </thead>\n",
       "  <tbody>\n",
       "    <tr>\n",
       "      <th>0</th>\n",
       "      <td>2017-05-12_3_6C-80per_3_6C_CH1_VDF</td>\n",
       "      <td>591.681462</td>\n",
       "      <td>1588.813740</td>\n",
       "      <td>1507.547058</td>\n",
       "      <td>1759.0</td>\n",
       "    </tr>\n",
       "    <tr>\n",
       "      <th>1</th>\n",
       "      <td>2017-05-12_3_6C-80per_3_6C_CH3_VDF</td>\n",
       "      <td>591.681462</td>\n",
       "      <td>1842.853624</td>\n",
       "      <td>1798.889673</td>\n",
       "      <td>2150.0</td>\n",
       "    </tr>\n",
       "    <tr>\n",
       "      <th>2</th>\n",
       "      <td>2017-05-12_4C-80per_4C_CH6_VDF</td>\n",
       "      <td>591.681462</td>\n",
       "      <td>1436.544717</td>\n",
       "      <td>1364.130185</td>\n",
       "      <td>1612.0</td>\n",
       "    </tr>\n",
       "    <tr>\n",
       "      <th>3</th>\n",
       "      <td>2017-05-12_4_8C-80per_4_8C_CH10_VDF</td>\n",
       "      <td>591.681462</td>\n",
       "      <td>727.764791</td>\n",
       "      <td>742.168201</td>\n",
       "      <td>609.0</td>\n",
       "    </tr>\n",
       "    <tr>\n",
       "      <th>4</th>\n",
       "      <td>2017-05-12_5_4C-40per_3_6C_CH20_VDF</td>\n",
       "      <td>591.681462</td>\n",
       "      <td>863.158203</td>\n",
       "      <td>876.684053</td>\n",
       "      <td>1006.0</td>\n",
       "    </tr>\n",
       "    <tr>\n",
       "      <th>5</th>\n",
       "      <td>2017-05-12_5_4C-60per_3C_CH15_VDF</td>\n",
       "      <td>591.681462</td>\n",
       "      <td>875.847022</td>\n",
       "      <td>837.355192</td>\n",
       "      <td>839.0</td>\n",
       "    </tr>\n",
       "    <tr>\n",
       "      <th>6</th>\n",
       "      <td>2017-05-12_5_4C-60per_3_6C_CH23_VDF</td>\n",
       "      <td>591.681462</td>\n",
       "      <td>912.632674</td>\n",
       "      <td>893.756137</td>\n",
       "      <td>820.0</td>\n",
       "    </tr>\n",
       "    <tr>\n",
       "      <th>7</th>\n",
       "      <td>2017-05-12_5_4C-70per_3C_CH17_VDF</td>\n",
       "      <td>591.681462</td>\n",
       "      <td>602.652087</td>\n",
       "      <td>574.952546</td>\n",
       "      <td>661.0</td>\n",
       "    </tr>\n",
       "    <tr>\n",
       "      <th>8</th>\n",
       "      <td>2017-05-12_5_4C-80per_5_4C_CH11_VDF</td>\n",
       "      <td>591.681462</td>\n",
       "      <td>469.410828</td>\n",
       "      <td>471.096423</td>\n",
       "      <td>502.0</td>\n",
       "    </tr>\n",
       "    <tr>\n",
       "      <th>9</th>\n",
       "      <td>2017-05-12_6C-30per_3_6C_CH32_VDF</td>\n",
       "      <td>591.681462</td>\n",
       "      <td>836.445801</td>\n",
       "      <td>812.178830</td>\n",
       "      <td>971.0</td>\n",
       "    </tr>\n",
       "    <tr>\n",
       "      <th>10</th>\n",
       "      <td>2017-05-12_6C-40per_3C_CH26_VDF</td>\n",
       "      <td>591.681462</td>\n",
       "      <td>836.712531</td>\n",
       "      <td>819.029011</td>\n",
       "      <td>813.0</td>\n",
       "    </tr>\n",
       "    <tr>\n",
       "      <th>11</th>\n",
       "      <td>2017-05-12_6C-40per_3_6C_CH34_VDF</td>\n",
       "      <td>591.681462</td>\n",
       "      <td>738.777698</td>\n",
       "      <td>753.006307</td>\n",
       "      <td>807.0</td>\n",
       "    </tr>\n",
       "    <tr>\n",
       "      <th>12</th>\n",
       "      <td>2017-05-12_6C-50per_3C_CH28_VDF</td>\n",
       "      <td>591.681462</td>\n",
       "      <td>711.157892</td>\n",
       "      <td>703.238763</td>\n",
       "      <td>867.0</td>\n",
       "    </tr>\n",
       "    <tr>\n",
       "      <th>13</th>\n",
       "      <td>2017-05-12_6C-50per_3_6C_CH36_VDF</td>\n",
       "      <td>591.681462</td>\n",
       "      <td>675.320311</td>\n",
       "      <td>726.953462</td>\n",
       "      <td>824.0</td>\n",
       "    </tr>\n",
       "    <tr>\n",
       "      <th>14</th>\n",
       "      <td>2017-05-12_6C-60per_3C_CH30_VDF</td>\n",
       "      <td>591.681462</td>\n",
       "      <td>613.771461</td>\n",
       "      <td>647.763092</td>\n",
       "      <td>704.0</td>\n",
       "    </tr>\n",
       "    <tr>\n",
       "      <th>15</th>\n",
       "      <td>2017-05-12_7C-30per_3_6C_CH40_VDF</td>\n",
       "      <td>591.681462</td>\n",
       "      <td>682.000732</td>\n",
       "      <td>647.955671</td>\n",
       "      <td>673.0</td>\n",
       "    </tr>\n",
       "    <tr>\n",
       "      <th>16</th>\n",
       "      <td>2017-05-12_7C-40per_3C_CH38_VDF</td>\n",
       "      <td>591.681462</td>\n",
       "      <td>622.327435</td>\n",
       "      <td>617.200647</td>\n",
       "      <td>618.0</td>\n",
       "    </tr>\n",
       "    <tr>\n",
       "      <th>17</th>\n",
       "      <td>2017-05-12_7C-40per_3_6C_CH42_VDF</td>\n",
       "      <td>591.681462</td>\n",
       "      <td>552.370466</td>\n",
       "      <td>562.613568</td>\n",
       "      <td>589.0</td>\n",
       "    </tr>\n",
       "    <tr>\n",
       "      <th>18</th>\n",
       "      <td>2017-05-12_8C-15per_3_6C_CH44_VDF</td>\n",
       "      <td>591.681462</td>\n",
       "      <td>860.550675</td>\n",
       "      <td>847.560888</td>\n",
       "      <td>1001.0</td>\n",
       "    </tr>\n",
       "    <tr>\n",
       "      <th>19</th>\n",
       "      <td>2017-05-12_8C-25per_3_6C_CH46_VDF</td>\n",
       "      <td>591.681462</td>\n",
       "      <td>641.539352</td>\n",
       "      <td>614.672684</td>\n",
       "      <td>623.0</td>\n",
       "    </tr>\n",
       "    <tr>\n",
       "      <th>20</th>\n",
       "      <td>2017-05-12_8C-35per_3_6C_CH48_VDF</td>\n",
       "      <td>591.681462</td>\n",
       "      <td>504.628717</td>\n",
       "      <td>511.744113</td>\n",
       "      <td>559.0</td>\n",
       "    </tr>\n",
       "    <tr>\n",
       "      <th>21</th>\n",
       "      <td>2017-06-30_2C-10per_6C_CH10_VDF</td>\n",
       "      <td>591.681462</td>\n",
       "      <td>218.401233</td>\n",
       "      <td>340.839143</td>\n",
       "      <td>135.0</td>\n",
       "    </tr>\n",
       "    <tr>\n",
       "      <th>22</th>\n",
       "      <td>2017-06-30_2C-7per_5_5C_CH12_VDF</td>\n",
       "      <td>591.681462</td>\n",
       "      <td>299.039156</td>\n",
       "      <td>313.392629</td>\n",
       "      <td>312.0</td>\n",
       "    </tr>\n",
       "    <tr>\n",
       "      <th>23</th>\n",
       "      <td>2017-06-30_3_6C-2per_4_85C_CH14_VDF</td>\n",
       "      <td>591.681462</td>\n",
       "      <td>578.636139</td>\n",
       "      <td>543.610540</td>\n",
       "      <td>460.0</td>\n",
       "    </tr>\n",
       "    <tr>\n",
       "      <th>24</th>\n",
       "      <td>2017-06-30_3_6C-9per_5C_CH16_VDF</td>\n",
       "      <td>591.681462</td>\n",
       "      <td>557.380259</td>\n",
       "      <td>534.065966</td>\n",
       "      <td>532.0</td>\n",
       "    </tr>\n",
       "    <tr>\n",
       "      <th>25</th>\n",
       "      <td>2017-06-30_4C-31per_5_5C_CH28_VDF</td>\n",
       "      <td>591.681462</td>\n",
       "      <td>441.954460</td>\n",
       "      <td>440.340585</td>\n",
       "      <td>432.0</td>\n",
       "    </tr>\n",
       "    <tr>\n",
       "      <th>26</th>\n",
       "      <td>2017-06-30_4C-4per_4_85C_CH30_VDF</td>\n",
       "      <td>591.681462</td>\n",
       "      <td>528.262013</td>\n",
       "      <td>532.157029</td>\n",
       "      <td>462.0</td>\n",
       "    </tr>\n",
       "    <tr>\n",
       "      <th>27</th>\n",
       "      <td>2017-06-30_4_4C-47per_5_5C_CH18_VDF</td>\n",
       "      <td>591.681462</td>\n",
       "      <td>398.897776</td>\n",
       "      <td>392.295519</td>\n",
       "      <td>465.0</td>\n",
       "    </tr>\n",
       "    <tr>\n",
       "      <th>28</th>\n",
       "      <td>2017-06-30_4_4C-8per_4_85C_CH20_VDF</td>\n",
       "      <td>591.681462</td>\n",
       "      <td>601.956135</td>\n",
       "      <td>604.233887</td>\n",
       "      <td>472.0</td>\n",
       "    </tr>\n",
       "    <tr>\n",
       "      <th>29</th>\n",
       "      <td>2017-06-30_4_65C-44per_5C_CH22_VDF</td>\n",
       "      <td>591.681462</td>\n",
       "      <td>507.779324</td>\n",
       "      <td>524.927219</td>\n",
       "      <td>486.0</td>\n",
       "    </tr>\n",
       "    <tr>\n",
       "      <th>30</th>\n",
       "      <td>2017-06-30_4_8C-80per_4_8C_CH4_VDF</td>\n",
       "      <td>591.681462</td>\n",
       "      <td>626.157792</td>\n",
       "      <td>578.333405</td>\n",
       "      <td>475.0</td>\n",
       "    </tr>\n",
       "    <tr>\n",
       "      <th>31</th>\n",
       "      <td>2017-06-30_4_8C-80per_4_8C_CH8_VDF</td>\n",
       "      <td>591.681462</td>\n",
       "      <td>428.889855</td>\n",
       "      <td>442.816127</td>\n",
       "      <td>447.0</td>\n",
       "    </tr>\n",
       "    <tr>\n",
       "      <th>32</th>\n",
       "      <td>2017-06-30_4_9C-61per_4_5C_CH25_VDF</td>\n",
       "      <td>591.681462</td>\n",
       "      <td>626.567824</td>\n",
       "      <td>598.719155</td>\n",
       "      <td>487.0</td>\n",
       "    </tr>\n",
       "    <tr>\n",
       "      <th>33</th>\n",
       "      <td>2017-06-30_5_2C-10per_4_75C_CH31_VDF</td>\n",
       "      <td>591.681462</td>\n",
       "      <td>552.985061</td>\n",
       "      <td>532.441053</td>\n",
       "      <td>462.0</td>\n",
       "    </tr>\n",
       "    <tr>\n",
       "      <th>34</th>\n",
       "      <td>2017-06-30_5_2C-50per_4_25C_CH33_VDF</td>\n",
       "      <td>591.681462</td>\n",
       "      <td>586.435191</td>\n",
       "      <td>576.642818</td>\n",
       "      <td>496.0</td>\n",
       "    </tr>\n",
       "    <tr>\n",
       "      <th>35</th>\n",
       "      <td>2017-06-30_5_2C-66per_3_5C_CH35_VDF</td>\n",
       "      <td>591.681462</td>\n",
       "      <td>644.523315</td>\n",
       "      <td>611.701572</td>\n",
       "      <td>479.0</td>\n",
       "    </tr>\n",
       "    <tr>\n",
       "      <th>36</th>\n",
       "      <td>2017-06-30_5_6C-25per_4_5C_CH37_VDF</td>\n",
       "      <td>591.681462</td>\n",
       "      <td>556.382672</td>\n",
       "      <td>579.236880</td>\n",
       "      <td>508.0</td>\n",
       "    </tr>\n",
       "    <tr>\n",
       "      <th>37</th>\n",
       "      <td>2017-06-30_5_6C-47per_4C_CH39_VDF</td>\n",
       "      <td>591.681462</td>\n",
       "      <td>500.753065</td>\n",
       "      <td>480.388607</td>\n",
       "      <td>448.0</td>\n",
       "    </tr>\n",
       "    <tr>\n",
       "      <th>38</th>\n",
       "      <td>2017-06-30_5_6C-5per_4_75C_CH41_VDF</td>\n",
       "      <td>591.681462</td>\n",
       "      <td>439.472540</td>\n",
       "      <td>457.509343</td>\n",
       "      <td>472.0</td>\n",
       "    </tr>\n",
       "    <tr>\n",
       "      <th>39</th>\n",
       "      <td>2017-06-30_6C-20per_4_5C_CH43_VDF</td>\n",
       "      <td>591.681462</td>\n",
       "      <td>462.487518</td>\n",
       "      <td>469.316676</td>\n",
       "      <td>441.0</td>\n",
       "    </tr>\n",
       "    <tr>\n",
       "      <th>40</th>\n",
       "      <td>2017-06-30_6C-40per_4C_CH45_VDF</td>\n",
       "      <td>591.681462</td>\n",
       "      <td>501.417250</td>\n",
       "      <td>485.286827</td>\n",
       "      <td>438.0</td>\n",
       "    </tr>\n",
       "    <tr>\n",
       "      <th>41</th>\n",
       "      <td>2017-06-30_6C-52per_3_5C_CH47_VDF</td>\n",
       "      <td>591.681462</td>\n",
       "      <td>480.483806</td>\n",
       "      <td>464.188366</td>\n",
       "      <td>414.0</td>\n",
       "    </tr>\n",
       "    <tr>\n",
       "      <th>42</th>\n",
       "      <td>2017-06-30_6C-60per_3C_CH48_VDF</td>\n",
       "      <td>591.681462</td>\n",
       "      <td>805.151680</td>\n",
       "      <td>672.343116</td>\n",
       "      <td>699.0</td>\n",
       "    </tr>\n",
       "  </tbody>\n",
       "</table>\n",
       "</div>"
      ],
      "text/plain": [
       "                                    Name  Dummy Predicted cycle life  \\\n",
       "0     2017-05-12_3_6C-80per_3_6C_CH1_VDF                  591.681462   \n",
       "1     2017-05-12_3_6C-80per_3_6C_CH3_VDF                  591.681462   \n",
       "2         2017-05-12_4C-80per_4C_CH6_VDF                  591.681462   \n",
       "3    2017-05-12_4_8C-80per_4_8C_CH10_VDF                  591.681462   \n",
       "4    2017-05-12_5_4C-40per_3_6C_CH20_VDF                  591.681462   \n",
       "5      2017-05-12_5_4C-60per_3C_CH15_VDF                  591.681462   \n",
       "6    2017-05-12_5_4C-60per_3_6C_CH23_VDF                  591.681462   \n",
       "7      2017-05-12_5_4C-70per_3C_CH17_VDF                  591.681462   \n",
       "8    2017-05-12_5_4C-80per_5_4C_CH11_VDF                  591.681462   \n",
       "9      2017-05-12_6C-30per_3_6C_CH32_VDF                  591.681462   \n",
       "10       2017-05-12_6C-40per_3C_CH26_VDF                  591.681462   \n",
       "11     2017-05-12_6C-40per_3_6C_CH34_VDF                  591.681462   \n",
       "12       2017-05-12_6C-50per_3C_CH28_VDF                  591.681462   \n",
       "13     2017-05-12_6C-50per_3_6C_CH36_VDF                  591.681462   \n",
       "14       2017-05-12_6C-60per_3C_CH30_VDF                  591.681462   \n",
       "15     2017-05-12_7C-30per_3_6C_CH40_VDF                  591.681462   \n",
       "16       2017-05-12_7C-40per_3C_CH38_VDF                  591.681462   \n",
       "17     2017-05-12_7C-40per_3_6C_CH42_VDF                  591.681462   \n",
       "18     2017-05-12_8C-15per_3_6C_CH44_VDF                  591.681462   \n",
       "19     2017-05-12_8C-25per_3_6C_CH46_VDF                  591.681462   \n",
       "20     2017-05-12_8C-35per_3_6C_CH48_VDF                  591.681462   \n",
       "21       2017-06-30_2C-10per_6C_CH10_VDF                  591.681462   \n",
       "22      2017-06-30_2C-7per_5_5C_CH12_VDF                  591.681462   \n",
       "23   2017-06-30_3_6C-2per_4_85C_CH14_VDF                  591.681462   \n",
       "24      2017-06-30_3_6C-9per_5C_CH16_VDF                  591.681462   \n",
       "25     2017-06-30_4C-31per_5_5C_CH28_VDF                  591.681462   \n",
       "26     2017-06-30_4C-4per_4_85C_CH30_VDF                  591.681462   \n",
       "27   2017-06-30_4_4C-47per_5_5C_CH18_VDF                  591.681462   \n",
       "28   2017-06-30_4_4C-8per_4_85C_CH20_VDF                  591.681462   \n",
       "29    2017-06-30_4_65C-44per_5C_CH22_VDF                  591.681462   \n",
       "30    2017-06-30_4_8C-80per_4_8C_CH4_VDF                  591.681462   \n",
       "31    2017-06-30_4_8C-80per_4_8C_CH8_VDF                  591.681462   \n",
       "32   2017-06-30_4_9C-61per_4_5C_CH25_VDF                  591.681462   \n",
       "33  2017-06-30_5_2C-10per_4_75C_CH31_VDF                  591.681462   \n",
       "34  2017-06-30_5_2C-50per_4_25C_CH33_VDF                  591.681462   \n",
       "35   2017-06-30_5_2C-66per_3_5C_CH35_VDF                  591.681462   \n",
       "36   2017-06-30_5_6C-25per_4_5C_CH37_VDF                  591.681462   \n",
       "37     2017-06-30_5_6C-47per_4C_CH39_VDF                  591.681462   \n",
       "38   2017-06-30_5_6C-5per_4_75C_CH41_VDF                  591.681462   \n",
       "39     2017-06-30_6C-20per_4_5C_CH43_VDF                  591.681462   \n",
       "40       2017-06-30_6C-40per_4C_CH45_VDF                  591.681462   \n",
       "41     2017-06-30_6C-52per_3_5C_CH47_VDF                  591.681462   \n",
       "42       2017-06-30_6C-60per_3C_CH48_VDF                  591.681462   \n",
       "\n",
       "    Severson variance Predicted cycle life  \\\n",
       "0                              1588.813740   \n",
       "1                              1842.853624   \n",
       "2                              1436.544717   \n",
       "3                               727.764791   \n",
       "4                               863.158203   \n",
       "5                               875.847022   \n",
       "6                               912.632674   \n",
       "7                               602.652087   \n",
       "8                               469.410828   \n",
       "9                               836.445801   \n",
       "10                              836.712531   \n",
       "11                              738.777698   \n",
       "12                              711.157892   \n",
       "13                              675.320311   \n",
       "14                              613.771461   \n",
       "15                              682.000732   \n",
       "16                              622.327435   \n",
       "17                              552.370466   \n",
       "18                              860.550675   \n",
       "19                              641.539352   \n",
       "20                              504.628717   \n",
       "21                              218.401233   \n",
       "22                              299.039156   \n",
       "23                              578.636139   \n",
       "24                              557.380259   \n",
       "25                              441.954460   \n",
       "26                              528.262013   \n",
       "27                              398.897776   \n",
       "28                              601.956135   \n",
       "29                              507.779324   \n",
       "30                              626.157792   \n",
       "31                              428.889855   \n",
       "32                              626.567824   \n",
       "33                              552.985061   \n",
       "34                              586.435191   \n",
       "35                              644.523315   \n",
       "36                              556.382672   \n",
       "37                              500.753065   \n",
       "38                              439.472540   \n",
       "39                              462.487518   \n",
       "40                              501.417250   \n",
       "41                              480.483806   \n",
       "42                              805.151680   \n",
       "\n",
       "    Severson discharge Predicted cycle life  Actual cycle life  \n",
       "0                               1507.547058             1759.0  \n",
       "1                               1798.889673             2150.0  \n",
       "2                               1364.130185             1612.0  \n",
       "3                                742.168201              609.0  \n",
       "4                                876.684053             1006.0  \n",
       "5                                837.355192              839.0  \n",
       "6                                893.756137              820.0  \n",
       "7                                574.952546              661.0  \n",
       "8                                471.096423              502.0  \n",
       "9                                812.178830              971.0  \n",
       "10                               819.029011              813.0  \n",
       "11                               753.006307              807.0  \n",
       "12                               703.238763              867.0  \n",
       "13                               726.953462              824.0  \n",
       "14                               647.763092              704.0  \n",
       "15                               647.955671              673.0  \n",
       "16                               617.200647              618.0  \n",
       "17                               562.613568              589.0  \n",
       "18                               847.560888             1001.0  \n",
       "19                               614.672684              623.0  \n",
       "20                               511.744113              559.0  \n",
       "21                               340.839143              135.0  \n",
       "22                               313.392629              312.0  \n",
       "23                               543.610540              460.0  \n",
       "24                               534.065966              532.0  \n",
       "25                               440.340585              432.0  \n",
       "26                               532.157029              462.0  \n",
       "27                               392.295519              465.0  \n",
       "28                               604.233887              472.0  \n",
       "29                               524.927219              486.0  \n",
       "30                               578.333405              475.0  \n",
       "31                               442.816127              447.0  \n",
       "32                               598.719155              487.0  \n",
       "33                               532.441053              462.0  \n",
       "34                               576.642818              496.0  \n",
       "35                               611.701572              479.0  \n",
       "36                               579.236880              508.0  \n",
       "37                               480.388607              448.0  \n",
       "38                               457.509343              472.0  \n",
       "39                               469.316676              441.0  \n",
       "40                               485.286827              438.0  \n",
       "41                               464.188366              414.0  \n",
       "42                               672.343116              699.0  "
      ]
     },
     "execution_count": 17,
     "metadata": {},
     "output_type": "execute_result"
    }
   ],
   "source": [
    "train_vs_test = \"test\"\n",
    "\n",
    "prediction1.return_prediction_dataframes(train_vs_test)"
   ]
  },
  {
   "cell_type": "markdown",
   "id": "3347d5f2-ee9d-4a19-9d29-f8c4af634d53",
   "metadata": {},
   "source": [
    "#### Select Prediction dataset, and predict cycle lives"
   ]
  },
  {
   "cell_type": "code",
   "execution_count": 18,
   "id": "67a927b8-d9a9-4f55-8406-01f85df37861",
   "metadata": {
    "tags": []
   },
   "outputs": [
    {
     "data": {
      "text/markdown": [
       "#### Search for test records to add to Prediction dataset"
      ],
      "text/plain": [
       "<IPython.core.display.Markdown object>"
      ]
     },
     "metadata": {},
     "output_type": "display_data"
    },
    {
     "data": {
      "text/markdown": [
       "Filtering tests by capacity retention is slow; check kernel status for update on completion."
      ],
      "text/plain": [
       "<IPython.core.display.Markdown object>"
      ]
     },
     "metadata": {},
     "output_type": "display_data"
    },
    {
     "data": {
      "application/vnd.jupyter.widget-view+json": {
       "model_id": "59787852ae41437e90e2edb1f5b35670",
       "version_major": 2,
       "version_minor": 0
      },
      "text/plain": [
       "interactive(children=(SelectMultiple(description='Prediction Datasets:', options=('Severson2019 - All (LFP)', …"
      ]
     },
     "metadata": {},
     "output_type": "display_data"
    },
    {
     "data": {
      "application/vnd.jupyter.widget-view+json": {
       "model_id": "b0fe5691f83c490bb3f8d04500f4dcb3",
       "version_major": 2,
       "version_minor": 0
      },
      "text/plain": [
       "Button(button_style='danger', description='Predict Lifetime', disabled=True, style=ButtonStyle(button_color='#…"
      ]
     },
     "metadata": {},
     "output_type": "display_data"
    },
    {
     "data": {
      "application/vnd.jupyter.widget-view+json": {
       "model_id": "f54e8eea2de24863af8df3432b8ed5c7",
       "version_major": 2,
       "version_minor": 0
      },
      "text/plain": [
       "Output()"
      ]
     },
     "metadata": {},
     "output_type": "display_data"
    }
   ],
   "source": [
    "# next step is to allow users to select data for prediction. That needs to be featurized (but no y-values) and then the CL values can be predicted and shared (how to visualize...?)\n",
    "\n",
    "predict_model_predict = widgets.Button(description = 'Predict Lifetime', button_style = 'danger', style={\"button_color\": \"#38adad\"}, disabled = True)\n",
    "\n",
    "display(Markdown(\"#### Search for test records to add to Prediction dataset\"))\n",
    "display(Markdown(\"Filtering tests by capacity retention is slow; check kernel status for update on completion.\"))\n",
    "# search_type = widgets.RadioButtons(options=['Test Name','Min Cycle Number','Both'],\n",
    "#                                     disabled=False)\n",
    "# Want to add in some search criteria here: min cycle number (if blank, ignore), min capacity retention\n",
    "\n",
    "select_predict = interactive(cpw.select_widget, \n",
    "                           train_sets = widgets.SelectMultiple(value=[], options=cpw.std_train_datasets, description=f'Prediction Datasets:',style={'description_width': 'initial'}, ensure_option=True),\n",
    "                          train_or_test=fixed('predict'), pred_obj = fixed(prediction1), trs = fixed(trs), predict_button = fixed(predict_model_predict))\n",
    "\n",
    "# interactive(cpw.custom_select, filter_by_cap_retention = widgets.Checkbox(value=False,description='Filter tests by capacity retention threshold',\n",
    "#                                                                                          style={'description_width': 'initial'}),\n",
    "#                            min_cyc_num = widgets.IntText(description = 'Minimum # of cycles:',style={'description_width': 'initial'}, value = prediction1.get_end_cycle()+1),\n",
    "#                            other_search_text = widgets.Text(\n",
    "#                 value = prediction1.get_last_custom_search(),description='Test name search:', \n",
    "#                 style={'description_width': 'initial'},continuous_update=False),\n",
    "#                                      train_or_test=fixed('predict'), prediction1 = fixed(prediction1),\n",
    "#                                      trs = fixed(trs),predict_button = fixed(predict_model_predict))\n",
    "\n",
    "output = widgets.Output()\n",
    "\n",
    "display(select_predict,predict_model_predict, output)\n",
    "    \n",
    "        \n",
    "def pred_model_predict(b):\n",
    "    ''' function that will predict CL on prediction data. returns a plot of predicted cycle life'''\n",
    "    with output:\n",
    "        cpw.populate_test_train_data(prediction1, trs, predict = True)\n",
    "        print(\"Starting featurization...\")\n",
    "        prediction1.featurize_predict(trs)\n",
    "        print(\"Featurization complete!\")\n",
    "        prediction1.predict()\n",
    "        prediction1.calc_predicted_cyclelife()\n",
    "        prediction_df, time_pred_df = prediction1.return_predicted_cyclelife()\n",
    "        log_scale = max(prediction_df.drop(columns = ['Name','Current cycle']).max()) > 10*(max(prediction_df['Current cycle']))\n",
    "        prediction_df.set_index('Name').plot.barh(figsize=(10, len(prediction_df)/1.2), width = .8, logx = log_scale)\n",
    "        plt.xlabel('Cycles')\n",
    "        plt.title(\"Predicted cycle life by ML model for each test\")\n",
    "        plt.show()\n",
    "        \n",
    "        # want to only show predicted time to failure for tests that have not already 'failed'\n",
    "        # so I want to add a filter criteria based on prediction_df\n",
    "        if len(time_pred_df) >0:\n",
    "            print(\"Predicted time remaining (hours) based on each ML model for tests which have not yet reached the capacity retention threshold\")\n",
    "            log_scale_time = max(time_pred_df.drop(columns = ['Name']).max()) > 10*(min(time_pred_df[time_pred_df.drop(columns = ['Name']) > 0].drop(columns = ['Name']).min()))\n",
    "\n",
    "            time_pred_df.set_index('Name').plot.barh(figsize=(10, len(time_pred_df)/1.2),width = .8, logx = log_scale_time)\n",
    "            plt.xlabel('Predicted Hours until Failure')\n",
    "    #         plt.title\n",
    "            plt.show()\n",
    "        else:\n",
    "            print(\"All tests in the Prediction dataset have already reached the set capacity retention threshold\")\n",
    "\n",
    "predict_model_predict.on_click(pred_model_predict)\n"
   ]
  },
  {
   "cell_type": "markdown",
   "id": "6852399e-5ffc-4ff2-b818-ade36708f17e",
   "metadata": {},
   "source": [
    "To show the dataframe for prediction data, run the following command:"
   ]
  },
  {
   "cell_type": "code",
   "execution_count": 172,
   "id": "697a2312-a13a-4212-89d5-3d6a3e064a01",
   "metadata": {},
   "outputs": [
    {
     "data": {
      "text/html": [
       "<div>\n",
       "<style scoped>\n",
       "    .dataframe tbody tr th:only-of-type {\n",
       "        vertical-align: middle;\n",
       "    }\n",
       "\n",
       "    .dataframe tbody tr th {\n",
       "        vertical-align: top;\n",
       "    }\n",
       "\n",
       "    .dataframe thead th {\n",
       "        text-align: right;\n",
       "    }\n",
       "</style>\n",
       "<table border=\"1\" class=\"dataframe\">\n",
       "  <thead>\n",
       "    <tr style=\"text-align: right;\">\n",
       "      <th></th>\n",
       "      <th>Name</th>\n",
       "      <th>Dummy Predicted Cycle Life</th>\n",
       "      <th>Severson variance Predicted Cycle Life</th>\n",
       "      <th>Severson discharge Predicted Cycle Life</th>\n",
       "      <th>Current cycle</th>\n",
       "      <th>Cycle to 0.85% capacity retention</th>\n",
       "    </tr>\n",
       "  </thead>\n",
       "  <tbody>\n",
       "    <tr>\n",
       "      <th>0</th>\n",
       "      <td>iPhone_3G_Cycle_split-1.006</td>\n",
       "      <td>591.681462</td>\n",
       "      <td>555.449327</td>\n",
       "      <td>1889.531977</td>\n",
       "      <td>965</td>\n",
       "      <td>0</td>\n",
       "    </tr>\n",
       "    <tr>\n",
       "      <th>1</th>\n",
       "      <td>iPhone_5c_Cycle.008</td>\n",
       "      <td>591.681462</td>\n",
       "      <td>576.651551</td>\n",
       "      <td>3967.651599</td>\n",
       "      <td>2001</td>\n",
       "      <td>0</td>\n",
       "    </tr>\n",
       "    <tr>\n",
       "      <th>2</th>\n",
       "      <td>iPhone_5s_Cycle.007</td>\n",
       "      <td>591.681462</td>\n",
       "      <td>623.245160</td>\n",
       "      <td>5442.949212</td>\n",
       "      <td>2001</td>\n",
       "      <td>0</td>\n",
       "    </tr>\n",
       "  </tbody>\n",
       "</table>\n",
       "</div>"
      ],
      "text/plain": [
       "                          Name  Dummy Predicted Cycle Life  \\\n",
       "0  iPhone_3G_Cycle_split-1.006                  591.681462   \n",
       "1          iPhone_5c_Cycle.008                  591.681462   \n",
       "2          iPhone_5s_Cycle.007                  591.681462   \n",
       "\n",
       "   Severson variance Predicted Cycle Life  \\\n",
       "0                              555.449327   \n",
       "1                              576.651551   \n",
       "2                              623.245160   \n",
       "\n",
       "   Severson discharge Predicted Cycle Life  Current cycle  \\\n",
       "0                              1889.531977            965   \n",
       "1                              3967.651599           2001   \n",
       "2                              5442.949212           2001   \n",
       "\n",
       "   Cycle to 0.85% capacity retention  \n",
       "0                                  0  \n",
       "1                                  0  \n",
       "2                                  0  "
      ]
     },
     "execution_count": 172,
     "metadata": {},
     "output_type": "execute_result"
    }
   ],
   "source": [
    "prediction_df, time_pred_df = prediction1.return_predicted_cyclelife()\n",
    "prediction_df"
   ]
  },
  {
   "cell_type": "code",
   "execution_count": null,
   "id": "aeb516d0-294d-451c-bbb9-12a706b95820",
   "metadata": {},
   "outputs": [],
   "source": []
  }
 ],
 "metadata": {
  "kernelspec": {
   "display_name": "Python 3 (ipykernel)",
   "language": "python",
   "name": "python3"
  },
  "language_info": {
   "codemirror_mode": {
    "name": "ipython",
    "version": 3
   },
   "file_extension": ".py",
   "mimetype": "text/x-python",
   "name": "python",
   "nbconvert_exporter": "python",
   "pygments_lexer": "ipython3",
   "version": "3.9.6"
  }
 },
 "nbformat": 4,
 "nbformat_minor": 5
}
